{
 "cells": [
  {
   "attachments": {},
   "cell_type": "markdown",
   "metadata": {},
   "source": [
    "<center> <img src=https://childrenplus.ru/wp-content/uploads/Vsemirnyy_Den_Nekommercheskikh_Organizatsiy_2021.jpg alt=\"drawing\" style=\"width:400px;\"> "
   ]
  },
  {
   "attachments": {},
   "cell_type": "markdown",
   "id": "829cb75b-f14e-4ba8-9195-7ba929a7d656",
   "metadata": {
    "tags": []
   },
   "source": [
    "# <center> Итоговый проект: Государственные деньги у НКО"
   ]
  },
  {
   "attachments": {},
   "cell_type": "markdown",
   "metadata": {},
   "source": [
    "**Цель проекта** — спрогнозировать вероятность получения грантов от государства/госконтрактов для организации в зависимости от её характеристик.\n",
    "\n",
    "**Задача проекта** — проверить, есть ли зависимость вероятности получения грантов от государства/госконтрактов:\n",
    "* от региона регистрации организации;\n",
    "* от возраста организации;\n",
    "* от экономической деятельности организации."
   ]
  },
  {
   "attachments": {},
   "cell_type": "markdown",
   "metadata": {},
   "source": [
    "Разделим эту задачу на две части:\n",
    "* В первой части мы ознакомимся с данными и очистим их от пропусков, выбросов и дубликатов.\n",
    "\n",
    "* Во второй части мы проведем разведывательный анализ данных, займемся построением моделей, сравним их результаты и сделаем финальный вывод."
   ]
  },
  {
   "cell_type": "code",
   "execution_count": 1,
   "metadata": {},
   "outputs": [],
   "source": [
    "# импорт библиотек\n",
    "import json \n",
    "import glob \n",
    "import pandas as pd \n",
    "import numpy as np\n",
    "from numpy.random import rand\n",
    "import matplotlib.pyplot as plt\n",
    "import seaborn as sns\n",
    "import plotly.express as px\n",
    "from plotly.subplots import make_subplots \n",
    "\n",
    "import scipy\n",
    "from scipy.stats import shapiro\n",
    "from scipy.stats import normaltest\n",
    "import scipy.stats as stats\n",
    "\n",
    "from  sklearn.ensemble import IsolationForest\n",
    "import warnings\n",
    "warnings.filterwarnings('ignore')\n",
    "from sklearn.preprocessing  import LabelEncoder\n",
    "import category_encoders as ce \n",
    "from sklearn import linear_model\n",
    "from sklearn import tree\n",
    "from sklearn import ensemble\n",
    "from sklearn import metrics\n",
    "from sklearn.metrics import accuracy_score\n",
    "from sklearn import preprocessing\n",
    "from sklearn.model_selection import train_test_split\n",
    "from sklearn.feature_selection import SelectKBest, f_classif\n",
    "from sklearn.preprocessing import MinMaxScaler\n",
    "from sklearn.model_selection import GridSearchCV\n",
    "from sklearn.model_selection import RandomizedSearchCV\n",
    "from sklearn.model_selection import cross_val_score\n",
    "from imblearn.over_sampling import SMOTE\n",
    "import optuna\n",
    "import pickle\n",
    "import joblib"
   ]
  },
  {
   "attachments": {},
   "cell_type": "markdown",
   "id": "0dc6476b-7a00-44f1-ac93-6e3baed33a29",
   "metadata": {},
   "source": [
    "# Базовый анализ и знакомство с данными"
   ]
  },
  {
   "cell_type": "code",
   "execution_count": 2,
   "metadata": {},
   "outputs": [],
   "source": [
    "# Get data file names\n",
    "path = r'data'\n",
    "filenames = glob.glob(path + \"/*.json\")\n",
    "\n",
    "dfs = []\n",
    "for filename in filenames:\n",
    "    dfs.append(pd.read_json(filename, lines = True))\n",
    "\n",
    "# Concatenate all data into one DataFrame\n",
    "main_df = pd.concat(dfs, ignore_index=True)"
   ]
  },
  {
   "cell_type": "code",
   "execution_count": 3,
   "metadata": {},
   "outputs": [],
   "source": [
    "#main_df.to_csv('data/main_df.csv', index=False)\n",
    "#main_df = pd.read_csv('data/main_df.csv')"
   ]
  },
  {
   "cell_type": "code",
   "execution_count": 4,
   "metadata": {},
   "outputs": [
    {
     "data": {
      "text/html": [
       "<div>\n",
       "<style scoped>\n",
       "    .dataframe tbody tr th:only-of-type {\n",
       "        vertical-align: middle;\n",
       "    }\n",
       "\n",
       "    .dataframe tbody tr th {\n",
       "        vertical-align: top;\n",
       "    }\n",
       "\n",
       "    .dataframe thead th {\n",
       "        text-align: right;\n",
       "    }\n",
       "</style>\n",
       "<table border=\"1\" class=\"dataframe\">\n",
       "  <thead>\n",
       "    <tr style=\"text-align: right;\">\n",
       "      <th></th>\n",
       "      <th>minjustRegNum</th>\n",
       "      <th>regionName</th>\n",
       "      <th>logo</th>\n",
       "      <th>statusDetail</th>\n",
       "      <th>fullName</th>\n",
       "      <th>dateReg</th>\n",
       "      <th>minjustForm</th>\n",
       "      <th>charter</th>\n",
       "      <th>minjustStatus</th>\n",
       "      <th>ogrn</th>\n",
       "      <th>...</th>\n",
       "      <th>hasRegionalSupport</th>\n",
       "      <th>addOkved</th>\n",
       "      <th>okato</th>\n",
       "      <th>okfs</th>\n",
       "      <th>website_punycode</th>\n",
       "      <th>shortName</th>\n",
       "      <th>dateOgrn</th>\n",
       "      <th>predecessors</th>\n",
       "      <th>socialMedia</th>\n",
       "      <th>reports</th>\n",
       "    </tr>\n",
       "  </thead>\n",
       "  <tbody>\n",
       "    <tr>\n",
       "      <th>0</th>\n",
       "      <td>7814061218</td>\n",
       "      <td>Санкт-Петербург</td>\n",
       "      <td>NaN</td>\n",
       "      <td>{'name': None, 'code': None, 'shortName': 'Дей...</td>\n",
       "      <td>МЕЖРЕГИОНАЛЬНАЯ АНТРОПОСОФСКАЯ МЕДИЦИНСКАЯ АСС...</td>\n",
       "      <td>None</td>\n",
       "      <td>Объединения (союз, ассоциация) юридических лиц</td>\n",
       "      <td>NaN</td>\n",
       "      <td>Зарегистрирована</td>\n",
       "      <td>1207800141790</td>\n",
       "      <td>...</td>\n",
       "      <td>False</td>\n",
       "      <td>[]</td>\n",
       "      <td>{'name': None, 'code': None}</td>\n",
       "      <td>{'name': None, 'code': None}</td>\n",
       "      <td>None</td>\n",
       "      <td>\"АМА\"</td>\n",
       "      <td>{'$date': '2020-10-30T00:00:00.000Z'}</td>\n",
       "      <td>[]</td>\n",
       "      <td>{'youtube': None, 'vk': None, 'facebook': None...</td>\n",
       "      <td>[]</td>\n",
       "    </tr>\n",
       "    <tr>\n",
       "      <th>1</th>\n",
       "      <td>7714017452</td>\n",
       "      <td>Москва</td>\n",
       "      <td>NaN</td>\n",
       "      <td>{'name': None, 'code': None, 'shortName': 'Дей...</td>\n",
       "      <td>ФОНД \"СОДЕЙСТВИЕ ДУХОВНОМУ РАЗВИТИЮ ЧЕЛОВЕКА \"...</td>\n",
       "      <td>None</td>\n",
       "      <td>Некоммерческий фонд</td>\n",
       "      <td>NaN</td>\n",
       "      <td>Зарегистрирована</td>\n",
       "      <td>1207700349152</td>\n",
       "      <td>...</td>\n",
       "      <td>False</td>\n",
       "      <td>[{'name': 'Издание книг', 'code': '58.11', 've...</td>\n",
       "      <td>{'name': None, 'code': None}</td>\n",
       "      <td>{'name': None, 'code': None}</td>\n",
       "      <td>None</td>\n",
       "      <td>ФОНД \"УНИВЕРСАЛИСТ М\"</td>\n",
       "      <td>{'$date': '2020-09-23T00:00:00.000Z'}</td>\n",
       "      <td>[]</td>\n",
       "      <td>{'youtube': None, 'vk': None, 'facebook': None...</td>\n",
       "      <td>[{'localUrl': 'http://cdnx.h5.crftr.net/f/4,18...</td>\n",
       "    </tr>\n",
       "    <tr>\n",
       "      <th>2</th>\n",
       "      <td>7814170160</td>\n",
       "      <td>Санкт-Петербург</td>\n",
       "      <td>NaN</td>\n",
       "      <td>{'name': None, 'code': None, 'shortName': 'Дей...</td>\n",
       "      <td>КОЛЛЕГИЯ АДВОКАТОВ \"САНКТ-ПЕТЕРБУРГСКАЯ КОЛЛЕГ...</td>\n",
       "      <td>None</td>\n",
       "      <td>Коллегия адвокатов</td>\n",
       "      <td>NaN</td>\n",
       "      <td>Зарегистрирована</td>\n",
       "      <td>1207800011430</td>\n",
       "      <td>...</td>\n",
       "      <td>False</td>\n",
       "      <td>[]</td>\n",
       "      <td>{'name': None, 'code': None}</td>\n",
       "      <td>{'name': None, 'code': None}</td>\n",
       "      <td>None</td>\n",
       "      <td>None</td>\n",
       "      <td>{'$date': '2020-02-03T00:00:00.000Z'}</td>\n",
       "      <td>[]</td>\n",
       "      <td>{'youtube': None, 'vk': None, 'facebook': None...</td>\n",
       "      <td>[]</td>\n",
       "    </tr>\n",
       "  </tbody>\n",
       "</table>\n",
       "<p>3 rows × 38 columns</p>\n",
       "</div>"
      ],
      "text/plain": [
       "  minjustRegNum       regionName  logo  \\\n",
       "0    7814061218  Санкт-Петербург   NaN   \n",
       "1    7714017452           Москва   NaN   \n",
       "2    7814170160  Санкт-Петербург   NaN   \n",
       "\n",
       "                                        statusDetail  \\\n",
       "0  {'name': None, 'code': None, 'shortName': 'Дей...   \n",
       "1  {'name': None, 'code': None, 'shortName': 'Дей...   \n",
       "2  {'name': None, 'code': None, 'shortName': 'Дей...   \n",
       "\n",
       "                                            fullName dateReg  \\\n",
       "0  МЕЖРЕГИОНАЛЬНАЯ АНТРОПОСОФСКАЯ МЕДИЦИНСКАЯ АСС...    None   \n",
       "1  ФОНД \"СОДЕЙСТВИЕ ДУХОВНОМУ РАЗВИТИЮ ЧЕЛОВЕКА \"...    None   \n",
       "2  КОЛЛЕГИЯ АДВОКАТОВ \"САНКТ-ПЕТЕРБУРГСКАЯ КОЛЛЕГ...    None   \n",
       "\n",
       "                                      minjustForm  charter     minjustStatus  \\\n",
       "0  Объединения (союз, ассоциация) юридических лиц      NaN  Зарегистрирована   \n",
       "1                             Некоммерческий фонд      NaN  Зарегистрирована   \n",
       "2                              Коллегия адвокатов      NaN  Зарегистрирована   \n",
       "\n",
       "            ogrn  ... hasRegionalSupport  \\\n",
       "0  1207800141790  ...              False   \n",
       "1  1207700349152  ...              False   \n",
       "2  1207800011430  ...              False   \n",
       "\n",
       "                                            addOkved  \\\n",
       "0                                                 []   \n",
       "1  [{'name': 'Издание книг', 'code': '58.11', 've...   \n",
       "2                                                 []   \n",
       "\n",
       "                          okato                          okfs  \\\n",
       "0  {'name': None, 'code': None}  {'name': None, 'code': None}   \n",
       "1  {'name': None, 'code': None}  {'name': None, 'code': None}   \n",
       "2  {'name': None, 'code': None}  {'name': None, 'code': None}   \n",
       "\n",
       "   website_punycode              shortName  \\\n",
       "0              None                  \"АМА\"   \n",
       "1              None  ФОНД \"УНИВЕРСАЛИСТ М\"   \n",
       "2              None                   None   \n",
       "\n",
       "                                dateOgrn predecessors  \\\n",
       "0  {'$date': '2020-10-30T00:00:00.000Z'}           []   \n",
       "1  {'$date': '2020-09-23T00:00:00.000Z'}           []   \n",
       "2  {'$date': '2020-02-03T00:00:00.000Z'}           []   \n",
       "\n",
       "                                         socialMedia  \\\n",
       "0  {'youtube': None, 'vk': None, 'facebook': None...   \n",
       "1  {'youtube': None, 'vk': None, 'facebook': None...   \n",
       "2  {'youtube': None, 'vk': None, 'facebook': None...   \n",
       "\n",
       "                                             reports  \n",
       "0                                                 []  \n",
       "1  [{'localUrl': 'http://cdnx.h5.crftr.net/f/4,18...  \n",
       "2                                                 []  \n",
       "\n",
       "[3 rows x 38 columns]"
      ]
     },
     "metadata": {},
     "output_type": "display_data"
    },
    {
     "data": {
      "text/html": [
       "<div>\n",
       "<style scoped>\n",
       "    .dataframe tbody tr th:only-of-type {\n",
       "        vertical-align: middle;\n",
       "    }\n",
       "\n",
       "    .dataframe tbody tr th {\n",
       "        vertical-align: top;\n",
       "    }\n",
       "\n",
       "    .dataframe thead th {\n",
       "        text-align: right;\n",
       "    }\n",
       "</style>\n",
       "<table border=\"1\" class=\"dataframe\">\n",
       "  <thead>\n",
       "    <tr style=\"text-align: right;\">\n",
       "      <th></th>\n",
       "      <th>minjustRegNum</th>\n",
       "      <th>regionName</th>\n",
       "      <th>logo</th>\n",
       "      <th>statusDetail</th>\n",
       "      <th>fullName</th>\n",
       "      <th>dateReg</th>\n",
       "      <th>minjustForm</th>\n",
       "      <th>charter</th>\n",
       "      <th>minjustStatus</th>\n",
       "      <th>ogrn</th>\n",
       "      <th>...</th>\n",
       "      <th>hasRegionalSupport</th>\n",
       "      <th>addOkved</th>\n",
       "      <th>okato</th>\n",
       "      <th>okfs</th>\n",
       "      <th>website_punycode</th>\n",
       "      <th>shortName</th>\n",
       "      <th>dateOgrn</th>\n",
       "      <th>predecessors</th>\n",
       "      <th>socialMedia</th>\n",
       "      <th>reports</th>\n",
       "    </tr>\n",
       "  </thead>\n",
       "  <tbody>\n",
       "    <tr>\n",
       "      <th>747031</th>\n",
       "      <td>None</td>\n",
       "      <td>Ханты-Мансийский автономный округ - Югра</td>\n",
       "      <td>NaN</td>\n",
       "      <td>{'name': None, 'code': None, 'shortName': 'Дей...</td>\n",
       "      <td>СОВЕТ САМОУПРАВЛЕНИЯ МИКРОРАЙОНА \"А\"</td>\n",
       "      <td>{'$date': '1998-01-01T00:00:00.000Z'}</td>\n",
       "      <td>None</td>\n",
       "      <td>NaN</td>\n",
       "      <td>None</td>\n",
       "      <td>1068602157447</td>\n",
       "      <td>...</td>\n",
       "      <td>False</td>\n",
       "      <td>[]</td>\n",
       "      <td>{'name': None, 'code': None}</td>\n",
       "      <td>{'name': None, 'code': None}</td>\n",
       "      <td>None</td>\n",
       "      <td>СОВЕТ САМОУПРАВЛЕНИЯ МИКРОРАЙОНА \"А\"</td>\n",
       "      <td>{'$date': '2006-10-11T00:00:00.000Z'}</td>\n",
       "      <td>[]</td>\n",
       "      <td>{'youtube': None, 'vk': None, 'facebook': None...</td>\n",
       "      <td>[]</td>\n",
       "    </tr>\n",
       "    <tr>\n",
       "      <th>747032</th>\n",
       "      <td>None</td>\n",
       "      <td>Кемеровская область</td>\n",
       "      <td>NaN</td>\n",
       "      <td>{'name': None, 'code': None, 'shortName': 'Дей...</td>\n",
       "      <td>КООПЕРАТИВ РИТУАЛ ПО ОКАЗАНИЮ РИТУАЛЬНЫХ УСЛУГ...</td>\n",
       "      <td>{'$date': '1987-12-05T00:00:00.000Z'}</td>\n",
       "      <td>None</td>\n",
       "      <td>NaN</td>\n",
       "      <td>None</td>\n",
       "      <td>1064202020343</td>\n",
       "      <td>...</td>\n",
       "      <td>False</td>\n",
       "      <td>[]</td>\n",
       "      <td>{'name': None, 'code': None}</td>\n",
       "      <td>{'name': None, 'code': None}</td>\n",
       "      <td>None</td>\n",
       "      <td>None</td>\n",
       "      <td>{'$date': '2006-06-05T00:00:00.000Z'}</td>\n",
       "      <td>[]</td>\n",
       "      <td>{'youtube': None, 'vk': None, 'facebook': None...</td>\n",
       "      <td>[]</td>\n",
       "    </tr>\n",
       "    <tr>\n",
       "      <th>747033</th>\n",
       "      <td>None</td>\n",
       "      <td>Новосибирская область</td>\n",
       "      <td>NaN</td>\n",
       "      <td>{'name': None, 'code': None, 'shortName': 'Дей...</td>\n",
       "      <td>КООПЕРАТИВ ТРАНСПОРТНИК</td>\n",
       "      <td>{'$date': '1990-10-23T00:00:00.000Z'}</td>\n",
       "      <td>None</td>\n",
       "      <td>NaN</td>\n",
       "      <td>None</td>\n",
       "      <td>1065405122408</td>\n",
       "      <td>...</td>\n",
       "      <td>False</td>\n",
       "      <td>[]</td>\n",
       "      <td>{'name': None, 'code': None}</td>\n",
       "      <td>{'name': None, 'code': None}</td>\n",
       "      <td>None</td>\n",
       "      <td>None</td>\n",
       "      <td>{'$date': '2006-07-05T00:00:00.000Z'}</td>\n",
       "      <td>[]</td>\n",
       "      <td>{'youtube': None, 'vk': None, 'facebook': None...</td>\n",
       "      <td>[]</td>\n",
       "    </tr>\n",
       "  </tbody>\n",
       "</table>\n",
       "<p>3 rows × 38 columns</p>\n",
       "</div>"
      ],
      "text/plain": [
       "       minjustRegNum                                regionName  logo  \\\n",
       "747031          None  Ханты-Мансийский автономный округ - Югра   NaN   \n",
       "747032          None                       Кемеровская область   NaN   \n",
       "747033          None                     Новосибирская область   NaN   \n",
       "\n",
       "                                             statusDetail  \\\n",
       "747031  {'name': None, 'code': None, 'shortName': 'Дей...   \n",
       "747032  {'name': None, 'code': None, 'shortName': 'Дей...   \n",
       "747033  {'name': None, 'code': None, 'shortName': 'Дей...   \n",
       "\n",
       "                                                 fullName  \\\n",
       "747031               СОВЕТ САМОУПРАВЛЕНИЯ МИКРОРАЙОНА \"А\"   \n",
       "747032  КООПЕРАТИВ РИТУАЛ ПО ОКАЗАНИЮ РИТУАЛЬНЫХ УСЛУГ...   \n",
       "747033                            КООПЕРАТИВ ТРАНСПОРТНИК   \n",
       "\n",
       "                                      dateReg minjustForm  charter  \\\n",
       "747031  {'$date': '1998-01-01T00:00:00.000Z'}        None      NaN   \n",
       "747032  {'$date': '1987-12-05T00:00:00.000Z'}        None      NaN   \n",
       "747033  {'$date': '1990-10-23T00:00:00.000Z'}        None      NaN   \n",
       "\n",
       "       minjustStatus           ogrn  ... hasRegionalSupport addOkved  \\\n",
       "747031          None  1068602157447  ...              False       []   \n",
       "747032          None  1064202020343  ...              False       []   \n",
       "747033          None  1065405122408  ...              False       []   \n",
       "\n",
       "                               okato                          okfs  \\\n",
       "747031  {'name': None, 'code': None}  {'name': None, 'code': None}   \n",
       "747032  {'name': None, 'code': None}  {'name': None, 'code': None}   \n",
       "747033  {'name': None, 'code': None}  {'name': None, 'code': None}   \n",
       "\n",
       "        website_punycode                             shortName  \\\n",
       "747031              None  СОВЕТ САМОУПРАВЛЕНИЯ МИКРОРАЙОНА \"А\"   \n",
       "747032              None                                  None   \n",
       "747033              None                                  None   \n",
       "\n",
       "                                     dateOgrn predecessors  \\\n",
       "747031  {'$date': '2006-10-11T00:00:00.000Z'}           []   \n",
       "747032  {'$date': '2006-06-05T00:00:00.000Z'}           []   \n",
       "747033  {'$date': '2006-07-05T00:00:00.000Z'}           []   \n",
       "\n",
       "                                              socialMedia  reports  \n",
       "747031  {'youtube': None, 'vk': None, 'facebook': None...       []  \n",
       "747032  {'youtube': None, 'vk': None, 'facebook': None...       []  \n",
       "747033  {'youtube': None, 'vk': None, 'facebook': None...       []  \n",
       "\n",
       "[3 rows x 38 columns]"
      ]
     },
     "metadata": {},
     "output_type": "display_data"
    }
   ],
   "source": [
    "# посмотрим на таблицу\n",
    "display(main_df.head(3))\n",
    "display(main_df.tail(3))"
   ]
  },
  {
   "cell_type": "code",
   "execution_count": 5,
   "metadata": {},
   "outputs": [
    {
     "name": "stdout",
     "output_type": "stream",
     "text": [
      "<class 'pandas.core.frame.DataFrame'>\n",
      "RangeIndex: 747034 entries, 0 to 747033\n",
      "Data columns (total 38 columns):\n",
      " #   Column              Non-Null Count   Dtype  \n",
      "---  ------              --------------   -----  \n",
      " 0   minjustRegNum       462302 non-null  object \n",
      " 1   regionName          747009 non-null  object \n",
      " 2   logo                0 non-null       float64\n",
      " 3   statusDetail        747034 non-null  object \n",
      " 4   fullName            747034 non-null  object \n",
      " 5   dateReg             321416 non-null  object \n",
      " 6   minjustForm         462302 non-null  object \n",
      " 7   charter             0 non-null       float64\n",
      " 8   minjustStatus       462302 non-null  object \n",
      " 9   ogrn                747034 non-null  int64  \n",
      " 10  opf                 747034 non-null  object \n",
      " 11  oktmo               747034 non-null  object \n",
      " 12  egrulStatus         747034 non-null  object \n",
      " 13  mainOkved           747034 non-null  object \n",
      " 14  regionCode          747034 non-null  int64  \n",
      " 15  incomeTotal         747034 non-null  float64\n",
      " 16  email               8158 non-null    object \n",
      " 17  incomeDetail        747034 non-null  object \n",
      " 18  administrators      747034 non-null  object \n",
      " 19  inn                 744430 non-null  float64\n",
      " 20  okpo                347437 non-null  float64\n",
      " 21  originDate          747034 non-null  object \n",
      " 22  website             5286 non-null    object \n",
      " 23  dateLiquid          399961 non-null  object \n",
      " 24  address             747034 non-null  object \n",
      " 25  successors          747034 non-null  object \n",
      " 26  okogu               747034 non-null  object \n",
      " 27  kpp                 743372 non-null  float64\n",
      " 28  hasRegionalSupport  747034 non-null  bool   \n",
      " 29  addOkved            747034 non-null  object \n",
      " 30  okato               747034 non-null  object \n",
      " 31  okfs                747034 non-null  object \n",
      " 32  website_punycode    5286 non-null    object \n",
      " 33  shortName           597793 non-null  object \n",
      " 34  dateOgrn            747034 non-null  object \n",
      " 35  predecessors        747034 non-null  object \n",
      " 36  socialMedia         747034 non-null  object \n",
      " 37  reports             747034 non-null  object \n",
      "dtypes: bool(1), float64(6), int64(2), object(29)\n",
      "memory usage: 211.6+ MB\n"
     ]
    }
   ],
   "source": [
    "# информация о таблице\n",
    "main_df.info()"
   ]
  },
  {
   "cell_type": "code",
   "execution_count": 6,
   "metadata": {},
   "outputs": [
    {
     "data": {
      "text/plain": [
       "logo                100.000000\n",
       "charter             100.000000\n",
       "website              99.292402\n",
       "website_punycode     99.292402\n",
       "email                98.907948\n",
       "dateReg              56.974381\n",
       "okpo                 53.491140\n",
       "dateLiquid           46.460134\n",
       "minjustRegNum        38.114999\n",
       "minjustForm          38.114999\n",
       "minjustStatus        38.114999\n",
       "shortName            19.977806\n",
       "kpp                   0.490205\n",
       "inn                   0.348579\n",
       "regionName            0.003347\n",
       "dtype: float64"
      ]
     },
     "metadata": {},
     "output_type": "display_data"
    }
   ],
   "source": [
    "# выведем названия столбцов, где число пропусков больше 0 \n",
    "cols_null_percent = main_df.isnull().mean() * 100\n",
    "cols_with_null = cols_null_percent[cols_null_percent>0].sort_values(ascending=False)\n",
    "display(cols_with_null)"
   ]
  },
  {
   "attachments": {},
   "cell_type": "markdown",
   "id": "8d62a9f3-f64e-4fe7-bdac-c4dffa16155e",
   "metadata": {},
   "source": [
    "# Предобработка и очистка данных"
   ]
  },
  {
   "cell_type": "code",
   "execution_count": 7,
   "metadata": {},
   "outputs": [],
   "source": [
    "# удалим признаки, у которых пропусков больше 30% (кроме dateReg и dateLiquid, они еще понадобятся), а также неинформативные признаки\n",
    "df = main_df.copy()\n",
    "cols_to_del = ['logo', 'charter', 'website', 'website_punycode', 'email', 'okpo', 'minjustRegNum', 'minjustForm', 'minjustStatus', 'successors', 'predecessors', 'administrators']\n",
    "#cols_to_del = [0, 2, 6, 7, 8, 16, 18, 20, 22, 25, 32, 35]\n",
    "#df = df.drop(df.columns[cols_to_del], axis= 1)\n",
    "df = df.drop(cols_to_del, axis= 1)"
   ]
  },
  {
   "cell_type": "code",
   "execution_count": 8,
   "metadata": {},
   "outputs": [
    {
     "data": {
      "text/plain": [
       "regionName                25\n",
       "statusDetail               0\n",
       "fullName                   0\n",
       "dateReg               425618\n",
       "ogrn                       0\n",
       "opf                        0\n",
       "oktmo                      0\n",
       "egrulStatus                0\n",
       "mainOkved                  0\n",
       "regionCode                 0\n",
       "incomeTotal                0\n",
       "incomeDetail               0\n",
       "inn                     2604\n",
       "originDate                 0\n",
       "dateLiquid            347073\n",
       "address                    0\n",
       "okogu                      0\n",
       "kpp                     3662\n",
       "hasRegionalSupport         0\n",
       "addOkved                   0\n",
       "okato                      0\n",
       "okfs                       0\n",
       "shortName             149241\n",
       "dateOgrn                   0\n",
       "socialMedia                0\n",
       "reports                    0\n",
       "dtype: int64"
      ]
     },
     "execution_count": 8,
     "metadata": {},
     "output_type": "execute_result"
    }
   ],
   "source": [
    "# посмотрим на оставшиеся пропуски\n",
    "df.isnull().sum() "
   ]
  },
  {
   "attachments": {},
   "cell_type": "markdown",
   "metadata": {},
   "source": [
    "## Преобразование признака региона"
   ]
  },
  {
   "cell_type": "code",
   "execution_count": 9,
   "metadata": {},
   "outputs": [
    {
     "data": {
      "text/html": [
       "<div>\n",
       "<style scoped>\n",
       "    .dataframe tbody tr th:only-of-type {\n",
       "        vertical-align: middle;\n",
       "    }\n",
       "\n",
       "    .dataframe tbody tr th {\n",
       "        vertical-align: top;\n",
       "    }\n",
       "\n",
       "    .dataframe thead th {\n",
       "        text-align: right;\n",
       "    }\n",
       "</style>\n",
       "<table border=\"1\" class=\"dataframe\">\n",
       "  <thead>\n",
       "    <tr style=\"text-align: right;\">\n",
       "      <th></th>\n",
       "      <th>regionCode</th>\n",
       "      <th>regionName</th>\n",
       "      <th>address</th>\n",
       "    </tr>\n",
       "  </thead>\n",
       "  <tbody>\n",
       "    <tr>\n",
       "      <th>31530</th>\n",
       "      <td>0</td>\n",
       "      <td>None</td>\n",
       "      <td>420015, РЕСПУБЛИКА Татарстан, УЛИЦА К.МАРКСА, ...</td>\n",
       "    </tr>\n",
       "    <tr>\n",
       "      <th>46886</th>\n",
       "      <td>0</td>\n",
       "      <td>None</td>\n",
       "      <td>420100, РЕСПУБЛИКА ТАТАРСТАН, УЛИЦА ПРОСПЕКТ П...</td>\n",
       "    </tr>\n",
       "    <tr>\n",
       "      <th>51173</th>\n",
       "      <td>0</td>\n",
       "      <td>None</td>\n",
       "      <td>420140, РЕСПУБЛИКА ТАТАРСТАН, УЛИЦА КАРАТАУ, Д...</td>\n",
       "    </tr>\n",
       "    <tr>\n",
       "      <th>53316</th>\n",
       "      <td>0</td>\n",
       "      <td>None</td>\n",
       "      <td>420101, РЕСПУБЛИКА ТАТАРСТАН, УЛИЦА МАВЛЮТОВА,...</td>\n",
       "    </tr>\n",
       "    <tr>\n",
       "      <th>53323</th>\n",
       "      <td>0</td>\n",
       "      <td>None</td>\n",
       "      <td>РЕСПУБЛИКА ТАТАРСТАН, УЛИЦА Н.ЕРШОВА, ДОМ 28, ...</td>\n",
       "    </tr>\n",
       "    <tr>\n",
       "      <th>53841</th>\n",
       "      <td>0</td>\n",
       "      <td>None</td>\n",
       "      <td>420021, РЕСПУБЛИКА ТАТАРСТАН, УЛИЦА КАМАЛА ГАЛ...</td>\n",
       "    </tr>\n",
       "    <tr>\n",
       "      <th>54766</th>\n",
       "      <td>0</td>\n",
       "      <td>None</td>\n",
       "      <td>420044, РЕСПУБЛИКА ТАТАРСТАН, УЛИЦА ЯМАШЕВА, Д...</td>\n",
       "    </tr>\n",
       "    <tr>\n",
       "      <th>61942</th>\n",
       "      <td>0</td>\n",
       "      <td>None</td>\n",
       "      <td>420133, РЕСПУБЛИКА ТАТАРСТАН, УЛИЦА ЛАВРЕНТЬЕВ...</td>\n",
       "    </tr>\n",
       "    <tr>\n",
       "      <th>62898</th>\n",
       "      <td>0</td>\n",
       "      <td>None</td>\n",
       "      <td>420015, РЕСПУБЛИКА ТАТАРСТАН, УЛИЦА К.МАРКСА, ...</td>\n",
       "    </tr>\n",
       "    <tr>\n",
       "      <th>68375</th>\n",
       "      <td>0</td>\n",
       "      <td>None</td>\n",
       "      <td>РЕСПУБЛИКА ТАТАРСТАН, УЛИЦА ПРОСПЕКТ ПОБЕДЫ</td>\n",
       "    </tr>\n",
       "    <tr>\n",
       "      <th>69775</th>\n",
       "      <td>0</td>\n",
       "      <td>None</td>\n",
       "      <td>420045, РЕСПУБЛИКА ТАТАРСТАН, УЛИЦА Н.ЕРШОВА, ...</td>\n",
       "    </tr>\n",
       "    <tr>\n",
       "      <th>69901</th>\n",
       "      <td>0</td>\n",
       "      <td>None</td>\n",
       "      <td>420021, РЕСПУБЛИКА ТАТАРСТАН, УЛИЦА К.ТИНЧУРИН...</td>\n",
       "    </tr>\n",
       "    <tr>\n",
       "      <th>192669</th>\n",
       "      <td>0</td>\n",
       "      <td>None</td>\n",
       "      <td>420111, РЕСПУБЛИКА ТАТАРСТАН, УЛИЦА М.ДЖАЛИЛЯ,...</td>\n",
       "    </tr>\n",
       "    <tr>\n",
       "      <th>196977</th>\n",
       "      <td>0</td>\n",
       "      <td>None</td>\n",
       "      <td>РЕСПУБЛИКА ТАТАРСТАН, УЛИЦА К.ТИНЧУРИНА, ДОМ 3</td>\n",
       "    </tr>\n",
       "    <tr>\n",
       "      <th>499182</th>\n",
       "      <td>0</td>\n",
       "      <td>None</td>\n",
       "      <td>420140, РЕСПУБЛИКА ТАТАРСТАН, УЛИЦА ПРОСПЕКТ П...</td>\n",
       "    </tr>\n",
       "    <tr>\n",
       "      <th>615405</th>\n",
       "      <td>0</td>\n",
       "      <td>None</td>\n",
       "      <td>420103, РЕСПУБЛИКА ТАТАРСТАН, УЛИЦА АМИРХАНА, ...</td>\n",
       "    </tr>\n",
       "    <tr>\n",
       "      <th>618062</th>\n",
       "      <td>0</td>\n",
       "      <td>None</td>\n",
       "      <td>420111, РЕСПУБЛИКА ТАТАРСТАН, УЛИЦА АМИРХАНА, ...</td>\n",
       "    </tr>\n",
       "    <tr>\n",
       "      <th>629021</th>\n",
       "      <td>0</td>\n",
       "      <td>None</td>\n",
       "      <td>420111, РЕСПУБЛИКА ТАТАРСТАН, УЛИЦА ПРАВОБУЛАЧ...</td>\n",
       "    </tr>\n",
       "    <tr>\n",
       "      <th>631662</th>\n",
       "      <td>0</td>\n",
       "      <td>None</td>\n",
       "      <td>420138, РЕСПУБЛИКА ТАТАРСТАН, УЛИЦА ПРОСПЕКТ П...</td>\n",
       "    </tr>\n",
       "    <tr>\n",
       "      <th>632623</th>\n",
       "      <td>0</td>\n",
       "      <td>None</td>\n",
       "      <td>420108, РЕСПУБЛИКА ТАТАРСТАН, УЛИЦА АМИРХАНА, ...</td>\n",
       "    </tr>\n",
       "    <tr>\n",
       "      <th>632809</th>\n",
       "      <td>0</td>\n",
       "      <td>None</td>\n",
       "      <td>420087, РЕСПУБЛИКА ТАТАРСТАН, УЛИЦА Р.ЗОРГЕ, Д...</td>\n",
       "    </tr>\n",
       "    <tr>\n",
       "      <th>633399</th>\n",
       "      <td>0</td>\n",
       "      <td>None</td>\n",
       "      <td>420140, РЕСПУБЛИКА ТАТАРСТАН, УЛИЦА Ю.ФУЧИКА, ...</td>\n",
       "    </tr>\n",
       "    <tr>\n",
       "      <th>633714</th>\n",
       "      <td>0</td>\n",
       "      <td>None</td>\n",
       "      <td>420104, РЕСПУБЛИКА ТАТАРСТАН, УЛИЦА Р.ЗОРГЕ, Д...</td>\n",
       "    </tr>\n",
       "    <tr>\n",
       "      <th>633758</th>\n",
       "      <td>0</td>\n",
       "      <td>None</td>\n",
       "      <td>420138, РЕСПУБЛИКА ТАТАРСТАН, УЛИЦА ПРОСПЕКТ П...</td>\n",
       "    </tr>\n",
       "    <tr>\n",
       "      <th>634735</th>\n",
       "      <td>0</td>\n",
       "      <td>None</td>\n",
       "      <td>РЕСПУБЛИКА ТАТАРСТАН, УЛИЦА М.ДЖАЛИЛЯ, ДОМ 3</td>\n",
       "    </tr>\n",
       "  </tbody>\n",
       "</table>\n",
       "</div>"
      ],
      "text/plain": [
       "        regionCode regionName  \\\n",
       "31530            0       None   \n",
       "46886            0       None   \n",
       "51173            0       None   \n",
       "53316            0       None   \n",
       "53323            0       None   \n",
       "53841            0       None   \n",
       "54766            0       None   \n",
       "61942            0       None   \n",
       "62898            0       None   \n",
       "68375            0       None   \n",
       "69775            0       None   \n",
       "69901            0       None   \n",
       "192669           0       None   \n",
       "196977           0       None   \n",
       "499182           0       None   \n",
       "615405           0       None   \n",
       "618062           0       None   \n",
       "629021           0       None   \n",
       "631662           0       None   \n",
       "632623           0       None   \n",
       "632809           0       None   \n",
       "633399           0       None   \n",
       "633714           0       None   \n",
       "633758           0       None   \n",
       "634735           0       None   \n",
       "\n",
       "                                                  address  \n",
       "31530   420015, РЕСПУБЛИКА Татарстан, УЛИЦА К.МАРКСА, ...  \n",
       "46886   420100, РЕСПУБЛИКА ТАТАРСТАН, УЛИЦА ПРОСПЕКТ П...  \n",
       "51173   420140, РЕСПУБЛИКА ТАТАРСТАН, УЛИЦА КАРАТАУ, Д...  \n",
       "53316   420101, РЕСПУБЛИКА ТАТАРСТАН, УЛИЦА МАВЛЮТОВА,...  \n",
       "53323   РЕСПУБЛИКА ТАТАРСТАН, УЛИЦА Н.ЕРШОВА, ДОМ 28, ...  \n",
       "53841   420021, РЕСПУБЛИКА ТАТАРСТАН, УЛИЦА КАМАЛА ГАЛ...  \n",
       "54766   420044, РЕСПУБЛИКА ТАТАРСТАН, УЛИЦА ЯМАШЕВА, Д...  \n",
       "61942   420133, РЕСПУБЛИКА ТАТАРСТАН, УЛИЦА ЛАВРЕНТЬЕВ...  \n",
       "62898   420015, РЕСПУБЛИКА ТАТАРСТАН, УЛИЦА К.МАРКСА, ...  \n",
       "68375         РЕСПУБЛИКА ТАТАРСТАН, УЛИЦА ПРОСПЕКТ ПОБЕДЫ  \n",
       "69775   420045, РЕСПУБЛИКА ТАТАРСТАН, УЛИЦА Н.ЕРШОВА, ...  \n",
       "69901   420021, РЕСПУБЛИКА ТАТАРСТАН, УЛИЦА К.ТИНЧУРИН...  \n",
       "192669  420111, РЕСПУБЛИКА ТАТАРСТАН, УЛИЦА М.ДЖАЛИЛЯ,...  \n",
       "196977     РЕСПУБЛИКА ТАТАРСТАН, УЛИЦА К.ТИНЧУРИНА, ДОМ 3  \n",
       "499182  420140, РЕСПУБЛИКА ТАТАРСТАН, УЛИЦА ПРОСПЕКТ П...  \n",
       "615405  420103, РЕСПУБЛИКА ТАТАРСТАН, УЛИЦА АМИРХАНА, ...  \n",
       "618062  420111, РЕСПУБЛИКА ТАТАРСТАН, УЛИЦА АМИРХАНА, ...  \n",
       "629021  420111, РЕСПУБЛИКА ТАТАРСТАН, УЛИЦА ПРАВОБУЛАЧ...  \n",
       "631662  420138, РЕСПУБЛИКА ТАТАРСТАН, УЛИЦА ПРОСПЕКТ П...  \n",
       "632623  420108, РЕСПУБЛИКА ТАТАРСТАН, УЛИЦА АМИРХАНА, ...  \n",
       "632809  420087, РЕСПУБЛИКА ТАТАРСТАН, УЛИЦА Р.ЗОРГЕ, Д...  \n",
       "633399  420140, РЕСПУБЛИКА ТАТАРСТАН, УЛИЦА Ю.ФУЧИКА, ...  \n",
       "633714  420104, РЕСПУБЛИКА ТАТАРСТАН, УЛИЦА Р.ЗОРГЕ, Д...  \n",
       "633758  420138, РЕСПУБЛИКА ТАТАРСТАН, УЛИЦА ПРОСПЕКТ П...  \n",
       "634735       РЕСПУБЛИКА ТАТАРСТАН, УЛИЦА М.ДЖАЛИЛЯ, ДОМ 3  "
      ]
     },
     "execution_count": 9,
     "metadata": {},
     "output_type": "execute_result"
    }
   ],
   "source": [
    "# посмотрим на пустые значения признака regionName\n",
    "rn = df[['regionCode', 'regionName', 'address']]\n",
    "rn[rn.regionName.isnull()]"
   ]
  },
  {
   "cell_type": "code",
   "execution_count": 10,
   "metadata": {},
   "outputs": [
    {
     "data": {
      "text/html": [
       "<div>\n",
       "<style scoped>\n",
       "    .dataframe tbody tr th:only-of-type {\n",
       "        vertical-align: middle;\n",
       "    }\n",
       "\n",
       "    .dataframe tbody tr th {\n",
       "        vertical-align: top;\n",
       "    }\n",
       "\n",
       "    .dataframe thead th {\n",
       "        text-align: right;\n",
       "    }\n",
       "</style>\n",
       "<table border=\"1\" class=\"dataframe\">\n",
       "  <thead>\n",
       "    <tr style=\"text-align: right;\">\n",
       "      <th></th>\n",
       "      <th>regionCode</th>\n",
       "      <th>regionName</th>\n",
       "      <th>address</th>\n",
       "    </tr>\n",
       "  </thead>\n",
       "  <tbody>\n",
       "    <tr>\n",
       "      <th>31530</th>\n",
       "      <td>0</td>\n",
       "      <td>None</td>\n",
       "      <td>420015, РЕСПУБЛИКА Татарстан, УЛИЦА К.МАРКСА, ...</td>\n",
       "    </tr>\n",
       "    <tr>\n",
       "      <th>46886</th>\n",
       "      <td>0</td>\n",
       "      <td>None</td>\n",
       "      <td>420100, РЕСПУБЛИКА ТАТАРСТАН, УЛИЦА ПРОСПЕКТ П...</td>\n",
       "    </tr>\n",
       "    <tr>\n",
       "      <th>51173</th>\n",
       "      <td>0</td>\n",
       "      <td>None</td>\n",
       "      <td>420140, РЕСПУБЛИКА ТАТАРСТАН, УЛИЦА КАРАТАУ, Д...</td>\n",
       "    </tr>\n",
       "    <tr>\n",
       "      <th>53316</th>\n",
       "      <td>0</td>\n",
       "      <td>None</td>\n",
       "      <td>420101, РЕСПУБЛИКА ТАТАРСТАН, УЛИЦА МАВЛЮТОВА,...</td>\n",
       "    </tr>\n",
       "    <tr>\n",
       "      <th>53323</th>\n",
       "      <td>0</td>\n",
       "      <td>None</td>\n",
       "      <td>РЕСПУБЛИКА ТАТАРСТАН, УЛИЦА Н.ЕРШОВА, ДОМ 28, ...</td>\n",
       "    </tr>\n",
       "    <tr>\n",
       "      <th>53841</th>\n",
       "      <td>0</td>\n",
       "      <td>None</td>\n",
       "      <td>420021, РЕСПУБЛИКА ТАТАРСТАН, УЛИЦА КАМАЛА ГАЛ...</td>\n",
       "    </tr>\n",
       "    <tr>\n",
       "      <th>54766</th>\n",
       "      <td>0</td>\n",
       "      <td>None</td>\n",
       "      <td>420044, РЕСПУБЛИКА ТАТАРСТАН, УЛИЦА ЯМАШЕВА, Д...</td>\n",
       "    </tr>\n",
       "    <tr>\n",
       "      <th>61942</th>\n",
       "      <td>0</td>\n",
       "      <td>None</td>\n",
       "      <td>420133, РЕСПУБЛИКА ТАТАРСТАН, УЛИЦА ЛАВРЕНТЬЕВ...</td>\n",
       "    </tr>\n",
       "    <tr>\n",
       "      <th>62898</th>\n",
       "      <td>0</td>\n",
       "      <td>None</td>\n",
       "      <td>420015, РЕСПУБЛИКА ТАТАРСТАН, УЛИЦА К.МАРКСА, ...</td>\n",
       "    </tr>\n",
       "    <tr>\n",
       "      <th>68375</th>\n",
       "      <td>0</td>\n",
       "      <td>None</td>\n",
       "      <td>РЕСПУБЛИКА ТАТАРСТАН, УЛИЦА ПРОСПЕКТ ПОБЕДЫ</td>\n",
       "    </tr>\n",
       "    <tr>\n",
       "      <th>69775</th>\n",
       "      <td>0</td>\n",
       "      <td>None</td>\n",
       "      <td>420045, РЕСПУБЛИКА ТАТАРСТАН, УЛИЦА Н.ЕРШОВА, ...</td>\n",
       "    </tr>\n",
       "    <tr>\n",
       "      <th>69901</th>\n",
       "      <td>0</td>\n",
       "      <td>None</td>\n",
       "      <td>420021, РЕСПУБЛИКА ТАТАРСТАН, УЛИЦА К.ТИНЧУРИН...</td>\n",
       "    </tr>\n",
       "    <tr>\n",
       "      <th>192669</th>\n",
       "      <td>0</td>\n",
       "      <td>None</td>\n",
       "      <td>420111, РЕСПУБЛИКА ТАТАРСТАН, УЛИЦА М.ДЖАЛИЛЯ,...</td>\n",
       "    </tr>\n",
       "    <tr>\n",
       "      <th>196977</th>\n",
       "      <td>0</td>\n",
       "      <td>None</td>\n",
       "      <td>РЕСПУБЛИКА ТАТАРСТАН, УЛИЦА К.ТИНЧУРИНА, ДОМ 3</td>\n",
       "    </tr>\n",
       "    <tr>\n",
       "      <th>499182</th>\n",
       "      <td>0</td>\n",
       "      <td>None</td>\n",
       "      <td>420140, РЕСПУБЛИКА ТАТАРСТАН, УЛИЦА ПРОСПЕКТ П...</td>\n",
       "    </tr>\n",
       "    <tr>\n",
       "      <th>615405</th>\n",
       "      <td>0</td>\n",
       "      <td>None</td>\n",
       "      <td>420103, РЕСПУБЛИКА ТАТАРСТАН, УЛИЦА АМИРХАНА, ...</td>\n",
       "    </tr>\n",
       "    <tr>\n",
       "      <th>618062</th>\n",
       "      <td>0</td>\n",
       "      <td>None</td>\n",
       "      <td>420111, РЕСПУБЛИКА ТАТАРСТАН, УЛИЦА АМИРХАНА, ...</td>\n",
       "    </tr>\n",
       "    <tr>\n",
       "      <th>629021</th>\n",
       "      <td>0</td>\n",
       "      <td>None</td>\n",
       "      <td>420111, РЕСПУБЛИКА ТАТАРСТАН, УЛИЦА ПРАВОБУЛАЧ...</td>\n",
       "    </tr>\n",
       "    <tr>\n",
       "      <th>631662</th>\n",
       "      <td>0</td>\n",
       "      <td>None</td>\n",
       "      <td>420138, РЕСПУБЛИКА ТАТАРСТАН, УЛИЦА ПРОСПЕКТ П...</td>\n",
       "    </tr>\n",
       "    <tr>\n",
       "      <th>632623</th>\n",
       "      <td>0</td>\n",
       "      <td>None</td>\n",
       "      <td>420108, РЕСПУБЛИКА ТАТАРСТАН, УЛИЦА АМИРХАНА, ...</td>\n",
       "    </tr>\n",
       "    <tr>\n",
       "      <th>632809</th>\n",
       "      <td>0</td>\n",
       "      <td>None</td>\n",
       "      <td>420087, РЕСПУБЛИКА ТАТАРСТАН, УЛИЦА Р.ЗОРГЕ, Д...</td>\n",
       "    </tr>\n",
       "    <tr>\n",
       "      <th>633399</th>\n",
       "      <td>0</td>\n",
       "      <td>None</td>\n",
       "      <td>420140, РЕСПУБЛИКА ТАТАРСТАН, УЛИЦА Ю.ФУЧИКА, ...</td>\n",
       "    </tr>\n",
       "    <tr>\n",
       "      <th>633714</th>\n",
       "      <td>0</td>\n",
       "      <td>None</td>\n",
       "      <td>420104, РЕСПУБЛИКА ТАТАРСТАН, УЛИЦА Р.ЗОРГЕ, Д...</td>\n",
       "    </tr>\n",
       "    <tr>\n",
       "      <th>633758</th>\n",
       "      <td>0</td>\n",
       "      <td>None</td>\n",
       "      <td>420138, РЕСПУБЛИКА ТАТАРСТАН, УЛИЦА ПРОСПЕКТ П...</td>\n",
       "    </tr>\n",
       "    <tr>\n",
       "      <th>634735</th>\n",
       "      <td>0</td>\n",
       "      <td>None</td>\n",
       "      <td>РЕСПУБЛИКА ТАТАРСТАН, УЛИЦА М.ДЖАЛИЛЯ, ДОМ 3</td>\n",
       "    </tr>\n",
       "  </tbody>\n",
       "</table>\n",
       "</div>"
      ],
      "text/plain": [
       "        regionCode regionName  \\\n",
       "31530            0       None   \n",
       "46886            0       None   \n",
       "51173            0       None   \n",
       "53316            0       None   \n",
       "53323            0       None   \n",
       "53841            0       None   \n",
       "54766            0       None   \n",
       "61942            0       None   \n",
       "62898            0       None   \n",
       "68375            0       None   \n",
       "69775            0       None   \n",
       "69901            0       None   \n",
       "192669           0       None   \n",
       "196977           0       None   \n",
       "499182           0       None   \n",
       "615405           0       None   \n",
       "618062           0       None   \n",
       "629021           0       None   \n",
       "631662           0       None   \n",
       "632623           0       None   \n",
       "632809           0       None   \n",
       "633399           0       None   \n",
       "633714           0       None   \n",
       "633758           0       None   \n",
       "634735           0       None   \n",
       "\n",
       "                                                  address  \n",
       "31530   420015, РЕСПУБЛИКА Татарстан, УЛИЦА К.МАРКСА, ...  \n",
       "46886   420100, РЕСПУБЛИКА ТАТАРСТАН, УЛИЦА ПРОСПЕКТ П...  \n",
       "51173   420140, РЕСПУБЛИКА ТАТАРСТАН, УЛИЦА КАРАТАУ, Д...  \n",
       "53316   420101, РЕСПУБЛИКА ТАТАРСТАН, УЛИЦА МАВЛЮТОВА,...  \n",
       "53323   РЕСПУБЛИКА ТАТАРСТАН, УЛИЦА Н.ЕРШОВА, ДОМ 28, ...  \n",
       "53841   420021, РЕСПУБЛИКА ТАТАРСТАН, УЛИЦА КАМАЛА ГАЛ...  \n",
       "54766   420044, РЕСПУБЛИКА ТАТАРСТАН, УЛИЦА ЯМАШЕВА, Д...  \n",
       "61942   420133, РЕСПУБЛИКА ТАТАРСТАН, УЛИЦА ЛАВРЕНТЬЕВ...  \n",
       "62898   420015, РЕСПУБЛИКА ТАТАРСТАН, УЛИЦА К.МАРКСА, ...  \n",
       "68375         РЕСПУБЛИКА ТАТАРСТАН, УЛИЦА ПРОСПЕКТ ПОБЕДЫ  \n",
       "69775   420045, РЕСПУБЛИКА ТАТАРСТАН, УЛИЦА Н.ЕРШОВА, ...  \n",
       "69901   420021, РЕСПУБЛИКА ТАТАРСТАН, УЛИЦА К.ТИНЧУРИН...  \n",
       "192669  420111, РЕСПУБЛИКА ТАТАРСТАН, УЛИЦА М.ДЖАЛИЛЯ,...  \n",
       "196977     РЕСПУБЛИКА ТАТАРСТАН, УЛИЦА К.ТИНЧУРИНА, ДОМ 3  \n",
       "499182  420140, РЕСПУБЛИКА ТАТАРСТАН, УЛИЦА ПРОСПЕКТ П...  \n",
       "615405  420103, РЕСПУБЛИКА ТАТАРСТАН, УЛИЦА АМИРХАНА, ...  \n",
       "618062  420111, РЕСПУБЛИКА ТАТАРСТАН, УЛИЦА АМИРХАНА, ...  \n",
       "629021  420111, РЕСПУБЛИКА ТАТАРСТАН, УЛИЦА ПРАВОБУЛАЧ...  \n",
       "631662  420138, РЕСПУБЛИКА ТАТАРСТАН, УЛИЦА ПРОСПЕКТ П...  \n",
       "632623  420108, РЕСПУБЛИКА ТАТАРСТАН, УЛИЦА АМИРХАНА, ...  \n",
       "632809  420087, РЕСПУБЛИКА ТАТАРСТАН, УЛИЦА Р.ЗОРГЕ, Д...  \n",
       "633399  420140, РЕСПУБЛИКА ТАТАРСТАН, УЛИЦА Ю.ФУЧИКА, ...  \n",
       "633714  420104, РЕСПУБЛИКА ТАТАРСТАН, УЛИЦА Р.ЗОРГЕ, Д...  \n",
       "633758  420138, РЕСПУБЛИКА ТАТАРСТАН, УЛИЦА ПРОСПЕКТ П...  \n",
       "634735       РЕСПУБЛИКА ТАТАРСТАН, УЛИЦА М.ДЖАЛИЛЯ, ДОМ 3  "
      ]
     },
     "execution_count": 10,
     "metadata": {},
     "output_type": "execute_result"
    }
   ],
   "source": [
    "# посмотрим на адреса с нулевым кодом региона\n",
    "rn[rn.regionCode == 0]"
   ]
  },
  {
   "cell_type": "code",
   "execution_count": 11,
   "metadata": {},
   "outputs": [
    {
     "data": {
      "text/plain": [
       "0"
      ]
     },
     "execution_count": 11,
     "metadata": {},
     "output_type": "execute_result"
    }
   ],
   "source": [
    "# Все пропуски и нулевые значения кода региона относятся к Республике Татарстан. Код региона Республики Татарстан - 16, заполним пропуски.\n",
    "#rn[rn.regionCode == 16]\n",
    "df['regionName'] = df['regionName'].fillna('Республика Татарстан')\n",
    "df['regionCode'] = df['regionCode'].apply(lambda x: 16 if x==0 else x)\n",
    "# проверим пропуски\n",
    "df['regionName'].isnull().sum()"
   ]
  },
  {
   "cell_type": "code",
   "execution_count": 12,
   "metadata": {},
   "outputs": [
    {
     "data": {
      "text/plain": [
       "Москва                          80178\n",
       "Московская область              37927\n",
       "Санкт-Петербург                 31767\n",
       "Краснодарский край              23337\n",
       "Свердловская область            23030\n",
       "                                ...  \n",
       "Республика Ингушетия             1249\n",
       "Еврейская автономная область     1197\n",
       "Чукотский автономный округ        505\n",
       "Ненецкий автономный округ         398\n",
       "Не определено                      91\n",
       "Name: regionName, Length: 86, dtype: int64"
      ]
     },
     "execution_count": 12,
     "metadata": {},
     "output_type": "execute_result"
    }
   ],
   "source": [
    "# посмотрим на спиок регионов\n",
    "df.regionName.value_counts()"
   ]
  },
  {
   "cell_type": "code",
   "execution_count": 13,
   "metadata": {},
   "outputs": [
    {
     "data": {
      "text/plain": [
       "regionCode  regionName     address                                                              \n",
       "99          Не определено  468320, ГОРОД БАЙКОНУР, УЛИЦА ЯНГЕЛЯ                                     11\n",
       "                           468320, ГОРОД БАЙКОНУР, УЛИЦА ЯНГЕЛЯ, РАЙОН ТЭЦ                           6\n",
       "                           468320, ГОРОД БАЙКОНУР, МИКРОРАЙОН 6-Й                                    3\n",
       "                           468320, ГОРОД БАЙКОНУР, УЛИЦА ЯНГЕЛЯ, РАЙОН ТЭЦ, КОРПУС -, КВ./ОФИС -     3\n",
       "                           468320, ГОРОД БАЙКОНУР, ПРОСПЕКТ АБАЯ, ДОМ 0                              2\n",
       "                                                                                                    ..\n",
       "                           468320, ГОРОД БАЙКОНУР, МИКРОРАЙОН 7-Й, ДОМ 21Б, КВ./ОФИС 47              1\n",
       "                           468320, ГОРОД БАЙКОНУР, МИКРОРАЙОН 7-Й, ДОМ 24, КВ./ОФИС 1                1\n",
       "                           468320, ГОРОД БАЙКОНУР, МИКРОРАЙОН 7-Й, ЗАПАДНАЯ СТОРОНА                  1\n",
       "                           468320, ГОРОД БАЙКОНУР, ПЕРЕУЛОК ЗАВОДСКОЙ, ДОМ 4                         1\n",
       "                           468325, ГОРОД БАЙКОНУР, МИКРОРАЙОН 6-Й, ДОМ 15, КВАРТИРА 39               1\n",
       "Length: 68, dtype: int64"
      ]
     },
     "execution_count": 13,
     "metadata": {},
     "output_type": "execute_result"
    }
   ],
   "source": [
    "# выясним адрес признака regionName со значением 'Не определено' \n",
    "not_defined = rn[rn.regionName == 'Не определено']\n",
    "not_defined.value_counts()"
   ]
  },
  {
   "cell_type": "code",
   "execution_count": 14,
   "metadata": {},
   "outputs": [
    {
     "data": {
      "text/plain": [
       "Yes    91\n",
       "Name: regionCode_99, dtype: int64"
      ]
     },
     "execution_count": 14,
     "metadata": {},
     "output_type": "execute_result"
    }
   ],
   "source": [
    "# проверим, все ли значения в с региональным кодом-99 принадлежат городу Байконур\n",
    "def get_not_defined(row):\n",
    "    if 'БАЙКОНУР' in row:\n",
    "        return 'Yes'\n",
    "    return 'No'\n",
    "\n",
    "not_defined['regionCode_99'] = not_defined['address'].apply(get_not_defined)\n",
    "not_defined['regionCode_99'].value_counts()"
   ]
  },
  {
   "cell_type": "code",
   "execution_count": 15,
   "metadata": {},
   "outputs": [],
   "source": [
    "# переименуем значение признака regionName = 'Не определено' \n",
    "df['regionName'] = df['regionName'].apply(lambda x: 'БАЙКОНУР' if x=='Не определено' else x)"
   ]
  },
  {
   "cell_type": "code",
   "execution_count": 16,
   "metadata": {},
   "outputs": [
    {
     "data": {
      "text/plain": [
       "regionCode    92\n",
       "regionName    86\n",
       "dtype: int64"
      ]
     },
     "execution_count": 16,
     "metadata": {},
     "output_type": "execute_result"
    }
   ],
   "source": [
    "# посмотрим на уникальные значения данных признаков\n",
    "df[['regionCode', 'regionName']].nunique()"
   ]
  },
  {
   "attachments": {},
   "cell_type": "markdown",
   "metadata": {},
   "source": [
    "Уникальных значений региональных кодов больше, чем наименований регионов, это связано с тем, что некоторые регионы имеют 2-3 кода. В дальнейшем признак regionCode можно будет удалить, а к regionName применить двоичное кодирование."
   ]
  },
  {
   "attachments": {},
   "cell_type": "markdown",
   "metadata": {},
   "source": [
    "## Преобразование признаков со статусами"
   ]
  },
  {
   "cell_type": "code",
   "execution_count": 17,
   "metadata": {},
   "outputs": [],
   "source": [
    "# т.к. в датасете много признаков в виде словаря, создадим функции для извлечения наименования, кода и версии\n",
    "def get_name(name):\n",
    "    if name is not None:\n",
    "        return name['name']\n",
    "    \n",
    "def get_code(code):\n",
    "    if code is not None:\n",
    "        return code['code']\n",
    "    \n",
    "def get_version(ver):\n",
    "    if ver is not None:\n",
    "        return ver['version']"
   ]
  },
  {
   "cell_type": "code",
   "execution_count": 18,
   "metadata": {},
   "outputs": [
    {
     "data": {
      "text/plain": [
       "{'name': None, 'code': None, 'shortName': 'Действующая'}"
      ]
     },
     "execution_count": 18,
     "metadata": {},
     "output_type": "execute_result"
    }
   ],
   "source": [
    "df.statusDetail[2]"
   ]
  },
  {
   "cell_type": "code",
   "execution_count": 19,
   "metadata": {},
   "outputs": [
    {
     "name": "stdout",
     "output_type": "stream",
     "text": [
      "Действующая                730697\n",
      "Недействующая                8403\n",
      "Ликвидируется                6489\n",
      "В состоянии банкротства       783\n",
      "Реорганизуется                662\n",
      "Name: status_shortName, dtype: int64 Находится в стадии ликвидации                                                                                                                                                                     6489\n",
      "Регистрация признана ошибочной по решению регоргана                                                                                                                                               3458\n",
      "Регистрирующим органом принято решение о предстоящем исключении юридического лица из ЕГРЮЛ (недействующее юридическое лицо)                                                                       3268\n",
      "Регистрирующим органом принято решение о предстоящем исключении юридического лица из ЕГРЮЛ (наличие в ЕГРЮЛ сведений о юридическом лице, в отношении которых внесена запись о недостоверности)    1376\n",
      "Юридическим лицом принято решение об изменении места нахождения                                                                                                                                    909\n",
      "Юридическое лицо признано несостоятельным (банкротом) и в отношении него открыто конкурсное производство                                                                                           616\n",
      "Находится в процессе реорганизации в форме преобразования                                                                                                                                          358\n",
      "Регистрация признана недействительной по решению суда                                                                                                                                              299\n",
      "В отношении юридического лица в деле о несостоятельности (банкротстве) введено наблюдение                                                                                                          141\n",
      "Находится в процессе реорганизации в форме присоединения к другому ЮЛ                                                                                                                              121\n",
      "Находится в процессе реорганизации в форме присоединения к нему других ЮЛ                                                                                                                          117\n",
      "Находится в процессе реорганизации в форме выделения                                                                                                                                                55\n",
      "В отношении юридического лица возбуждено производство по делу о несостоятельности (банкротстве)                                                                                                     19\n",
      "В отношении юридического лица в деле о несостоятельности (банкротстве) введено внешнее управление                                                                                                    7\n",
      "Юридическое лицо находится в процессе уменьшения уставного капитала                                                                                                                                  7\n",
      "Находится в процессе реорганизации в форме разделения                                                                                                                                                6\n",
      "Находится в процессе реорганизации в форме слияния                                                                                                                                                   5\n",
      "Внесение в ЕГРЮЛ сведений о ЮЛ, созданном до 01.07.2002, признано недействительным по решению суда                                                                                                   2\n",
      "Name: status_name, dtype: int64\n"
     ]
    }
   ],
   "source": [
    "# создадим новые признаки\n",
    "df['status_name'] = df['statusDetail'].apply(get_name)\n",
    "df['status_code'] = df['statusDetail'].apply(get_code)\n",
    "df['status_shortName'] = df['statusDetail'].apply(lambda x: x['shortName'])\n",
    "\n",
    "# удалим старый признак\n",
    "df = df.drop(['statusDetail'], axis= 1)\n",
    "# посмотрим на значения\n",
    "print(df.status_shortName.value_counts(), \n",
    "      df.status_name.value_counts())"
   ]
  },
  {
   "cell_type": "code",
   "execution_count": 20,
   "metadata": {},
   "outputs": [
    {
     "data": {
      "text/plain": [
       "Ликвидирована    406134\n",
       "Действует        340900\n",
       "Name: egrulStatus, dtype: int64"
      ]
     },
     "execution_count": 20,
     "metadata": {},
     "output_type": "execute_result"
    }
   ],
   "source": [
    "# статус организации на основании данных ЕГРЮЛ\n",
    "df.egrulStatus.value_counts()"
   ]
  },
  {
   "cell_type": "code",
   "execution_count": 21,
   "metadata": {},
   "outputs": [
    {
     "data": {
      "text/plain": [
       "0    406134\n",
       "1    340900\n",
       "Name: egrulStatus, dtype: int64"
      ]
     },
     "execution_count": 21,
     "metadata": {},
     "output_type": "execute_result"
    }
   ],
   "source": [
    "# преобразуем данный признак для удобства\n",
    "df['egrulStatus'] = df['egrulStatus'].apply(lambda x: 1 if x=='Действует' else 0)\n",
    "df.egrulStatus.value_counts()"
   ]
  },
  {
   "cell_type": "code",
   "execution_count": 22,
   "metadata": {},
   "outputs": [
    {
     "data": {
      "text/plain": [
       "egrulStatus  status_shortName       \n",
       "0            Действующая                399107\n",
       "1            Действующая                331590\n",
       "0            Недействующая                7027\n",
       "1            Ликвидируется                6489\n",
       "             Недействующая                1376\n",
       "             В состоянии банкротства       783\n",
       "             Реорганизуется                662\n",
       "dtype: int64"
      ]
     },
     "execution_count": 22,
     "metadata": {},
     "output_type": "execute_result"
    }
   ],
   "source": [
    "# проверим на соответствие признаков со статусами\n",
    "df[['egrulStatus', 'status_shortName']].value_counts()"
   ]
  },
  {
   "cell_type": "code",
   "execution_count": 23,
   "metadata": {},
   "outputs": [],
   "source": [
    "# Наблюдается несоответствие данных признаков, status_shortName удалим\n",
    "df = df.drop(['status_shortName'], axis= 1)"
   ]
  },
  {
   "attachments": {},
   "cell_type": "markdown",
   "metadata": {},
   "source": [
    "## Преобразование дат"
   ]
  },
  {
   "cell_type": "code",
   "execution_count": 24,
   "metadata": {},
   "outputs": [
    {
     "data": {
      "text/html": [
       "<div>\n",
       "<style scoped>\n",
       "    .dataframe tbody tr th:only-of-type {\n",
       "        vertical-align: middle;\n",
       "    }\n",
       "\n",
       "    .dataframe tbody tr th {\n",
       "        vertical-align: top;\n",
       "    }\n",
       "\n",
       "    .dataframe thead th {\n",
       "        text-align: right;\n",
       "    }\n",
       "</style>\n",
       "<table border=\"1\" class=\"dataframe\">\n",
       "  <thead>\n",
       "    <tr style=\"text-align: right;\">\n",
       "      <th></th>\n",
       "      <th>originDate</th>\n",
       "      <th>dateReg</th>\n",
       "      <th>dateOgrn</th>\n",
       "      <th>dateLiquid</th>\n",
       "    </tr>\n",
       "  </thead>\n",
       "  <tbody>\n",
       "    <tr>\n",
       "      <th>0</th>\n",
       "      <td>{'$date': '2020-10-30T00:00:00.000Z'}</td>\n",
       "      <td>None</td>\n",
       "      <td>{'$date': '2020-10-30T00:00:00.000Z'}</td>\n",
       "      <td>None</td>\n",
       "    </tr>\n",
       "    <tr>\n",
       "      <th>1</th>\n",
       "      <td>{'$date': '2020-09-23T00:00:00.000Z'}</td>\n",
       "      <td>None</td>\n",
       "      <td>{'$date': '2020-09-23T00:00:00.000Z'}</td>\n",
       "      <td>None</td>\n",
       "    </tr>\n",
       "    <tr>\n",
       "      <th>2</th>\n",
       "      <td>{'$date': '2020-02-03T00:00:00.000Z'}</td>\n",
       "      <td>None</td>\n",
       "      <td>{'$date': '2020-02-03T00:00:00.000Z'}</td>\n",
       "      <td>None</td>\n",
       "    </tr>\n",
       "    <tr>\n",
       "      <th>3</th>\n",
       "      <td>{'$date': '2020-09-23T00:00:00.000Z'}</td>\n",
       "      <td>None</td>\n",
       "      <td>{'$date': '2020-09-23T00:00:00.000Z'}</td>\n",
       "      <td>None</td>\n",
       "    </tr>\n",
       "    <tr>\n",
       "      <th>4</th>\n",
       "      <td>{'$date': '2020-07-08T00:00:00.000Z'}</td>\n",
       "      <td>None</td>\n",
       "      <td>{'$date': '2020-07-08T00:00:00.000Z'}</td>\n",
       "      <td>None</td>\n",
       "    </tr>\n",
       "    <tr>\n",
       "      <th>...</th>\n",
       "      <td>...</td>\n",
       "      <td>...</td>\n",
       "      <td>...</td>\n",
       "      <td>...</td>\n",
       "    </tr>\n",
       "    <tr>\n",
       "      <th>747029</th>\n",
       "      <td>{'$date': '2006-03-29T00:00:00.000Z'}</td>\n",
       "      <td>None</td>\n",
       "      <td>{'$date': '2006-03-29T00:00:00.000Z'}</td>\n",
       "      <td>{'$date': '2009-01-12T00:00:00.000Z'}</td>\n",
       "    </tr>\n",
       "    <tr>\n",
       "      <th>747030</th>\n",
       "      <td>{'$date': '2006-08-09T00:00:00.000Z'}</td>\n",
       "      <td>None</td>\n",
       "      <td>{'$date': '2006-08-09T00:00:00.000Z'}</td>\n",
       "      <td>{'$date': '2012-08-15T00:00:00.000Z'}</td>\n",
       "    </tr>\n",
       "    <tr>\n",
       "      <th>747031</th>\n",
       "      <td>{'$date': '1998-01-01T00:00:00.000Z'}</td>\n",
       "      <td>{'$date': '1998-01-01T00:00:00.000Z'}</td>\n",
       "      <td>{'$date': '2006-10-11T00:00:00.000Z'}</td>\n",
       "      <td>{'$date': '2006-10-11T00:00:00.000Z'}</td>\n",
       "    </tr>\n",
       "    <tr>\n",
       "      <th>747032</th>\n",
       "      <td>{'$date': '1987-12-05T00:00:00.000Z'}</td>\n",
       "      <td>{'$date': '1987-12-05T00:00:00.000Z'}</td>\n",
       "      <td>{'$date': '2006-06-05T00:00:00.000Z'}</td>\n",
       "      <td>{'$date': '2006-06-05T00:00:00.000Z'}</td>\n",
       "    </tr>\n",
       "    <tr>\n",
       "      <th>747033</th>\n",
       "      <td>{'$date': '1990-10-23T00:00:00.000Z'}</td>\n",
       "      <td>{'$date': '1990-10-23T00:00:00.000Z'}</td>\n",
       "      <td>{'$date': '2006-07-05T00:00:00.000Z'}</td>\n",
       "      <td>{'$date': '2006-07-05T00:00:00.000Z'}</td>\n",
       "    </tr>\n",
       "  </tbody>\n",
       "</table>\n",
       "<p>747034 rows × 4 columns</p>\n",
       "</div>"
      ],
      "text/plain": [
       "                                   originDate  \\\n",
       "0       {'$date': '2020-10-30T00:00:00.000Z'}   \n",
       "1       {'$date': '2020-09-23T00:00:00.000Z'}   \n",
       "2       {'$date': '2020-02-03T00:00:00.000Z'}   \n",
       "3       {'$date': '2020-09-23T00:00:00.000Z'}   \n",
       "4       {'$date': '2020-07-08T00:00:00.000Z'}   \n",
       "...                                       ...   \n",
       "747029  {'$date': '2006-03-29T00:00:00.000Z'}   \n",
       "747030  {'$date': '2006-08-09T00:00:00.000Z'}   \n",
       "747031  {'$date': '1998-01-01T00:00:00.000Z'}   \n",
       "747032  {'$date': '1987-12-05T00:00:00.000Z'}   \n",
       "747033  {'$date': '1990-10-23T00:00:00.000Z'}   \n",
       "\n",
       "                                      dateReg  \\\n",
       "0                                        None   \n",
       "1                                        None   \n",
       "2                                        None   \n",
       "3                                        None   \n",
       "4                                        None   \n",
       "...                                       ...   \n",
       "747029                                   None   \n",
       "747030                                   None   \n",
       "747031  {'$date': '1998-01-01T00:00:00.000Z'}   \n",
       "747032  {'$date': '1987-12-05T00:00:00.000Z'}   \n",
       "747033  {'$date': '1990-10-23T00:00:00.000Z'}   \n",
       "\n",
       "                                     dateOgrn  \\\n",
       "0       {'$date': '2020-10-30T00:00:00.000Z'}   \n",
       "1       {'$date': '2020-09-23T00:00:00.000Z'}   \n",
       "2       {'$date': '2020-02-03T00:00:00.000Z'}   \n",
       "3       {'$date': '2020-09-23T00:00:00.000Z'}   \n",
       "4       {'$date': '2020-07-08T00:00:00.000Z'}   \n",
       "...                                       ...   \n",
       "747029  {'$date': '2006-03-29T00:00:00.000Z'}   \n",
       "747030  {'$date': '2006-08-09T00:00:00.000Z'}   \n",
       "747031  {'$date': '2006-10-11T00:00:00.000Z'}   \n",
       "747032  {'$date': '2006-06-05T00:00:00.000Z'}   \n",
       "747033  {'$date': '2006-07-05T00:00:00.000Z'}   \n",
       "\n",
       "                                   dateLiquid  \n",
       "0                                        None  \n",
       "1                                        None  \n",
       "2                                        None  \n",
       "3                                        None  \n",
       "4                                        None  \n",
       "...                                       ...  \n",
       "747029  {'$date': '2009-01-12T00:00:00.000Z'}  \n",
       "747030  {'$date': '2012-08-15T00:00:00.000Z'}  \n",
       "747031  {'$date': '2006-10-11T00:00:00.000Z'}  \n",
       "747032  {'$date': '2006-06-05T00:00:00.000Z'}  \n",
       "747033  {'$date': '2006-07-05T00:00:00.000Z'}  \n",
       "\n",
       "[747034 rows x 4 columns]"
      ]
     },
     "execution_count": 24,
     "metadata": {},
     "output_type": "execute_result"
    }
   ],
   "source": [
    "# посмотрим на признаки с датами\n",
    "df[['originDate', 'dateReg', 'dateOgrn', 'dateLiquid']]"
   ]
  },
  {
   "cell_type": "code",
   "execution_count": 25,
   "metadata": {},
   "outputs": [
    {
     "data": {
      "text/plain": [
       "True"
      ]
     },
     "execution_count": 25,
     "metadata": {},
     "output_type": "execute_result"
    }
   ],
   "source": [
    "# на первый взгляд признак originDate совпадает с признаками dateReg или dateOgrn, проверим по всему df\n",
    "df[(df.originDate == df.dateReg) | (df.originDate == df.dateOgrn)].shape[0] == len(df)"
   ]
  },
  {
   "cell_type": "code",
   "execution_count": 26,
   "metadata": {},
   "outputs": [],
   "source": [
    "# следовательно признаки dateReg и dateOgrn можно удалить\n",
    "df = df.drop(['dateReg', 'dateOgrn'], axis= 1)"
   ]
  },
  {
   "cell_type": "code",
   "execution_count": 27,
   "metadata": {},
   "outputs": [
    {
     "data": {
      "text/plain": [
       "0        2020-10-30 00:00:00+00:00\n",
       "1        2020-09-23 00:00:00+00:00\n",
       "2        2020-02-03 00:00:00+00:00\n",
       "3        2020-09-23 00:00:00+00:00\n",
       "4        2020-07-08 00:00:00+00:00\n",
       "                    ...           \n",
       "747029   2006-03-29 00:00:00+00:00\n",
       "747030   2006-08-09 00:00:00+00:00\n",
       "747031   1998-01-01 00:00:00+00:00\n",
       "747032   1987-12-05 00:00:00+00:00\n",
       "747033   1990-10-23 00:00:00+00:00\n",
       "Name: originDate, Length: 747034, dtype: datetime64[ns, UTC]"
      ]
     },
     "execution_count": 27,
     "metadata": {},
     "output_type": "execute_result"
    }
   ],
   "source": [
    "# преобразуем дату регистрации организации в формат datetime\n",
    "df['originDate'] = df['originDate'].apply(lambda x: pd.to_datetime(x['$date']))\n",
    "df['originDate']"
   ]
  },
  {
   "cell_type": "code",
   "execution_count": 28,
   "metadata": {},
   "outputs": [
    {
     "data": {
      "text/plain": [
       "0                                 0\n",
       "1                                 0\n",
       "2                                 0\n",
       "3                                 0\n",
       "4                                 0\n",
       "                    ...            \n",
       "747029    2009-01-12 00:00:00+00:00\n",
       "747030    2012-08-15 00:00:00+00:00\n",
       "747031    2006-10-11 00:00:00+00:00\n",
       "747032    2006-06-05 00:00:00+00:00\n",
       "747033    2006-07-05 00:00:00+00:00\n",
       "Name: dateLiquid, Length: 747034, dtype: object"
      ]
     },
     "execution_count": 28,
     "metadata": {},
     "output_type": "execute_result"
    }
   ],
   "source": [
    "# преобразуем дату ликвидации организации в формат datetime и заполним пропуски для удобства\n",
    "df['dateLiquid'] = df['dateLiquid'].apply(lambda x: pd.to_datetime(x['$date']) if x is not None else 0)\n",
    "df['dateLiquid']"
   ]
  },
  {
   "cell_type": "code",
   "execution_count": 29,
   "metadata": {},
   "outputs": [
    {
     "data": {
      "text/plain": [
       "count    747034.000000\n",
       "mean         12.418269\n",
       "std           8.936231\n",
       "min          -2.000000\n",
       "25%           5.500000\n",
       "50%          10.600000\n",
       "75%          17.900000\n",
       "max         138.700000\n",
       "Name: age_org, dtype: float64"
      ]
     },
     "execution_count": 29,
     "metadata": {},
     "output_type": "execute_result"
    }
   ],
   "source": [
    "# создадим новый признак возраста организации и для удобства переведем его в годы\n",
    "\n",
    "# т.к. данные за 2021 год, возьмем точку отсчета - 31.12.2021г.\n",
    "date_end = pd.to_datetime('2021-12-31', utc=True)\n",
    "def age_org(dateLiquid, originDate):\n",
    "    if dateLiquid != 0:\n",
    "        return (dateLiquid - originDate).days \n",
    "    else:\n",
    "        return (date_end - originDate).days\n",
    "    \n",
    "df['age_org'] = df.apply(lambda row: age_org(row['dateLiquid'], row['originDate']), axis=1)\n",
    "df['age_org'] = round(df['age_org'] / 365,1)\n",
    "\n",
    "# удаление признаков\n",
    "df = df.drop(['dateLiquid', 'originDate'], axis= 1)\n",
    "# описательная статистика\n",
    "df['age_org'].describe()"
   ]
  },
  {
   "cell_type": "code",
   "execution_count": 30,
   "metadata": {},
   "outputs": [
    {
     "data": {
      "image/png": "[encoded data removed]",
      "text/plain": [
       "<Figure size 640x480 with 1 Axes>"
      ]
     },
     "metadata": {},
     "output_type": "display_data"
    }
   ],
   "source": [
    "# посмотрим на распределение признака\n",
    "sns.boxplot(data=df, x='age_org');"
   ]
  },
  {
   "cell_type": "code",
   "execution_count": 31,
   "metadata": {},
   "outputs": [
    {
     "data": {
      "text/plain": [
       "0    2538\n",
       "Name: egrulStatus, dtype: int64"
      ]
     },
     "execution_count": 31,
     "metadata": {},
     "output_type": "execute_result"
    }
   ],
   "source": [
    "# на графике и в статистике можно увидеть, что есть организации с минусовым и нулевым значением возраста, посмотрим на их статус \n",
    "df[df.age_org <= 0]['egrulStatus'].value_counts()"
   ]
  },
  {
   "cell_type": "code",
   "execution_count": 32,
   "metadata": {},
   "outputs": [
    {
     "data": {
      "text/plain": [
       "count    744485.000000\n",
       "mean         12.459381\n",
       "std           8.915977\n",
       "min           0.100000\n",
       "25%           5.500000\n",
       "50%          10.600000\n",
       "75%          17.900000\n",
       "max          79.200000\n",
       "Name: age_org, dtype: float64"
      ]
     },
     "execution_count": 32,
     "metadata": {},
     "output_type": "execute_result"
    }
   ],
   "source": [
    "# все они уже недействующие, удалим строки, где возраст организации меньше и равен 0, а также больше 80 (скорей всего это выбросы)\n",
    "df = df[(df.age_org > 0) & (df.age_org < 80)]\n",
    "df['age_org'].describe()"
   ]
  },
  {
   "attachments": {},
   "cell_type": "markdown",
   "metadata": {},
   "source": [
    "## Преобразование признаков классификаторов"
   ]
  },
  {
   "cell_type": "code",
   "execution_count": 33,
   "metadata": {},
   "outputs": [
    {
     "data": {
      "text/plain": [
       "{'name': 'Предоставление прочих финансовых услуг, кроме услуг по страхованию и пенсионному обеспечению, не включенных в другие группировки',\n",
       " 'code': '64.99',\n",
       " 'version': 'ОК 029-2014 (КДЕС Ред. 2)'}"
      ]
     },
     "execution_count": 33,
     "metadata": {},
     "output_type": "execute_result"
    }
   ],
   "source": [
    "# посмотрим признак основной ОКВЭД (Общероссийский классификатор видов экономической деятельности)\n",
    "df['mainOkved'][1]"
   ]
  },
  {
   "cell_type": "code",
   "execution_count": 34,
   "metadata": {},
   "outputs": [
    {
     "name": "stdout",
     "output_type": "stream",
     "text": [
      "Количество пустых значений:  202179 202179\n",
      "Количество уникальных значений:  1923 2040\n",
      "Версии ОКВЭД:  ОК 029-2014 (КДЕС Ред. 2)    424181\n",
      "ОК 029-2001 (КДЕС Ред. 1)    320304\n",
      "Name: mainOkved_ver, dtype: int64\n"
     ]
    }
   ],
   "source": [
    "# создадим новые признаки\n",
    "df['mainOkved_name'] = df['mainOkved'].apply(get_name)\n",
    "df['mainOkved_code'] = df['mainOkved'].apply(get_code)\n",
    "df['mainOkved_ver'] = df['mainOkved'].apply(get_version)\n",
    "df = df.drop(['mainOkved'], axis= 1)\n",
    "\n",
    "print(\"Количество пустых значений: \", df.mainOkved_name.isnull().sum(), df.mainOkved_code.isnull().sum())\n",
    "print(\"Количество уникальных значений: \", df.mainOkved_name.nunique(), df.mainOkved_code.nunique())\n",
    "print(\"Версии ОКВЭД: \", df.mainOkved_ver.value_counts())"
   ]
  },
  {
   "attachments": {},
   "cell_type": "markdown",
   "metadata": {},
   "source": [
    "Количество уникальных значений наименований ОКВЭД не совпадает с количеством уникальных значений кодов, причиной скорей всего являются разные версии ОКВЭД (2001 и 2014гг). Т.е. к одному наименованию - разные коды ОКВЭД. Т.к. уникальных наименований меньше, чем кодов, последний признак можно будет в дальнейшем удалить, а к наименованию применить двоичное кодирование.\n",
    "\n",
    "Т.к. одной из подзадач является определение зависимости вероятности получения государственного финансирования от экономической деятельности органиазции, удалим строки с пустым ОКВЭД."
   ]
  },
  {
   "cell_type": "code",
   "execution_count": 35,
   "metadata": {},
   "outputs": [
    {
     "data": {
      "text/plain": [
       "(542306, 26)"
      ]
     },
     "execution_count": 35,
     "metadata": {},
     "output_type": "execute_result"
    }
   ],
   "source": [
    "df = df.dropna(subset=['mainOkved_name'])\n",
    "df.shape"
   ]
  },
  {
   "cell_type": "code",
   "execution_count": 36,
   "metadata": {},
   "outputs": [
    {
     "data": {
      "text/plain": [
       "1    424181\n",
       "0    118125\n",
       "Name: mainOkved_ver, dtype: int64"
      ]
     },
     "execution_count": 36,
     "metadata": {},
     "output_type": "execute_result"
    }
   ],
   "source": [
    "# обозначим старую версию ОКВЭД ред.1 - 0, новую версию ред.2 - 1 для удобства\n",
    "df['mainOkved_ver'] = df['mainOkved_ver'].apply(lambda x: 0 if x == 'ОК 029-2001 (КДЕС Ред. 1)' else 1)\n",
    "df['mainOkved_ver'].value_counts()"
   ]
  },
  {
   "cell_type": "code",
   "execution_count": 37,
   "metadata": {},
   "outputs": [
    {
     "data": {
      "text/plain": [
       "[{'name': 'Издание книг',\n",
       "  'code': '58.11',\n",
       "  'version': 'ОК 029-2014 (КДЕС Ред. 2)'},\n",
       " {'name': 'Издание газет',\n",
       "  'code': '58.13',\n",
       "  'version': 'ОК 029-2014 (КДЕС Ред. 2)'},\n",
       " {'name': 'Виды издательской деятельности прочие',\n",
       "  'code': '58.19',\n",
       "  'version': 'ОК 029-2014 (КДЕС Ред. 2)'},\n",
       " {'name': 'Издание аудиовизуальных произведений на магнитных, электронных и цифровых носителях',\n",
       "  'code': '59.20.1',\n",
       "  'version': 'ОК 029-2014 (КДЕС Ред. 2)'}]"
      ]
     },
     "execution_count": 37,
     "metadata": {},
     "output_type": "execute_result"
    }
   ],
   "source": [
    "# посмотрим на признак дополнительного ОКВЭДа\n",
    "df['addOkved'][1]"
   ]
  },
  {
   "cell_type": "code",
   "execution_count": 38,
   "metadata": {},
   "outputs": [
    {
     "data": {
      "text/html": [
       "<div>\n",
       "<style scoped>\n",
       "    .dataframe tbody tr th:only-of-type {\n",
       "        vertical-align: middle;\n",
       "    }\n",
       "\n",
       "    .dataframe tbody tr th {\n",
       "        vertical-align: top;\n",
       "    }\n",
       "\n",
       "    .dataframe thead th {\n",
       "        text-align: right;\n",
       "    }\n",
       "</style>\n",
       "<table border=\"1\" class=\"dataframe\">\n",
       "  <thead>\n",
       "    <tr style=\"text-align: right;\">\n",
       "      <th></th>\n",
       "      <th>addOkved</th>\n",
       "      <th>addOkved_bool</th>\n",
       "    </tr>\n",
       "  </thead>\n",
       "  <tbody>\n",
       "    <tr>\n",
       "      <th>count</th>\n",
       "      <td>542306.000000</td>\n",
       "      <td>542306.000000</td>\n",
       "    </tr>\n",
       "    <tr>\n",
       "      <th>mean</th>\n",
       "      <td>2.918681</td>\n",
       "      <td>0.502395</td>\n",
       "    </tr>\n",
       "    <tr>\n",
       "      <th>std</th>\n",
       "      <td>8.044923</td>\n",
       "      <td>0.499995</td>\n",
       "    </tr>\n",
       "    <tr>\n",
       "      <th>min</th>\n",
       "      <td>0.000000</td>\n",
       "      <td>0.000000</td>\n",
       "    </tr>\n",
       "    <tr>\n",
       "      <th>25%</th>\n",
       "      <td>0.000000</td>\n",
       "      <td>0.000000</td>\n",
       "    </tr>\n",
       "    <tr>\n",
       "      <th>50%</th>\n",
       "      <td>1.000000</td>\n",
       "      <td>1.000000</td>\n",
       "    </tr>\n",
       "    <tr>\n",
       "      <th>75%</th>\n",
       "      <td>3.000000</td>\n",
       "      <td>1.000000</td>\n",
       "    </tr>\n",
       "    <tr>\n",
       "      <th>max</th>\n",
       "      <td>985.000000</td>\n",
       "      <td>1.000000</td>\n",
       "    </tr>\n",
       "  </tbody>\n",
       "</table>\n",
       "</div>"
      ],
      "text/plain": [
       "            addOkved  addOkved_bool\n",
       "count  542306.000000  542306.000000\n",
       "mean        2.918681       0.502395\n",
       "std         8.044923       0.499995\n",
       "min         0.000000       0.000000\n",
       "25%         0.000000       0.000000\n",
       "50%         1.000000       1.000000\n",
       "75%         3.000000       1.000000\n",
       "max       985.000000       1.000000"
      ]
     },
     "execution_count": 38,
     "metadata": {},
     "output_type": "execute_result"
    }
   ],
   "source": [
    "# преобразуем данный признак в количество дополнительного ОКВЭДа\n",
    "df['addOkved'] = df['addOkved'].apply(lambda x: len(x))\n",
    "\n",
    "# и создадим бинарный признак наличия дополнительного ОКВЭД\n",
    "df['addOkved_bool'] = df['addOkved'].apply(lambda x: 1 if x > 0 else 0)\n",
    "\n",
    "# описательная статистика\n",
    "df[['addOkved', 'addOkved_bool']].describe()"
   ]
  },
  {
   "cell_type": "code",
   "execution_count": 39,
   "metadata": {},
   "outputs": [
    {
     "data": {
      "image/png": "[encoded data removed]",
      "text/plain": [
       "<Figure size 640x480 with 1 Axes>"
      ]
     },
     "metadata": {},
     "output_type": "display_data"
    }
   ],
   "source": [
    "# посмотрим на распределение признака\n",
    "df_addOkved = df[df['addOkved']>0]\n",
    "sns.boxplot(data=df_addOkved, x='addOkved');"
   ]
  },
  {
   "cell_type": "code",
   "execution_count": 40,
   "metadata": {},
   "outputs": [
    {
     "data": {
      "text/plain": [
       "678030    985\n",
       "281827    618\n",
       "292463    618\n",
       "1585      618\n",
       "570142    526\n",
       "263900    505\n",
       "261407    491\n",
       "250909    486\n",
       "252779    473\n",
       "655441    468\n",
       "Name: addOkved, dtype: int64"
      ]
     },
     "execution_count": 40,
     "metadata": {},
     "output_type": "execute_result"
    }
   ],
   "source": [
    "# максимальные значения данного признака\n",
    "df['addOkved'].sort_values(ascending=False).head(10)"
   ]
  },
  {
   "attachments": {},
   "cell_type": "markdown",
   "metadata": {},
   "source": [
    "Как показывает график и статистика, есть учреждения у которых количесто дополнительного ОКВЭДа больше 600, возможно так и есть, но лучше уменьшим для наглядности."
   ]
  },
  {
   "cell_type": "code",
   "execution_count": 41,
   "metadata": {},
   "outputs": [
    {
     "data": {
      "text/plain": [
       "count    542306.000000\n",
       "mean          2.917325\n",
       "std           7.928907\n",
       "min           0.000000\n",
       "25%           0.000000\n",
       "50%           1.000000\n",
       "75%           3.000000\n",
       "max         526.000000\n",
       "Name: addOkved, dtype: float64"
      ]
     },
     "execution_count": 41,
     "metadata": {},
     "output_type": "execute_result"
    }
   ],
   "source": [
    "df['addOkved'] = df['addOkved'].apply(lambda x: 526 if x > 600 else x)\n",
    "df['addOkved'].describe()"
   ]
  },
  {
   "cell_type": "code",
   "execution_count": 42,
   "metadata": {},
   "outputs": [
    {
     "data": {
      "text/plain": [
       "{'name': 'Фонды', 'code': '70400', 'version': 'okopf'}"
      ]
     },
     "execution_count": 42,
     "metadata": {},
     "output_type": "execute_result"
    }
   ],
   "source": [
    "# посмотрим признак ОКОПФ (Общероссийский классификатор организационно-правовых форм)\n",
    "df.opf[1]"
   ]
  },
  {
   "cell_type": "code",
   "execution_count": 43,
   "metadata": {},
   "outputs": [
    {
     "name": "stdout",
     "output_type": "stream",
     "text": [
      "Количество пустых значений:  25 26405\n",
      "Количество уникальных значений:  216 139\n",
      "okopf      511875\n",
      "raw_opf     26380\n",
      "kopf         4026\n",
      "Name: opf_ver, dtype: int64\n"
     ]
    }
   ],
   "source": [
    "# создадим новые признаки\n",
    "df['opf_name'] = df['opf'].apply(get_name)\n",
    "df['opf_code'] = df['opf'].apply(get_code)\n",
    "df['opf_ver'] = df['opf'].apply(get_version)\n",
    "\n",
    "print(\"Количество пустых значений: \", df.opf_name.isnull().sum(), df.opf_code.isnull().sum())\n",
    "print(\"Количество уникальных значений: \", df.opf_name.nunique(), df.opf_code.nunique())\n",
    "print(df.opf_ver.value_counts())"
   ]
  },
  {
   "attachments": {},
   "cell_type": "markdown",
   "metadata": {},
   "source": [
    "Пропусков у кодов ОКОПФ больше, чем у наименований. Также имеется разница в уникальных значениях и разные версии ОКОПФ."
   ]
  },
  {
   "cell_type": "code",
   "execution_count": 44,
   "metadata": {},
   "outputs": [],
   "source": [
    "# заполним пропуски из признака 'fullName', т.к. в названии организации часто содержится информация об организационно-правовой форме\n",
    "df['opf_name'] = df['opf_name'].fillna(df['fullName']).str.lower()    #нижний регистр\n",
    "df['opf_name'].value_counts().head(20)\n",
    "df = df.drop(['opf'], axis= 1)"
   ]
  },
  {
   "cell_type": "code",
   "execution_count": 45,
   "metadata": {},
   "outputs": [
    {
     "data": {
      "text/plain": [
       "Общественная организация                       107438\n",
       "Товарищества                                    81399\n",
       "Автономная организация                          48641\n",
       "Потребительский кооператив                      48139\n",
       "Гаражные и гаражно-строительные кооперативы     45420\n",
       "Фонд                                            35796\n",
       "Партнерства                                     32859\n",
       "Религиозная организация                         32399\n",
       "Другие учреждения                               22565\n",
       "Профсоюз                                        20201\n",
       "Частное учреждение                              20164\n",
       "Другие кооперативы                              19636\n",
       "Ассоциации_союзы                                17518\n",
       "Общества                                        10131\n",
       "Name: opf_group, dtype: int64"
      ]
     },
     "execution_count": 45,
     "metadata": {},
     "output_type": "execute_result"
    }
   ],
   "source": [
    "# сократим количество уникальных значений ОПФ, разделив на группы\n",
    "def opf_group(name):\n",
    "    if \"фонд\" in name:\n",
    "        return \"Фонд\"\n",
    "    elif \"автономн\" in name:\n",
    "        return \"Автономная организация\"\n",
    "    elif \"частн\" in name:\n",
    "        return \"Частное учреждение\"\n",
    "    elif (\"религиоз\" in name or \"церков\" in name) and (\"или\" not in name):\n",
    "        return \"Религиозная организация\"\n",
    "    elif \"профсоюз\" in name:\n",
    "        return \"Профсоюз\"\n",
    "    elif \"союз\" in name or \"ассоциац\" in name:\n",
    "        return \"Ассоциации_союзы\"\n",
    "    elif \"кооператив\" in name and \"потребит\" in name:\n",
    "        return \"Потребительский кооператив\"\n",
    "    elif \"кооператив\" in name and \"гараж\" in name:\n",
    "        return \"Гаражные и гаражно-строительные кооперативы\"\n",
    "    elif \"кооператив\" in name:\n",
    "        return \"Другие кооперативы\"\n",
    "    elif \"товарищ\" in name:\n",
    "        return \"Товарищества\"  \n",
    "    elif \"партнерст\" in name:\n",
    "        return \"Партнерства\"  \n",
    "    elif \"частн\" in name:\n",
    "        return \"Частное учреждение\"\n",
    "    elif \"обществен\" in name and \"само\" not in name:\n",
    "        return \"Общественная организация\"\n",
    "    elif \"обществ\" in name and \"само\" not in name:\n",
    "        return \"Общества\"\n",
    "    else:\n",
    "        return \"Другие учреждения\"\n",
    "    \n",
    "df['opf_group'] = df['opf_name'].apply(opf_group)\n",
    "df['opf_group'].value_counts()"
   ]
  },
  {
   "cell_type": "code",
   "execution_count": 46,
   "metadata": {},
   "outputs": [
    {
     "data": {
      "text/plain": [
       "{'name': None, 'code': None}"
      ]
     },
     "execution_count": 46,
     "metadata": {},
     "output_type": "execute_result"
    }
   ],
   "source": [
    "# посмотрим признак ОКФС (Общероссийский классификатор форм собственности)\n",
    "df.okfs[1]"
   ]
  },
  {
   "cell_type": "code",
   "execution_count": 47,
   "metadata": {},
   "outputs": [
    {
     "name": "stdout",
     "output_type": "stream",
     "text": [
      "Количество пустых значений:  208502 208502\n",
      "Количество уникальных значений:  27 27\n",
      "Частная собственность                                                                                                   203220\n",
      "Собственность общественных объединений                                                                                   63695\n",
      "Собственность религиозных объединений                                                                                    30407\n",
      "Собственность профессиональных союзов                                                                                    15884\n",
      "Собственность благотворительных организаций                                                                              10497\n",
      "Собственность политических общественных объединений                                                                       3048\n",
      "Собственность потребительской кооперации                                                                                  2610\n",
      "Иная смешанная российская собственность                                                                                   1479\n",
      "Смешанная российская собственность с долей федеральной собственности                                                       773\n",
      "Совместная частная и иностранная собственность                                                                             548\n",
      "Смешанная российская собственность с долей собственности субъектов Российской Федерации                                    494\n",
      "Муниципальная собственность                                                                                                299\n",
      "Собственность субъектов Российской Федерации                                                                               254\n",
      "Федеральная собственность                                                                                                  177\n",
      "Смешанная российская собственность с долями федеральной собственности и собственности субъектов Российской Федерации       165\n",
      "Собственность иностранных граждан и лиц без гражданства                                                                     85\n",
      "Собственность иностранных юридических лиц                                                                                   40\n",
      "Совместная федеральная и иностранная собственность                                                                          35\n",
      "Совместная собственность общественных и религиозных организаций (объединений) и иностранная собственность                   21\n",
      "Собственность общественных и религиозных организаций (объединений)                                                          18\n",
      "Собственность государственных корпораций                                                                                    18\n",
      "Совместная собственность субъектов Российской Федерации и иностранная собственность                                         14\n",
      "Собственность международных организаций                                                                                     11\n",
      "Собственность иностранных государств                                                                                         8\n",
      "Собственность российских граждан, постоянно проживающих за границей                                                          2\n",
      "Смешанная иностранная собственность                                                                                          1\n",
      "Совместная муниципальная и иностранная собственность                                                                         1\n",
      "Name: okfs_name, dtype: int64\n"
     ]
    }
   ],
   "source": [
    "# создадим новые признаки\n",
    "df['okfs_name'] = df['okfs'].apply(get_name)\n",
    "df['okfs_code'] = df['okfs'].apply(get_code)\n",
    "df = df.drop(['okfs'], axis= 1)\n",
    "\n",
    "print(\"Количество пустых значений: \", df.okfs_name.isnull().sum(), df.okfs_code.isnull().sum())\n",
    "print(\"Количество уникальных значений: \", df.okfs_name.nunique(), df.okfs_code.nunique())\n",
    "print(df.okfs_name.value_counts())"
   ]
  },
  {
   "attachments": {},
   "cell_type": "markdown",
   "metadata": {},
   "source": [
    "Количество пропусков и уникальных значений у наименований и кодов ОКФС совпадает, но имеется много пропусков."
   ]
  },
  {
   "cell_type": "code",
   "execution_count": 48,
   "metadata": {},
   "outputs": [
    {
     "data": {
      "text/plain": [
       "{'name': None, 'code': None}"
      ]
     },
     "execution_count": 48,
     "metadata": {},
     "output_type": "execute_result"
    }
   ],
   "source": [
    "# посмотрим признак ОКОГУ (Общероссийского классификатора органов государственной власти и управления)\n",
    "df.okogu[1]"
   ]
  },
  {
   "cell_type": "code",
   "execution_count": 49,
   "metadata": {},
   "outputs": [
    {
     "name": "stdout",
     "output_type": "stream",
     "text": [
      "Количество пустых значений:  208512 208502\n",
      "Количество уникальных значений:  67 71\n",
      "Организации, учрежденные юридическими лицами или гражданами, или юридическими лицами и гражданами совместно                              211341\n",
      "Региональные и местные общественные объединения                                                                                           82919\n",
      "Другие хозяйствующие субъекты                                                                                                             30190\n",
      "Центральный союз потребительских обществ Российской Федерации                                                                              2569\n",
      "Межрегиональные общественные объединения                                                                                                   2458\n",
      "                                                                                                                                          ...  \n",
      "Местные администрации (исполнительно-распорядительные органы) внутригородских территорий городов федерального значения                        1\n",
      "Органы исполнительной власти субъектов Российской Федерации, осуществляющие функции в области/ финансирования охраны окружающей среды         1\n",
      "Электроэнергетический совет Содружества Независимых Государств                                                                                1\n",
      "Государственная компания <Российские автомобильные дороги>                                                                                    1\n",
      "Организация Договора о коллективной безопасности                                                                                              1\n",
      "Name: okogu_name, Length: 67, dtype: int64\n"
     ]
    }
   ],
   "source": [
    "# создадим новые признаки\n",
    "df['okogu_name'] = df['okogu'].apply(get_name)\n",
    "df['okogu_code'] = df['okogu'].apply(get_code)\n",
    "df = df.drop(['okogu'], axis= 1)\n",
    "\n",
    "print(\"Количество пустых значений: \", df.okogu_name.isnull().sum(), df.okogu_code.isnull().sum())\n",
    "print(\"Количество уникальных значений: \", df.okogu_name.nunique(), df.okogu_code.nunique())\n",
    "print(df.okogu_name.value_counts())"
   ]
  },
  {
   "cell_type": "code",
   "execution_count": 50,
   "metadata": {},
   "outputs": [
    {
     "data": {
      "text/plain": [
       "{'name': None, 'code': None}"
      ]
     },
     "execution_count": 50,
     "metadata": {},
     "output_type": "execute_result"
    }
   ],
   "source": [
    "# посмотрим признак ОКТМО (Общероссийский классификатор территорий муниципальных образований)\n",
    "df.oktmo[1]"
   ]
  },
  {
   "cell_type": "code",
   "execution_count": 51,
   "metadata": {},
   "outputs": [
    {
     "name": "stdout",
     "output_type": "stream",
     "text": [
      "Количество пустых значений:  274221 208502\n",
      "Количество уникальных значений:  21064 27435\n",
      "г Новосибирск     5850\n",
      "г Екатеринбург    4358\n",
      "г Пермь           4242\n",
      "г Красноярск      3686\n",
      "г Омск            3432\n",
      "                  ... \n",
      "д Шумерля            1\n",
      "д Малы               1\n",
      "д Латышево           1\n",
      "д Елышево            1\n",
      "х Маяк               1\n",
      "Name: oktmo_name, Length: 21064, dtype: int64\n"
     ]
    }
   ],
   "source": [
    "# создадим новые признаки\n",
    "df['oktmo_name'] = df['oktmo'].apply(get_name)\n",
    "df['oktmo_code'] = df['oktmo'].apply(get_code)\n",
    "df = df.drop(['oktmo'], axis= 1)\n",
    "\n",
    "print(\"Количество пустых значений: \", df.oktmo_name.isnull().sum(), df.oktmo_code.isnull().sum())\n",
    "print(\"Количество уникальных значений: \", df.oktmo_name.nunique(), df.oktmo_code.nunique())\n",
    "print(df.oktmo_name.value_counts())"
   ]
  },
  {
   "cell_type": "code",
   "execution_count": 52,
   "metadata": {},
   "outputs": [
    {
     "data": {
      "text/plain": [
       "{'name': None, 'code': None}"
      ]
     },
     "execution_count": 52,
     "metadata": {},
     "output_type": "execute_result"
    }
   ],
   "source": [
    "# посмотрим признак ОКАТО (Общероссийский классификатор административно-территориального деления)\n",
    "df.okato[1]"
   ]
  },
  {
   "cell_type": "code",
   "execution_count": 53,
   "metadata": {},
   "outputs": [
    {
     "name": "stdout",
     "output_type": "stream",
     "text": [
      "Количество пустых значений:  217104 208502\n",
      "Количество уникальных значений:  21453 27703\n",
      "Ленинский         16183\n",
      "Центральный       15797\n",
      "Октябрьский       11163\n",
      "Советский         10290\n",
      "Кировский          7962\n",
      "                  ...  \n",
      "с Пискуновское        1\n",
      "с Саиткулово          1\n",
      "Гусевский             1\n",
      "с Икшурма             1\n",
      "х Маяк                1\n",
      "Name: okato_name, Length: 21453, dtype: int64\n"
     ]
    }
   ],
   "source": [
    "# создадим новые признаки\n",
    "df['okato_name'] = df['okato'].apply(get_name)\n",
    "df['okato_code'] = df['okato'].apply(get_code)\n",
    "df = df.drop(['okato'], axis= 1)\n",
    "\n",
    "print(\"Количество пустых значений: \", df.okato_name.isnull().sum(), df.okato_code.isnull().sum())\n",
    "print(\"Количество уникальных значений: \", df.okato_name.nunique(), df.okato_code.nunique())\n",
    "print(df.okato_name.value_counts())"
   ]
  },
  {
   "attachments": {},
   "cell_type": "markdown",
   "metadata": {},
   "source": [
    "У признаков ОКАТО, ОКТМО, ОКОГУ и ОКФС много пропусков, скорей всего удалим их."
   ]
  },
  {
   "attachments": {},
   "cell_type": "markdown",
   "metadata": {},
   "source": [
    "## Преобразование признаков, содержащих сведения о региональной и государственной поддержке"
   ]
  },
  {
   "cell_type": "code",
   "execution_count": 54,
   "metadata": {},
   "outputs": [
    {
     "data": {
      "text/plain": [
       "False    531354\n",
       "True      10952\n",
       "Name: hasRegionalSupport, dtype: int64"
      ]
     },
     "execution_count": 54,
     "metadata": {},
     "output_type": "execute_result"
    }
   ],
   "source": [
    "# признак наличия сведений о том, что организация была получателем региональной поддержки в качестве СО НКО \n",
    "df.hasRegionalSupport.value_counts()"
   ]
  },
  {
   "cell_type": "code",
   "execution_count": 55,
   "metadata": {},
   "outputs": [
    {
     "data": {
      "text/plain": [
       "0    531354\n",
       "1     10952\n",
       "Name: hasRegionalSupport, dtype: int64"
      ]
     },
     "execution_count": 55,
     "metadata": {},
     "output_type": "execute_result"
    }
   ],
   "source": [
    "# преобразуем данный признак для удобства\n",
    "df['hasRegionalSupport'] = df['hasRegionalSupport'].apply(lambda x: 1 if x==True else 0)\n",
    "df.hasRegionalSupport.value_counts()"
   ]
  },
  {
   "cell_type": "code",
   "execution_count": 56,
   "metadata": {},
   "outputs": [
    {
     "data": {
      "text/plain": [
       "{'grants': {'totalCount': 0, 'totalSum': 0},\n",
       " 'fedSubsidies': {'totalCount': 0, 'totalSum': 0},\n",
       " 'contracts44': {'totalCount': 0, 'totalSum': 0},\n",
       " 'contracts223': {'totalCount': 0, 'totalSum': 0},\n",
       " 'contracts94': {'totalCount': 0, 'totalSum': 0}}"
      ]
     },
     "execution_count": 56,
     "metadata": {},
     "output_type": "execute_result"
    }
   ],
   "source": [
    "#  признак детализации сведений о доходах \n",
    "df.incomeDetail[1]"
   ]
  },
  {
   "cell_type": "code",
   "execution_count": 57,
   "metadata": {},
   "outputs": [],
   "source": [
    "# создадим новые признаки\n",
    "df['grants_count'] = df['incomeDetail'].apply(lambda x: x['grants']['totalCount'])\n",
    "df['grants_sum'] = df['incomeDetail'].apply(lambda x: x['grants']['totalSum']).round()\n",
    "\n",
    "df['fedSub_count'] = df['incomeDetail'].apply(lambda x: x['fedSubsidies']['totalCount'])\n",
    "df['fedSub_sum'] = df['incomeDetail'].apply(lambda x: x['fedSubsidies']['totalSum']).round()\n",
    "\n",
    "df['contract_count'] = df['incomeDetail'].apply(lambda x: x['contracts44']['totalCount'] + x['contracts223']['totalCount'] + x['contracts94']['totalCount'])\n",
    "df['contract_sum'] = df['incomeDetail'].apply(lambda x: x['contracts44']['totalSum'] + x['contracts223']['totalSum'] + x['contracts94']['totalSum']).round()\n",
    "\n",
    "df['incomeTotal'] = df['incomeTotal'].round()\n",
    "df = df.drop(['incomeDetail'], axis= 1)"
   ]
  },
  {
   "cell_type": "code",
   "execution_count": 58,
   "metadata": {},
   "outputs": [
    {
     "name": "stdout",
     "output_type": "stream",
     "text": [
      "Количество НКО, получивших грант 11116\n",
      "Количество НКО, получивших федеральную субсидию 2840\n",
      "Количество НКО, получивших госконтракты 22837\n"
     ]
    }
   ],
   "source": [
    "# посмотрим на количество НКО, получивших государственное финансирование по его видам\n",
    "print(\"Количество НКО, получивших грант\", df[df['grants_count']>0].shape[0])\n",
    "print(\"Количество НКО, получивших федеральную субсидию\", df[df['fedSub_count']>0].shape[0])\n",
    "print(\"Количество НКО, получивших госконтракты\", df[df['contract_count']>0].shape[0])"
   ]
  },
  {
   "attachments": {},
   "cell_type": "markdown",
   "metadata": {},
   "source": [
    "Больше всего НКО получают госконтракты, меньше всего федеральную субсидию."
   ]
  },
  {
   "cell_type": "code",
   "execution_count": 59,
   "metadata": {},
   "outputs": [
    {
     "data": {
      "text/plain": [
       "count    542306.000000\n",
       "mean          0.767288\n",
       "std          14.626486\n",
       "min           0.000000\n",
       "25%           0.000000\n",
       "50%           0.000000\n",
       "75%           0.000000\n",
       "max        2538.000000\n",
       "Name: gos_help_count, dtype: float64"
      ]
     },
     "execution_count": 59,
     "metadata": {},
     "output_type": "execute_result"
    }
   ],
   "source": [
    "# для удобства объединим все виды государственного финансирования в один признак\n",
    "df['gos_help_count'] = df.grants_count + df.fedSub_count + df.contract_count\n",
    "df['gos_help_count'].describe()"
   ]
  },
  {
   "cell_type": "code",
   "execution_count": 60,
   "metadata": {},
   "outputs": [
    {
     "data": {
      "image/png": "[encoded data removed]",
      "text/plain": [
       "<Figure size 640x480 with 1 Axes>"
      ]
     },
     "metadata": {},
     "output_type": "display_data"
    }
   ],
   "source": [
    "# посмотрим на распределение данного признака, в целях выявления выбросов\n",
    "sns.boxplot(data=df[df.gos_help_count != 0], x='gos_help_count');"
   ]
  },
  {
   "cell_type": "code",
   "execution_count": 61,
   "metadata": {},
   "outputs": [
    {
     "data": {
      "text/plain": [
       "144085    2538\n",
       "392322    2461\n",
       "326975    2461\n",
       "66265     2222\n",
       "566340    1960\n",
       "399372    1785\n",
       "400006    1607\n",
       "582973    1602\n",
       "490983    1587\n",
       "106685    1456\n",
       "Name: gos_help_count, dtype: int64"
      ]
     },
     "execution_count": 61,
     "metadata": {},
     "output_type": "execute_result"
    }
   ],
   "source": [
    "# максимальные значения данного признака\n",
    "df['gos_help_count'].sort_values(ascending=False).head(10)"
   ]
  },
  {
   "cell_type": "code",
   "execution_count": 62,
   "metadata": {},
   "outputs": [
    {
     "data": {
      "image/png": "[encoded data removed]",
      "text/plain": [
       "<Figure size 640x480 with 1 Axes>"
      ]
     },
     "metadata": {},
     "output_type": "display_data"
    }
   ],
   "source": [
    "# посмотрим на распределение признака общего дохода, в целях выявления выбросов\n",
    "sns.boxplot(data=df[df.incomeTotal != 0], x='incomeTotal');"
   ]
  },
  {
   "cell_type": "code",
   "execution_count": 63,
   "metadata": {},
   "outputs": [
    {
     "data": {
      "text/plain": [
       "106223    1227.755896\n",
       "243784     349.406707\n",
       "228365     220.617223\n",
       "249520     170.938595\n",
       "711698     139.569241\n",
       "342533     132.906507\n",
       "137685     132.083246\n",
       "249077     108.220280\n",
       "252843      76.500000\n",
       "138213      63.083504\n",
       "Name: incomeTotal, dtype: float64"
      ]
     },
     "execution_count": 63,
     "metadata": {},
     "output_type": "execute_result"
    }
   ],
   "source": [
    "# максимальные значения данного признака\n",
    "df['incomeTotal'].sort_values(ascending=False).head(10)/1000000000"
   ]
  },
  {
   "cell_type": "code",
   "execution_count": 64,
   "metadata": {},
   "outputs": [
    {
     "data": {
      "text/plain": [
       "count    5.423060e+05\n",
       "mean     5.439036e+06\n",
       "std      8.739476e+08\n",
       "min      0.000000e+00\n",
       "25%      0.000000e+00\n",
       "50%      0.000000e+00\n",
       "75%      0.000000e+00\n",
       "max      3.494067e+11\n",
       "Name: incomeTotal, dtype: float64"
      ]
     },
     "execution_count": 64,
     "metadata": {},
     "output_type": "execute_result"
    }
   ],
   "source": [
    "# в признаке общего дохода явно выделяется последнее значение, поэтому подкорректируем его\n",
    "df['incomeTotal'].loc[106223] = df['incomeTotal'].loc[243784]+1\n",
    "df['incomeTotal'].describe()"
   ]
  },
  {
   "cell_type": "code",
   "execution_count": 65,
   "metadata": {},
   "outputs": [
    {
     "data": {
      "text/plain": [
       "((33209, 40), (33300, 40))"
      ]
     },
     "execution_count": 65,
     "metadata": {},
     "output_type": "execute_result"
    }
   ],
   "source": [
    "# проверим соотвествие признаков incomeTotal и gos_help_count\n",
    "df[df.incomeTotal>0].shape, df[df.gos_help_count>0].shape"
   ]
  },
  {
   "attachments": {},
   "cell_type": "markdown",
   "metadata": {},
   "source": [
    "Размеры данных признаков не совпадают. Можно предположить, что либо не указан доход, либо ошибочно указано количество."
   ]
  },
  {
   "cell_type": "code",
   "execution_count": 66,
   "metadata": {},
   "outputs": [
    {
     "data": {
      "text/plain": [
       "((33209, 40), (33209, 40))"
      ]
     },
     "execution_count": 66,
     "metadata": {},
     "output_type": "execute_result"
    }
   ],
   "source": [
    "# обнулим количество, если не указан доход\n",
    "df.loc[df['incomeTotal'] == 0, 'gos_help_count'] = 0\n",
    "df[df.incomeTotal>0].shape, df[df.gos_help_count>0].shape"
   ]
  },
  {
   "cell_type": "code",
   "execution_count": 67,
   "metadata": {},
   "outputs": [
    {
     "data": {
      "text/plain": [
       "0    509097\n",
       "1     33209\n",
       "Name: target, dtype: int64"
      ]
     },
     "execution_count": 67,
     "metadata": {},
     "output_type": "execute_result"
    }
   ],
   "source": [
    "# создадим целевую переменную получения/неполучения государственного финансирования на основе признака incomeTotal\n",
    "df['target'] = df['incomeTotal'].apply(lambda x: 1 if x > 0 else 0)\n",
    "# посмотрим сколько организаций получали госфинансирование\n",
    "df['target'].value_counts()"
   ]
  },
  {
   "attachments": {},
   "cell_type": "markdown",
   "metadata": {},
   "source": [
    "## Преобразование остальных признаков"
   ]
  },
  {
   "cell_type": "code",
   "execution_count": 68,
   "metadata": {},
   "outputs": [
    {
     "data": {
      "text/plain": [
       "{'youtube': None,\n",
       " 'vk': None,\n",
       " 'facebook': None,\n",
       " 'twitter': None,\n",
       " 'instagram': None,\n",
       " 'ok': None}"
      ]
     },
     "execution_count": 68,
     "metadata": {},
     "output_type": "execute_result"
    }
   ],
   "source": [
    "# сведения об учетных записях организации в соцсетях \n",
    "df.socialMedia[1]"
   ]
  },
  {
   "cell_type": "code",
   "execution_count": 69,
   "metadata": {},
   "outputs": [
    {
     "data": {
      "text/plain": [
       "0    542300\n",
       "1         6\n",
       "Name: socialMedia, dtype: int64"
      ]
     },
     "execution_count": 69,
     "metadata": {},
     "output_type": "execute_result"
    }
   ],
   "source": [
    "# преобразуем в бинарный признак\n",
    "def get_media(etem):\n",
    "    if (etem['youtube'] is not None \n",
    "    or etem['vk'] is not None \n",
    "    or etem['facebook'] is not None \n",
    "    or etem['twitter'] is not None \n",
    "    or etem['instagram'] is not None\n",
    "    or etem['ok'] is not None):\n",
    "        return 1\n",
    "    else:\n",
    "        return 0\n",
    "\n",
    "df['socialMedia'] = df['socialMedia'].apply(get_media)\n",
    "df['socialMedia'].value_counts()"
   ]
  },
  {
   "cell_type": "code",
   "execution_count": 70,
   "metadata": {},
   "outputs": [
    {
     "data": {
      "text/plain": [
       "0                                                        []\n",
       "1         [{'localUrl': 'http://cdnx.h5.crftr.net/f/4,18...\n",
       "2                                                        []\n",
       "3                                                        []\n",
       "4                                                        []\n",
       "                                ...                        \n",
       "747026                                                   []\n",
       "747027                                                   []\n",
       "747028                                                   []\n",
       "747029                                                   []\n",
       "747030                                                   []\n",
       "Name: reports, Length: 542306, dtype: object"
      ]
     },
     "execution_count": 70,
     "metadata": {},
     "output_type": "execute_result"
    }
   ],
   "source": [
    "# отчеты организации, поданные в Минюст РФ \n",
    "df.reports"
   ]
  },
  {
   "cell_type": "code",
   "execution_count": 71,
   "metadata": {},
   "outputs": [
    {
     "data": {
      "text/plain": [
       "0    413323\n",
       "1    128983\n",
       "Name: reports, dtype: int64"
      ]
     },
     "execution_count": 71,
     "metadata": {},
     "output_type": "execute_result"
    }
   ],
   "source": [
    "# преобразуем в бинарный признак\n",
    "df['reports'] = df['reports'].apply(lambda x: 0 if x == [] else 1)\n",
    "df['reports'].value_counts()"
   ]
  },
  {
   "cell_type": "code",
   "execution_count": 72,
   "metadata": {},
   "outputs": [
    {
     "name": "stdout",
     "output_type": "stream",
     "text": [
      "количество дубликатов по огрн: 0\n",
      "количество дубликатов по инн: 739\n"
     ]
    }
   ],
   "source": [
    "# ОГРН и ИНН являются уникальными признаками, посмотрим на дубликаты по ним\n",
    "print(\"количество дубликатов по огрн:\", df.duplicated(['ogrn']).sum())\n",
    "\n",
    "# т.к. в данных ИНН имеются пропуски, посмотрим дубликаты по ИНН и наименованию организации\n",
    "print(\"количество дубликатов по инн:\", df.duplicated(['inn', 'shortName']).sum())"
   ]
  },
  {
   "cell_type": "code",
   "execution_count": 73,
   "metadata": {},
   "outputs": [
    {
     "data": {
      "text/plain": [
       "0    758\n",
       "1     26\n",
       "Name: egrulStatus, dtype: int64"
      ]
     },
     "execution_count": 73,
     "metadata": {},
     "output_type": "execute_result"
    }
   ],
   "source": [
    "# посмотрим на статус организаций-дубликатов\n",
    "inn_dupl = df[df.duplicated(['inn', 'shortName'], keep=False)]\n",
    "inn_dupl['egrulStatus'].value_counts()"
   ]
  },
  {
   "attachments": {},
   "cell_type": "markdown",
   "metadata": {},
   "source": [
    "Большинство организаций-дубликатов по ИНН являются недействующими, возможно из-за перерегистрации или ошибочной регистрации."
   ]
  },
  {
   "cell_type": "code",
   "execution_count": 74,
   "metadata": {},
   "outputs": [
    {
     "data": {
      "text/plain": [
       "0"
      ]
     },
     "execution_count": 74,
     "metadata": {},
     "output_type": "execute_result"
    }
   ],
   "source": [
    "# удалим организации-дубликаты, осортировав их по наличию целевого признака, статусу и возрасту.\n",
    "df = df.sort_values(['target', 'egrulStatus', 'age_org']).drop_duplicates(['inn', 'shortName'], keep='first')\n",
    "df.duplicated(['inn', 'shortName']).sum()"
   ]
  },
  {
   "cell_type": "code",
   "execution_count": 75,
   "metadata": {},
   "outputs": [
    {
     "name": "stdout",
     "output_type": "stream",
     "text": [
      "<class 'pandas.core.frame.DataFrame'>\n",
      "Int64Index: 541567 entries, 200253 to 152528\n",
      "Data columns (total 41 columns):\n",
      " #   Column              Non-Null Count   Dtype  \n",
      "---  ------              --------------   -----  \n",
      " 0   regionName          541567 non-null  object \n",
      " 1   fullName            541567 non-null  object \n",
      " 2   ogrn                541567 non-null  int64  \n",
      " 3   egrulStatus         541567 non-null  int64  \n",
      " 4   regionCode          541567 non-null  int64  \n",
      " 5   incomeTotal         541567 non-null  float64\n",
      " 6   inn                 541451 non-null  float64\n",
      " 7   address             541567 non-null  object \n",
      " 8   kpp                 541382 non-null  float64\n",
      " 9   hasRegionalSupport  541567 non-null  int64  \n",
      " 10  addOkved            541567 non-null  int64  \n",
      " 11  shortName           471793 non-null  object \n",
      " 12  socialMedia         541567 non-null  int64  \n",
      " 13  reports             541567 non-null  int64  \n",
      " 14  status_name         12768 non-null   object \n",
      " 15  status_code         12768 non-null   object \n",
      " 16  age_org             541567 non-null  float64\n",
      " 17  mainOkved_name      541567 non-null  object \n",
      " 18  mainOkved_code      541567 non-null  object \n",
      " 19  mainOkved_ver       541567 non-null  int64  \n",
      " 20  addOkved_bool       541567 non-null  int64  \n",
      " 21  opf_name            541567 non-null  object \n",
      " 22  opf_code            515307 non-null  object \n",
      " 23  opf_ver             541543 non-null  object \n",
      " 24  opf_group           541567 non-null  object \n",
      " 25  okfs_name           333781 non-null  object \n",
      " 26  okfs_code           333781 non-null  object \n",
      " 27  okogu_name          333771 non-null  object \n",
      " 28  okogu_code          333781 non-null  object \n",
      " 29  oktmo_name          268064 non-null  object \n",
      " 30  oktmo_code          333781 non-null  object \n",
      " 31  okato_name          325181 non-null  object \n",
      " 32  okato_code          333781 non-null  object \n",
      " 33  grants_count        541567 non-null  int64  \n",
      " 34  grants_sum          541567 non-null  float64\n",
      " 35  fedSub_count        541567 non-null  int64  \n",
      " 36  fedSub_sum          541567 non-null  float64\n",
      " 37  contract_count      541567 non-null  int64  \n",
      " 38  contract_sum        541567 non-null  float64\n",
      " 39  gos_help_count      541567 non-null  int64  \n",
      " 40  target              541567 non-null  int64  \n",
      "dtypes: float64(7), int64(14), object(20)\n",
      "memory usage: 173.5+ MB\n"
     ]
    }
   ],
   "source": [
    "df.info()"
   ]
  },
  {
   "cell_type": "code",
   "execution_count": 76,
   "metadata": {},
   "outputs": [
    {
     "data": {
      "text/plain": [
       "status_name    97.642397\n",
       "status_code    97.642397\n",
       "oktmo_name     50.502154\n",
       "okato_name     39.955536\n",
       "okogu_name     38.369398\n",
       "okfs_name      38.367552\n",
       "okfs_code      38.367552\n",
       "okogu_code     38.367552\n",
       "oktmo_code     38.367552\n",
       "okato_code     38.367552\n",
       "shortName      12.883724\n",
       "opf_code        4.848892\n",
       "kpp             0.034160\n",
       "inn             0.021419\n",
       "opf_ver         0.004432\n",
       "dtype: float64"
      ]
     },
     "metadata": {},
     "output_type": "display_data"
    }
   ],
   "source": [
    "# выведем названия столбцов, где число пропусков больше 0 \n",
    "cols_null_percent = df.isnull().mean() * 100\n",
    "cols_with_null = cols_null_percent[cols_null_percent>0].sort_values(ascending=False)\n",
    "display(cols_with_null)"
   ]
  },
  {
   "cell_type": "code",
   "execution_count": 77,
   "metadata": {},
   "outputs": [
    {
     "data": {
      "text/plain": [
       "regionName                86\n",
       "fullName              478957\n",
       "ogrn                  541567\n",
       "egrulStatus                2\n",
       "regionCode                92\n",
       "incomeTotal            27481\n",
       "inn                   541411\n",
       "address               477401\n",
       "kpp                     3080\n",
       "hasRegionalSupport         2\n",
       "addOkved                 255\n",
       "shortName             395542\n",
       "socialMedia                2\n",
       "reports                    2\n",
       "status_name               18\n",
       "status_code               18\n",
       "age_org                  681\n",
       "mainOkved_name          1921\n",
       "mainOkved_code          2040\n",
       "mainOkved_ver              2\n",
       "addOkved_bool              2\n",
       "opf_name                 237\n",
       "opf_code                 139\n",
       "opf_ver                    3\n",
       "opf_group                 14\n",
       "okfs_name                 27\n",
       "okfs_code                 27\n",
       "okogu_name                67\n",
       "okogu_code                71\n",
       "oktmo_name             21061\n",
       "oktmo_code             27432\n",
       "okato_name             21451\n",
       "okato_code             27700\n",
       "grants_count              13\n",
       "grants_sum              9495\n",
       "fedSub_count              39\n",
       "fedSub_sum              2202\n",
       "contract_count           404\n",
       "contract_sum           18355\n",
       "gos_help_count           405\n",
       "target                     2\n",
       "dtype: int64"
      ]
     },
     "execution_count": 77,
     "metadata": {},
     "output_type": "execute_result"
    }
   ],
   "source": [
    "# посмотрим на уникальные значения\n",
    "df.nunique()"
   ]
  },
  {
   "cell_type": "code",
   "execution_count": 78,
   "metadata": {},
   "outputs": [
    {
     "data": {
      "text/plain": [
       "regionName            0\n",
       "age_org               0\n",
       "hasRegionalSupport    0\n",
       "mainOkved_name        0\n",
       "addOkved              0\n",
       "addOkved_bool         0\n",
       "opf_group             0\n",
       "socialMedia           0\n",
       "reports               0\n",
       "gos_help_count        0\n",
       "incomeTotal           0\n",
       "target                0\n",
       "dtype: int64"
      ]
     },
     "execution_count": 78,
     "metadata": {},
     "output_type": "execute_result"
    }
   ],
   "source": [
    "# удалим признаки, в которых есть пропуски, а также неинформативные и дублирующие признаки\n",
    "columns = ['regionName', 'age_org', 'hasRegionalSupport', 'mainOkved_name', 'addOkved', 'addOkved_bool', \n",
    "           'opf_group', 'socialMedia', 'reports', 'gos_help_count', 'incomeTotal', 'target']\n",
    "df_clean = df[columns]\n",
    "df_clean.isnull().sum()"
   ]
  },
  {
   "cell_type": "code",
   "execution_count": 79,
   "metadata": {},
   "outputs": [],
   "source": [
    "# сохраним предобработанный файл\n",
    "df_clean.to_csv('data/df_clean.csv', index=False)"
   ]
  }
 ],
 "metadata": {
  "kernelspec": {
   "display_name": "Python 3",
   "language": "python",
   "name": "python3"
  },
  "language_info": {
   "codemirror_mode": {
    "name": "ipython",
    "version": 3
   },
   "file_extension": ".py",
   "mimetype": "text/x-python",
   "name": "python",
   "nbconvert_exporter": "python",
   "pygments_lexer": "ipython3",
   "version": "3.11.0 (main, Oct 24 2022, 18:26:48) [MSC v.1933 64 bit (AMD64)]"
  },
  "orig_nbformat": 4,
  "vscode": {
   "interpreter": {
    "hash": "7bab66a6ae0d86577a0739d0af29436ef5cda160de5458e2cd6a4805d0a5881e"
   }
  }
 },
 "nbformat": 4,
 "nbformat_minor": 2
}
