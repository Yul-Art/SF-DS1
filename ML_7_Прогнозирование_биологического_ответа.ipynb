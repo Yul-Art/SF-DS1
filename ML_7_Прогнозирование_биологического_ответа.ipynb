{
  "cells": [
    {
      "attachments": {},
      "cell_type": "markdown",
      "id": "ezanmTbEaAOe",
      "metadata": {
        "id": "ezanmTbEaAOe",
        "tags": []
      },
      "source": [
        "# **ML-7. Прогнозирование биологического ответа**"
      ]
    },
    {
      "attachments": {},
      "cell_type": "markdown",
      "id": "a66de7fa",
      "metadata": {},
      "source": [
        "## Описание задачи"
      ]
    },
    {
      "attachments": {},
      "cell_type": "markdown",
      "id": "b8896f5c-1683-4a55-987f-60ce00207db5",
      "metadata": {
        "id": "b8896f5c-1683-4a55-987f-60ce00207db5"
      },
      "source": [
        "Наша практика будет основана на соревновании [Kaggle: Predicting a Biological Response](https://www.kaggle.com/c/bioresponse) (Прогнозирование биологического ответа).\n",
        "Необходимо предсказать биологический ответ молекул (столбец 'Activity') по их химическому составу (столбцы D1-D1776).\n",
        "\n",
        "Необходимо обучить две модели: логистическую регрессию и случайный лес. Далее нужно сделать подбор гиперпараметров с помощью базовых и продвинутых методов оптимизации. Важно использовать все четыре метода (GridSeachCV, RandomizedSearchCV, Hyperopt, Optuna) хотя бы по разу, максимальное количество итераций не должно превышать 50."
      ]
    },
    {
      "cell_type": "markdown",
      "id": "8lbyun1kaAOy",
      "metadata": {
        "id": "8lbyun1kaAOy",
        "tags": []
      },
      "source": [
        "## Знакомство с данными\n"
      ]
    },
    {
      "cell_type": "markdown",
      "id": "1bL1ZkoGnpN2",
      "metadata": {
        "id": "1bL1ZkoGnpN2"
      },
      "source": [
        "Данные представлены в формате CSV.  Каждая строка представляет молекулу.\n",
        "\n",
        "Первый столбец Activity содержит экспериментальные данные, описывающие фактический биологический ответ [0, 1];\n",
        "Остальные столбцы D1-D1776 представляют собой молекулярные дескрипторы — это вычисляемые свойства, которые могут фиксировать некоторые характеристики молекулы, например размер, форму или состав элементов."
      ]
    },
    {
      "cell_type": "markdown",
      "id": "eF3t36YonyzN",
      "metadata": {
        "id": "eF3t36YonyzN"
      },
      "source": [
        "Предварительная обработка не требуется, данные уже закодированы и нормализованы.\n",
        "\n",
        "В качестве метрики будем использовать F1-score.\n",
        "\n"
      ]
    },
    {
      "cell_type": "code",
      "execution_count": 1,
      "id": "d8q91-MSaAOG",
      "metadata": {
        "colab": {
          "base_uri": "https://localhost:8080/"
        },
        "id": "d8q91-MSaAOG",
        "outputId": "91aff6a1-47e5-40f5-97b2-6d7ce94d2030"
      },
      "outputs": [
        {
          "name": "stderr",
          "output_type": "stream",
          "text": [
            "C:\\Users\\Юзер\\AppData\\Local\\Temp\\ipykernel_2876\\3685970446.py:15: MatplotlibDeprecationWarning: The seaborn styles shipped by Matplotlib are deprecated since 3.6, as they no longer correspond to the styles shipped by seaborn. However, they will remain available as 'seaborn-v0_8-<style>'. Alternatively, directly use the seaborn API instead.\n",
            "  plt.style.use('seaborn')\n"
          ]
        }
      ],
      "source": [
        "#импорт библиотек\n",
        "import numpy as np #для матричных вычислений\n",
        "import pandas as pd #для анализа и предобработки данных\n",
        "import matplotlib.pyplot as plt #для визуализации\n",
        "import seaborn as sns #для визуализации\n",
        "\n",
        "from sklearn import linear_model #линейные модели\n",
        "from sklearn import tree #деревья решений\n",
        "from sklearn import ensemble #ансамбли\n",
        "from sklearn import metrics #метрики\n",
        "from sklearn import preprocessing #предобработка\n",
        "from sklearn.model_selection import train_test_split #сплитование выборки\n",
        "\n",
        "%matplotlib inline\n",
        "plt.style.use('seaborn')\n",
        "\n",
        "from sklearn.model_selection import GridSearchCV\n",
        "from sklearn.model_selection import RandomizedSearchCV"
      ]
    },
    {
      "cell_type": "code",
      "execution_count": 2,
      "id": "af155671",
      "metadata": {},
      "outputs": [],
      "source": [
        "# зафиксируем версию пакетов, чтобы эксперименты были воспроизводимы:\n",
        "!pip freeze > requirements.txt"
      ]
    },
    {
      "cell_type": "code",
      "execution_count": 3,
      "id": "Zowiv2qRpt6e",
      "metadata": {
        "colab": {
          "base_uri": "https://localhost:8080/",
          "height": 392
        },
        "id": "Zowiv2qRpt6e",
        "outputId": "52bb362c-b376-497e-af9a-b876c7d2baa8"
      },
      "outputs": [
        {
          "data": {
            "text/html": [
              "<div>\n",
              "<style scoped>\n",
              "    .dataframe tbody tr th:only-of-type {\n",
              "        vertical-align: middle;\n",
              "    }\n",
              "\n",
              "    .dataframe tbody tr th {\n",
              "        vertical-align: top;\n",
              "    }\n",
              "\n",
              "    .dataframe thead th {\n",
              "        text-align: right;\n",
              "    }\n",
              "</style>\n",
              "<table border=\"1\" class=\"dataframe\">\n",
              "  <thead>\n",
              "    <tr style=\"text-align: right;\">\n",
              "      <th></th>\n",
              "      <th>Activity</th>\n",
              "      <th>D1</th>\n",
              "      <th>D2</th>\n",
              "      <th>D3</th>\n",
              "      <th>D4</th>\n",
              "      <th>D5</th>\n",
              "      <th>D6</th>\n",
              "      <th>D7</th>\n",
              "      <th>D8</th>\n",
              "      <th>D9</th>\n",
              "      <th>...</th>\n",
              "      <th>D1767</th>\n",
              "      <th>D1768</th>\n",
              "      <th>D1769</th>\n",
              "      <th>D1770</th>\n",
              "      <th>D1771</th>\n",
              "      <th>D1772</th>\n",
              "      <th>D1773</th>\n",
              "      <th>D1774</th>\n",
              "      <th>D1775</th>\n",
              "      <th>D1776</th>\n",
              "    </tr>\n",
              "  </thead>\n",
              "  <tbody>\n",
              "    <tr>\n",
              "      <th>0</th>\n",
              "      <td>1</td>\n",
              "      <td>0.000000</td>\n",
              "      <td>0.497009</td>\n",
              "      <td>0.10</td>\n",
              "      <td>0.00</td>\n",
              "      <td>0.132956</td>\n",
              "      <td>0.678031</td>\n",
              "      <td>0.273166</td>\n",
              "      <td>0.585445</td>\n",
              "      <td>0.743663</td>\n",
              "      <td>...</td>\n",
              "      <td>0</td>\n",
              "      <td>0</td>\n",
              "      <td>0</td>\n",
              "      <td>0</td>\n",
              "      <td>0</td>\n",
              "      <td>0</td>\n",
              "      <td>0</td>\n",
              "      <td>0</td>\n",
              "      <td>0</td>\n",
              "      <td>0</td>\n",
              "    </tr>\n",
              "    <tr>\n",
              "      <th>1</th>\n",
              "      <td>1</td>\n",
              "      <td>0.366667</td>\n",
              "      <td>0.606291</td>\n",
              "      <td>0.05</td>\n",
              "      <td>0.00</td>\n",
              "      <td>0.111209</td>\n",
              "      <td>0.803455</td>\n",
              "      <td>0.106105</td>\n",
              "      <td>0.411754</td>\n",
              "      <td>0.836582</td>\n",
              "      <td>...</td>\n",
              "      <td>1</td>\n",
              "      <td>1</td>\n",
              "      <td>1</td>\n",
              "      <td>1</td>\n",
              "      <td>0</td>\n",
              "      <td>1</td>\n",
              "      <td>0</td>\n",
              "      <td>0</td>\n",
              "      <td>1</td>\n",
              "      <td>0</td>\n",
              "    </tr>\n",
              "    <tr>\n",
              "      <th>2</th>\n",
              "      <td>1</td>\n",
              "      <td>0.033300</td>\n",
              "      <td>0.480124</td>\n",
              "      <td>0.00</td>\n",
              "      <td>0.00</td>\n",
              "      <td>0.209791</td>\n",
              "      <td>0.610350</td>\n",
              "      <td>0.356453</td>\n",
              "      <td>0.517720</td>\n",
              "      <td>0.679051</td>\n",
              "      <td>...</td>\n",
              "      <td>0</td>\n",
              "      <td>0</td>\n",
              "      <td>0</td>\n",
              "      <td>0</td>\n",
              "      <td>0</td>\n",
              "      <td>0</td>\n",
              "      <td>0</td>\n",
              "      <td>0</td>\n",
              "      <td>0</td>\n",
              "      <td>0</td>\n",
              "    </tr>\n",
              "    <tr>\n",
              "      <th>3</th>\n",
              "      <td>1</td>\n",
              "      <td>0.000000</td>\n",
              "      <td>0.538825</td>\n",
              "      <td>0.00</td>\n",
              "      <td>0.50</td>\n",
              "      <td>0.196344</td>\n",
              "      <td>0.724230</td>\n",
              "      <td>0.235606</td>\n",
              "      <td>0.288764</td>\n",
              "      <td>0.805110</td>\n",
              "      <td>...</td>\n",
              "      <td>0</td>\n",
              "      <td>0</td>\n",
              "      <td>0</td>\n",
              "      <td>0</td>\n",
              "      <td>0</td>\n",
              "      <td>0</td>\n",
              "      <td>0</td>\n",
              "      <td>0</td>\n",
              "      <td>0</td>\n",
              "      <td>0</td>\n",
              "    </tr>\n",
              "    <tr>\n",
              "      <th>4</th>\n",
              "      <td>0</td>\n",
              "      <td>0.100000</td>\n",
              "      <td>0.517794</td>\n",
              "      <td>0.00</td>\n",
              "      <td>0.00</td>\n",
              "      <td>0.494734</td>\n",
              "      <td>0.781422</td>\n",
              "      <td>0.154361</td>\n",
              "      <td>0.303809</td>\n",
              "      <td>0.812646</td>\n",
              "      <td>...</td>\n",
              "      <td>0</td>\n",
              "      <td>0</td>\n",
              "      <td>0</td>\n",
              "      <td>0</td>\n",
              "      <td>0</td>\n",
              "      <td>0</td>\n",
              "      <td>0</td>\n",
              "      <td>0</td>\n",
              "      <td>0</td>\n",
              "      <td>0</td>\n",
              "    </tr>\n",
              "    <tr>\n",
              "      <th>5</th>\n",
              "      <td>0</td>\n",
              "      <td>0.133333</td>\n",
              "      <td>0.771035</td>\n",
              "      <td>0.20</td>\n",
              "      <td>0.25</td>\n",
              "      <td>0.122153</td>\n",
              "      <td>0.677398</td>\n",
              "      <td>0.267224</td>\n",
              "      <td>0.611112</td>\n",
              "      <td>0.701421</td>\n",
              "      <td>...</td>\n",
              "      <td>0</td>\n",
              "      <td>0</td>\n",
              "      <td>0</td>\n",
              "      <td>0</td>\n",
              "      <td>0</td>\n",
              "      <td>0</td>\n",
              "      <td>0</td>\n",
              "      <td>0</td>\n",
              "      <td>0</td>\n",
              "      <td>0</td>\n",
              "    </tr>\n",
              "    <tr>\n",
              "      <th>6</th>\n",
              "      <td>1</td>\n",
              "      <td>0.066700</td>\n",
              "      <td>0.567401</td>\n",
              "      <td>0.10</td>\n",
              "      <td>0.00</td>\n",
              "      <td>0.116578</td>\n",
              "      <td>0.689802</td>\n",
              "      <td>0.274886</td>\n",
              "      <td>0.548509</td>\n",
              "      <td>0.785429</td>\n",
              "      <td>...</td>\n",
              "      <td>0</td>\n",
              "      <td>0</td>\n",
              "      <td>0</td>\n",
              "      <td>0</td>\n",
              "      <td>0</td>\n",
              "      <td>0</td>\n",
              "      <td>0</td>\n",
              "      <td>0</td>\n",
              "      <td>0</td>\n",
              "      <td>0</td>\n",
              "    </tr>\n",
              "    <tr>\n",
              "      <th>7</th>\n",
              "      <td>1</td>\n",
              "      <td>0.133333</td>\n",
              "      <td>0.610057</td>\n",
              "      <td>0.15</td>\n",
              "      <td>0.00</td>\n",
              "      <td>0.105176</td>\n",
              "      <td>0.759602</td>\n",
              "      <td>0.313393</td>\n",
              "      <td>0.491790</td>\n",
              "      <td>0.756010</td>\n",
              "      <td>...</td>\n",
              "      <td>0</td>\n",
              "      <td>0</td>\n",
              "      <td>1</td>\n",
              "      <td>0</td>\n",
              "      <td>1</td>\n",
              "      <td>0</td>\n",
              "      <td>0</td>\n",
              "      <td>0</td>\n",
              "      <td>0</td>\n",
              "      <td>0</td>\n",
              "    </tr>\n",
              "    <tr>\n",
              "      <th>8</th>\n",
              "      <td>1</td>\n",
              "      <td>0.000000</td>\n",
              "      <td>0.776816</td>\n",
              "      <td>0.05</td>\n",
              "      <td>0.00</td>\n",
              "      <td>0.458446</td>\n",
              "      <td>0.738631</td>\n",
              "      <td>0.246347</td>\n",
              "      <td>0.067800</td>\n",
              "      <td>0.751861</td>\n",
              "      <td>...</td>\n",
              "      <td>0</td>\n",
              "      <td>0</td>\n",
              "      <td>0</td>\n",
              "      <td>0</td>\n",
              "      <td>0</td>\n",
              "      <td>0</td>\n",
              "      <td>0</td>\n",
              "      <td>0</td>\n",
              "      <td>0</td>\n",
              "      <td>0</td>\n",
              "    </tr>\n",
              "    <tr>\n",
              "      <th>9</th>\n",
              "      <td>0</td>\n",
              "      <td>0.100000</td>\n",
              "      <td>0.768150</td>\n",
              "      <td>0.10</td>\n",
              "      <td>0.25</td>\n",
              "      <td>0.262299</td>\n",
              "      <td>0.598972</td>\n",
              "      <td>0.377065</td>\n",
              "      <td>0.394514</td>\n",
              "      <td>0.673797</td>\n",
              "      <td>...</td>\n",
              "      <td>0</td>\n",
              "      <td>0</td>\n",
              "      <td>0</td>\n",
              "      <td>0</td>\n",
              "      <td>0</td>\n",
              "      <td>0</td>\n",
              "      <td>0</td>\n",
              "      <td>0</td>\n",
              "      <td>0</td>\n",
              "      <td>0</td>\n",
              "    </tr>\n",
              "  </tbody>\n",
              "</table>\n",
              "<p>10 rows × 1777 columns</p>\n",
              "</div>"
            ],
            "text/plain": [
              "   Activity        D1        D2    D3    D4        D5        D6        D7  \\\n",
              "0         1  0.000000  0.497009  0.10  0.00  0.132956  0.678031  0.273166   \n",
              "1         1  0.366667  0.606291  0.05  0.00  0.111209  0.803455  0.106105   \n",
              "2         1  0.033300  0.480124  0.00  0.00  0.209791  0.610350  0.356453   \n",
              "3         1  0.000000  0.538825  0.00  0.50  0.196344  0.724230  0.235606   \n",
              "4         0  0.100000  0.517794  0.00  0.00  0.494734  0.781422  0.154361   \n",
              "5         0  0.133333  0.771035  0.20  0.25  0.122153  0.677398  0.267224   \n",
              "6         1  0.066700  0.567401  0.10  0.00  0.116578  0.689802  0.274886   \n",
              "7         1  0.133333  0.610057  0.15  0.00  0.105176  0.759602  0.313393   \n",
              "8         1  0.000000  0.776816  0.05  0.00  0.458446  0.738631  0.246347   \n",
              "9         0  0.100000  0.768150  0.10  0.25  0.262299  0.598972  0.377065   \n",
              "\n",
              "         D8        D9  ...  D1767  D1768  D1769  D1770  D1771  D1772  D1773  \\\n",
              "0  0.585445  0.743663  ...      0      0      0      0      0      0      0   \n",
              "1  0.411754  0.836582  ...      1      1      1      1      0      1      0   \n",
              "2  0.517720  0.679051  ...      0      0      0      0      0      0      0   \n",
              "3  0.288764  0.805110  ...      0      0      0      0      0      0      0   \n",
              "4  0.303809  0.812646  ...      0      0      0      0      0      0      0   \n",
              "5  0.611112  0.701421  ...      0      0      0      0      0      0      0   \n",
              "6  0.548509  0.785429  ...      0      0      0      0      0      0      0   \n",
              "7  0.491790  0.756010  ...      0      0      1      0      1      0      0   \n",
              "8  0.067800  0.751861  ...      0      0      0      0      0      0      0   \n",
              "9  0.394514  0.673797  ...      0      0      0      0      0      0      0   \n",
              "\n",
              "   D1774  D1775  D1776  \n",
              "0      0      0      0  \n",
              "1      0      1      0  \n",
              "2      0      0      0  \n",
              "3      0      0      0  \n",
              "4      0      0      0  \n",
              "5      0      0      0  \n",
              "6      0      0      0  \n",
              "7      0      0      0  \n",
              "8      0      0      0  \n",
              "9      0      0      0  \n",
              "\n",
              "[10 rows x 1777 columns]"
            ]
          },
          "execution_count": 3,
          "metadata": {},
          "output_type": "execute_result"
        }
      ],
      "source": [
        "data = pd.read_csv('data/train_sem09.zip')\n",
        "data.head(10)"
      ]
    },
    {
      "cell_type": "code",
      "execution_count": 4,
      "id": "dosWmSgYrJll",
      "metadata": {
        "colab": {
          "base_uri": "https://localhost:8080/"
        },
        "id": "dosWmSgYrJll",
        "outputId": "f6b6dac3-a01d-4f5f-94fb-fc3daf1ffa65"
      },
      "outputs": [
        {
          "name": "stdout",
          "output_type": "stream",
          "text": [
            "<class 'pandas.core.frame.DataFrame'>\n",
            "RangeIndex: 3751 entries, 0 to 3750\n",
            "Columns: 1777 entries, Activity to D1776\n",
            "dtypes: float64(942), int64(835)\n",
            "memory usage: 50.9 MB\n"
          ]
        }
      ],
      "source": [
        "data.info()"
      ]
    },
    {
      "cell_type": "code",
      "execution_count": 5,
      "id": "PPo2xmRdaAPf",
      "metadata": {
        "colab": {
          "base_uri": "https://localhost:8080/",
          "height": 555
        },
        "id": "PPo2xmRdaAPf",
        "outputId": "28a478ff-ec75-48fd-aee5-0e2a36e42a4a"
      },
      "outputs": [
        {
          "data": {
            "text/plain": [
              "1    0.542255\n",
              "0    0.457745\n",
              "Name: Activity, dtype: float64"
            ]
          },
          "metadata": {},
          "output_type": "display_data"
        },
        {
          "data": {
            "image/png": "[encoded data removed]",
            "text/plain": [
              "<Figure size 800x550 with 1 Axes>"
            ]
          },
          "metadata": {},
          "output_type": "display_data"
        }
      ],
      "source": [
        "# Смотрим на сбалансированность классов:\n",
        "display(data['Activity'].value_counts(normalize=True))\n",
        "sns.countplot(data=data, x='Activity');"
      ]
    },
    {
      "cell_type": "code",
      "execution_count": 6,
      "id": "cIP2BTEDroqd",
      "metadata": {
        "colab": {
          "base_uri": "https://localhost:8080/"
        },
        "id": "cIP2BTEDroqd",
        "outputId": "7e96596c-0548-49d4-db66-5f3d0d1df5b8"
      },
      "outputs": [
        {
          "name": "stdout",
          "output_type": "stream",
          "text": [
            "Train:\n",
            "1    0.542333\n",
            "0    0.457667\n",
            "Name: Activity, dtype: float64\n",
            "Test:\n",
            "1    0.541944\n",
            "0    0.458056\n",
            "Name: Activity, dtype: float64\n"
          ]
        }
      ],
      "source": [
        "# Разделяем выборку на тренировочную и тестовую в соотношении 80/20. Для сохранения соотношений целевого признака используем параметр stratify (стратифицированное разбиение).\n",
        "X = data.drop(['Activity'], axis=1)\n",
        "y = data['Activity']\n",
        "X_train, X_test, y_train, y_test = train_test_split(X, y, stratify=y, random_state = 1, test_size = 0.2)\n",
        "# проверим соотношения классов\n",
        "print('Train:\\n', y_train.value_counts(normalize=True), sep='')\n",
        "print('Test:\\n', y_test.value_counts(normalize=True), sep='')"
      ]
    },
    {
      "attachments": {},
      "cell_type": "markdown",
      "id": "CE7v-medaAQh",
      "metadata": {
        "id": "CE7v-medaAQh",
        "tags": []
      },
      "source": [
        "## *Логистическая регрессия*"
      ]
    },
    {
      "cell_type": "code",
      "execution_count": 7,
      "id": "0aMCHU3-aAQn",
      "metadata": {
        "colab": {
          "base_uri": "https://localhost:8080/"
        },
        "id": "0aMCHU3-aAQn",
        "outputId": "b306bc87-f701-4835-d005-0c121fe7ef98"
      },
      "outputs": [
        {
          "name": "stdout",
          "output_type": "stream",
          "text": [
            "CPU times: total: 1.17 s\n",
            "Wall time: 187 ms\n",
            "F1_Train: 0.87\n",
            "F1_Test: 0.79\n"
          ]
        },
        {
          "name": "stderr",
          "output_type": "stream",
          "text": [
            "c:\\Users\\Юзер\\AppData\\Local\\Programs\\Python\\Python311\\Lib\\site-packages\\sklearn\\linear_model\\_logistic.py:458: ConvergenceWarning: lbfgs failed to converge (status=1):\n",
            "STOP: TOTAL NO. of ITERATIONS REACHED LIMIT.\n",
            "\n",
            "Increase the number of iterations (max_iter) or scale the data as shown in:\n",
            "    https://scikit-learn.org/stable/modules/preprocessing.html\n",
            "Please also refer to the documentation for alternative solver options:\n",
            "    https://scikit-learn.org/stable/modules/linear_model.html#logistic-regression\n",
            "  n_iter_i = _check_optimize_result(\n"
          ]
        }
      ],
      "source": [
        "#Создаем объект класса логистическая регрессия\n",
        "log_reg = linear_model.LogisticRegression(max_iter=50, random_state=42)\n",
        "#Обучаем модель, минимизируя logloss\n",
        "%time log_reg.fit(X_train, y_train)\n",
        "\n",
        "#Выводим значения метрики\n",
        "y_train_pred = log_reg.predict(X_train)\n",
        "print('F1_Train: {:.2f}'.format(metrics.f1_score(y_train, y_train_pred)))\n",
        "y_test_pred = log_reg.predict(X_test)\n",
        "print('F1_Test: {:.2f}'.format(metrics.f1_score(y_test, y_test_pred)))"
      ]
    },
    {
      "attachments": {},
      "cell_type": "markdown",
      "id": "jBSbPYAYaAQ9",
      "metadata": {
        "id": "jBSbPYAYaAQ9",
        "tags": []
      },
      "source": [
        "## *Случайный лес*"
      ]
    },
    {
      "cell_type": "code",
      "execution_count": 8,
      "id": "XUYSiTfraARA",
      "metadata": {
        "colab": {
          "base_uri": "https://localhost:8080/"
        },
        "id": "XUYSiTfraARA",
        "outputId": "9664e9d6-5f09-4cfc-b188-8a5c9cde7726"
      },
      "outputs": [
        {
          "name": "stdout",
          "output_type": "stream",
          "text": [
            "CPU times: total: 1.47 s\n",
            "Wall time: 1.47 s\n",
            "F1_Train: 1.00\n",
            "F1_Test: 0.81\n"
          ]
        }
      ],
      "source": [
        "#Создаем объект класса случайный лес\n",
        "rf = ensemble.RandomForestClassifier(random_state=42)\n",
        "#Обучаем модель, минимизируя logloss\n",
        "%time rf.fit(X_train, y_train)\n",
        "\n",
        "#Выводим значения метрики\n",
        "y_train_pred = rf.predict(X_train)\n",
        "print('F1_Train: {:.2f}'.format(metrics.f1_score(y_train, y_train_pred)))\n",
        "y_test_pred = rf.predict(X_test)\n",
        "print('F1_Test: {:.2f}'.format(metrics.f1_score(y_test, y_test_pred)))"
      ]
    },
    {
      "cell_type": "markdown",
      "id": "H7DZBta2aAQf",
      "metadata": {
        "id": "H7DZBta2aAQf",
        "tags": []
      },
      "source": [
        "# Оптимизация гиперпараметров модели"
      ]
    },
    {
      "cell_type": "markdown",
      "id": "203fb80e-a314-4876-850c-5e4913f78563",
      "metadata": {
        "id": "203fb80e-a314-4876-850c-5e4913f78563",
        "tags": []
      },
      "source": [
        "## Базовая оптимизация"
      ]
    },
    {
      "attachments": {},
      "cell_type": "markdown",
      "id": "Q6PP7ObJp7WG",
      "metadata": {
        "id": "Q6PP7ObJp7WG"
      },
      "source": [
        "### **1. GridSearchCV**"
      ]
    },
    {
      "attachments": {},
      "cell_type": "markdown",
      "id": "X_N4e6om9oNA",
      "metadata": {
        "id": "X_N4e6om9oNA"
      },
      "source": [
        "#### *Логистическая регрессия*"
      ]
    },
    {
      "cell_type": "code",
      "execution_count": 9,
      "id": "drR8M2WLjOyM",
      "metadata": {
        "id": "drR8M2WLjOyM"
      },
      "outputs": [
        {
          "name": "stdout",
          "output_type": "stream",
          "text": [
            "CPU times: total: 11.5 s\n",
            "Wall time: 7min 9s\n",
            "F1_Train: 0.85\n",
            "F1_Test: 0.79\n",
            "Наилучшие значения гиперпараметров: {'C': 0.12, 'penalty': 'l2', 'solver': 'newton-cg'}\n",
            "Наилучшая модель:\n",
            "LogisticRegression(C=0.12, max_iter=50, random_state=42, solver='newton-cg')\n"
          ]
        }
      ],
      "source": [
        "# подбор гиперпараметров для модели логистической регрессии с помощью поиска по сетке.\n",
        "# создадим 2 словаря с гиперпараметрами, так как для каждого типа регуляции подходят только определённые алгоритмы оптимизации\n",
        "param_grid_lr = [\n",
        "              {'penalty': ['l2', 'none'] , # тип регуляризации\n",
        "              'solver': ['lbfgs', 'newton-cg', 'sag'], # алгоритм оптимизации\n",
        "               'C': list(np.linspace(0.01, 1, 10, dtype=float))}, # уровень силы регурялизации\n",
        "\n",
        "              {'penalty': ['l1', 'l2'] ,\n",
        "              'solver': ['liblinear', 'saga'],\n",
        "               'C': list(np.linspace(0.01, 1, 10, dtype=float))}\n",
        "]\n",
        "# вызов класса GridSearchCV и передача модели (LogisticRegression), сетки искомых параметров (param_grid),\n",
        "# а также число фолдов, которые мы хотим использовать в кросс-валидации, и n_jobs = -1, чтобы использовать все доступные ядра для расчётов\n",
        "grid_search_lr = GridSearchCV(\n",
        "    estimator=log_reg,\n",
        "    param_grid=param_grid_lr,\n",
        "    cv=5, # количество фолдов в кросс-валидации\n",
        "    n_jobs = -1   # количество ядер для распараллеливания расчёта. -1 использует все существующие ядра.\n",
        ")\n",
        "# %time - замеряет время выполнения\n",
        "%time grid_search_lr.fit(X_train, y_train)\n",
        "\n",
        "#Выводим значения метрики\n",
        "y_train_pred = grid_search_lr.predict(X_train)\n",
        "print('F1_Train: {:.2f}'.format(metrics.f1_score(y_train, y_train_pred)))\n",
        "y_test_pred = grid_search_lr.predict(X_test)\n",
        "print('F1_Test: {:.2f}'.format(metrics.f1_score(y_test, y_test_pred)))\n",
        "\n",
        "# Наилучшая найденная комбинация гиперпараметров сохраняется в атрибуте best_params_:\n",
        "print(\"Наилучшие значения гиперпараметров: {}\".format(grid_search_lr.best_params_))\n",
        "# Итоговая модель хранится в параметре best_estimator_, ей можно воспользоваться для получения прогнозов на новых данных:\n",
        "print(\"Наилучшая модель:\\n{}\".format(grid_search_lr.best_estimator_))"
      ]
    },
    {
      "attachments": {},
      "cell_type": "markdown",
      "id": "wOvI9KQ_-Zp2",
      "metadata": {
        "id": "wOvI9KQ_-Zp2"
      },
      "source": [
        "#### *Случайный лес*"
      ]
    },
    {
      "cell_type": "code",
      "execution_count": 10,
      "id": "FMojHKnN06ke",
      "metadata": {
        "id": "FMojHKnN06ke"
      },
      "outputs": [
        {
          "name": "stdout",
          "output_type": "stream",
          "text": [
            "CPU times: total: 3.94 s\n",
            "Wall time: 2min 11s\n",
            "F1_Train: 0.98\n",
            "F1_Test: 0.83\n",
            "Наилучшие значения гиперпараметров: {'max_depth': 20, 'min_samples_leaf': 3, 'n_estimators': 110}\n",
            "Наилучшая модель:\n",
            "RandomForestClassifier(max_depth=20, min_samples_leaf=3, n_estimators=110,\n",
            "                       random_state=42)\n"
          ]
        }
      ],
      "source": [
        "# Проделаем аналогичное для RandomForestClassifier().\n",
        "param_grid_rf = {'n_estimators': list(range(10, 200, 20)),\n",
        "              'min_samples_leaf': [3,5,7],\n",
        "              'max_depth': list(range(10, 40, 5))\n",
        "              }\n",
        "\n",
        "grid_search_forest = GridSearchCV(\n",
        "    estimator=rf,\n",
        "    param_grid=param_grid_rf,\n",
        "    cv=5,\n",
        "    n_jobs = -1\n",
        ")\n",
        "%time grid_search_forest.fit(X_train, y_train)\n",
        "\n",
        "#Выводим значения метрики\n",
        "y_train_pred = grid_search_forest.predict(X_train)\n",
        "print('F1_Train: {:.2f}'.format(metrics.f1_score(y_train, y_train_pred)))\n",
        "y_test_pred = grid_search_forest.predict(X_test)\n",
        "print('F1_Test: {:.2f}'.format(metrics.f1_score(y_test, y_test_pred)))\n",
        "\n",
        "print(\"Наилучшие значения гиперпараметров: {}\".format(grid_search_forest.best_params_))\n",
        "print(\"Наилучшая модель:\\n{}\".format(grid_search_forest.best_estimator_))"
      ]
    },
    {
      "attachments": {},
      "cell_type": "markdown",
      "id": "QOlWE5zSptj0",
      "metadata": {
        "id": "QOlWE5zSptj0"
      },
      "source": [
        "### **2. RandomizedSearchCV**"
      ]
    },
    {
      "cell_type": "markdown",
      "id": "whg2iaGr_38I",
      "metadata": {
        "id": "whg2iaGr_38I"
      },
      "source": [
        "С использованием класса RandomizedSearchCV из библиотеки scikit learn мы осуществим оптимизацию гиперпараметров для алгоритмов логистической регрессии и случайного леса с теми же параметрами и сравним результаты"
      ]
    },
    {
      "attachments": {},
      "cell_type": "markdown",
      "id": "IacgOQPt_s_X",
      "metadata": {
        "id": "IacgOQPt_s_X"
      },
      "source": [
        "#### *Логистическая регрессия*"
      ]
    },
    {
      "cell_type": "code",
      "execution_count": 11,
      "id": "4yjUJJKntcX7",
      "metadata": {
        "id": "4yjUJJKntcX7"
      },
      "outputs": [
        {
          "name": "stdout",
          "output_type": "stream",
          "text": [
            "CPU times: total: 3.94 s\n",
            "Wall time: 2min 40s\n",
            "Наилучшие значения гиперпараметров: {'solver': 'saga', 'penalty': 'l2', 'C': 0.12}\n",
            "F1_Train: 0.85\n",
            "F1_Test: 0.79\n"
          ]
        },
        {
          "name": "stderr",
          "output_type": "stream",
          "text": [
            "c:\\Users\\Юзер\\AppData\\Local\\Programs\\Python\\Python311\\Lib\\site-packages\\sklearn\\linear_model\\_sag.py:350: ConvergenceWarning: The max_iter was reached which means the coef_ did not converge\n",
            "  warnings.warn(\n"
          ]
        }
      ],
      "source": [
        "# используем те же параметры\n",
        "random_search_lr = RandomizedSearchCV(\n",
        "    estimator=log_reg,\n",
        "    param_distributions=param_grid_lr,\n",
        "    cv=5,\n",
        "    n_iter = 50,\n",
        "    n_jobs = -1\n",
        ")\n",
        "%time random_search_lr.fit(X_train, y_train)\n",
        "\n",
        "# выведем наилучшие значения гиперпараметров и метрики\n",
        "print(\"Наилучшие значения гиперпараметров: {}\".format(random_search_lr.best_params_))\n",
        "\n",
        "y_train_pred = random_search_lr.predict(X_train)\n",
        "print('F1_Train: {:.2f}'.format(metrics.f1_score(y_train, y_train_pred)))\n",
        "y_test_pred = random_search_lr.predict(X_test)\n",
        "print('F1_Test: {:.2f}'.format(metrics.f1_score(y_test, y_test_pred)))"
      ]
    },
    {
      "attachments": {},
      "cell_type": "markdown",
      "id": "AxWc0zErIeHF",
      "metadata": {
        "id": "AxWc0zErIeHF"
      },
      "source": [
        "#### *Случайный лес*"
      ]
    },
    {
      "cell_type": "code",
      "execution_count": 12,
      "id": "TBSxQJ6JzS1f",
      "metadata": {
        "id": "TBSxQJ6JzS1f"
      },
      "outputs": [
        {
          "name": "stdout",
          "output_type": "stream",
          "text": [
            "CPU times: total: 1.58 s\n",
            "Wall time: 34.8 s\n",
            "Наилучшие значения гиперпараметров: {'n_estimators': 70, 'min_samples_leaf': 3, 'max_depth': 35}\n",
            "F1_Train: 0.97\n",
            "F1_Test: 0.82\n"
          ]
        }
      ],
      "source": [
        "random_search_forest = RandomizedSearchCV(\n",
        "    estimator=rf,\n",
        "    param_distributions=param_grid_rf,\n",
        "    cv=5,\n",
        "    n_iter = 50,\n",
        "    n_jobs = -1\n",
        ")\n",
        "%time random_search_forest.fit(X_train, y_train)\n",
        "\n",
        "# выведем наилучшие значения гиперпараметров и метрики\n",
        "print(\"Наилучшие значения гиперпараметров: {}\".format(random_search_forest.best_params_))\n",
        "\n",
        "y_train_pred = random_search_forest.predict(X_train)\n",
        "print('F1_Train: {:.2f}'.format(metrics.f1_score(y_train, y_train_pred)))\n",
        "y_test_pred = random_search_forest.predict(X_test)\n",
        "print('F1_Test: {:.2f}'.format(metrics.f1_score(y_test, y_test_pred)))"
      ]
    },
    {
      "cell_type": "markdown",
      "id": "9c224fa3-0468-4aa0-9877-057a98a92010",
      "metadata": {
        "id": "9c224fa3-0468-4aa0-9877-057a98a92010"
      },
      "source": [
        "## Продвинутая оптимизация."
      ]
    },
    {
      "attachments": {},
      "cell_type": "markdown",
      "id": "Kmo2b6kPChhN",
      "metadata": {
        "id": "Kmo2b6kPChhN"
      },
      "source": [
        "### **3. Hyperopt**"
      ]
    },
    {
      "cell_type": "code",
      "execution_count": 13,
      "id": "Ae44foDuCzke",
      "metadata": {
        "id": "Ae44foDuCzke"
      },
      "outputs": [
        {
          "name": "stdout",
          "output_type": "stream",
          "text": [
            "Версия Hyperopt : 0.2.7\n"
          ]
        }
      ],
      "source": [
        "#делаем импорт и выведем версию библиотеки\n",
        "from sklearn.model_selection import cross_val_score\n",
        "import hyperopt\n",
        "from hyperopt import hp, fmin, tpe, Trials, space_eval\n",
        "# fmin - основная функция, она будет минимизировать наш функционал\n",
        "# tpe - алгоритм оптимизации\n",
        "# hp - включает набор методов для объявления пространства поиска гиперпараметров\n",
        "# trails - используется для логирования результатов\n",
        "\n",
        "print(\"Версия Hyperopt : {}\".format(hyperopt.__version__))"
      ]
    },
    {
      "attachments": {},
      "cell_type": "markdown",
      "id": "63466a6f",
      "metadata": {
        "id": "63466a6f"
      },
      "source": [
        "#### *Логистическая регрессия*"
      ]
    },
    {
      "cell_type": "code",
      "execution_count": 14,
      "id": "5ec1ea58",
      "metadata": {
        "id": "5ec1ea58"
      },
      "outputs": [],
      "source": [
        "# зададим пространство поиска гиперпараметров №1\n",
        "space_1 = {'penalty': hp.choice('penalty', ['l2', 'none']),\n",
        "        'solver': hp.choice('solver', ['lbfgs', 'newton-cg', 'sag']),\n",
        "        'C': hp.quniform('C', 0.01, 1, 0.01)\n",
        "      }\n",
        "# зафиксируем random_state\n",
        "random_state =42\n",
        "def hyperopt_lr(params, cv=5, X=X_train, y=y_train, random_state=random_state):\n",
        "    # функция получает комбинацию гиперпараметров в \"params\"\n",
        "    params = {'penalty': str(params['penalty']),\n",
        "              'solver': str(params['solver']),\n",
        "              'C': float(params['C'])\n",
        "              }\n",
        "\n",
        "    # используем эту комбинацию для построения модели\n",
        "    model = linear_model.LogisticRegression(**params, random_state=random_state, max_iter=50)\n",
        "\n",
        "    # обучаем модель\n",
        "    model.fit(X, y)\n",
        "\n",
        "    # применим cross validation\n",
        "    score = cross_val_score(model, X, y, cv=cv, scoring=\"f1\", n_jobs=-1).mean()\n",
        "    # метрику необходимо минимизировать, поэтому ставим знак минус\n",
        "    return -score"
      ]
    },
    {
      "cell_type": "code",
      "execution_count": 15,
      "id": "cf5e337f",
      "metadata": {
        "id": "cf5e337f"
      },
      "outputs": [
        {
          "name": "stdout",
          "output_type": "stream",
          "text": [
            "  0%|          | 0/50 [00:00<?, ?trial/s, best loss=?]"
          ]
        },
        {
          "name": "stderr",
          "output_type": "stream",
          "text": [
            "c:\\Users\\Юзер\\AppData\\Local\\Programs\\Python\\Python311\\Lib\\site-packages\\sklearn\\linear_model\\_logistic.py:1173: FutureWarning: `penalty='none'`has been deprecated in 1.2 and will be removed in 1.4. To keep the past behaviour, set `penalty=None`.\n",
            "  warnings.warn(\n",
            "\n",
            "c:\\Users\\Юзер\\AppData\\Local\\Programs\\Python\\Python311\\Lib\\site-packages\\sklearn\\linear_model\\_logistic.py:1181: UserWarning: Setting penalty=None will ignore the C and l1_ratio parameters\n",
            "  warnings.warn(\n",
            "\n",
            "c:\\Users\\Юзер\\AppData\\Local\\Programs\\Python\\Python311\\Lib\\site-packages\\sklearn\\linear_model\\_logistic.py:458: ConvergenceWarning: lbfgs failed to converge (status=1):\n",
            "STOP: TOTAL NO. of ITERATIONS REACHED LIMIT.\n",
            "\n",
            "Increase the number of iterations (max_iter) or scale the data as shown in:\n",
            "    https://scikit-learn.org/stable/modules/preprocessing.html\n",
            "Please also refer to the documentation for alternative solver options:\n",
            "    https://scikit-learn.org/stable/modules/linear_model.html#logistic-regression\n",
            "  n_iter_i = _check_optimize_result(\n",
            "\n"
          ]
        },
        {
          "name": "stdout",
          "output_type": "stream",
          "text": [
            "  2%|▏         | 1/50 [00:00<00:41,  1.19trial/s, best loss: -0.7525843675694686]"
          ]
        },
        {
          "name": "stderr",
          "output_type": "stream",
          "text": [
            "c:\\Users\\Юзер\\AppData\\Local\\Programs\\Python\\Python311\\Lib\\site-packages\\sklearn\\linear_model\\_sag.py:350: ConvergenceWarning: The max_iter was reached which means the coef_ did not converge\n",
            "  warnings.warn(\n",
            "\n"
          ]
        },
        {
          "name": "stdout",
          "output_type": "stream",
          "text": [
            "  4%|▍         | 2/50 [00:03<01:43,  2.17s/trial, best loss: -0.7761694586133502]"
          ]
        },
        {
          "name": "stderr",
          "output_type": "stream",
          "text": [
            "c:\\Users\\Юзер\\AppData\\Local\\Programs\\Python\\Python311\\Lib\\site-packages\\sklearn\\linear_model\\_logistic.py:458: ConvergenceWarning: lbfgs failed to converge (status=1):\n",
            "STOP: TOTAL NO. of ITERATIONS REACHED LIMIT.\n",
            "\n",
            "Increase the number of iterations (max_iter) or scale the data as shown in:\n",
            "    https://scikit-learn.org/stable/modules/preprocessing.html\n",
            "Please also refer to the documentation for alternative solver options:\n",
            "    https://scikit-learn.org/stable/modules/linear_model.html#logistic-regression\n",
            "  n_iter_i = _check_optimize_result(\n",
            "\n"
          ]
        },
        {
          "name": "stdout",
          "output_type": "stream",
          "text": [
            "  8%|▊         | 4/50 [00:09<02:08,  2.80s/trial, best loss: -0.7829592293300918]"
          ]
        },
        {
          "name": "stderr",
          "output_type": "stream",
          "text": [
            "c:\\Users\\Юзер\\AppData\\Local\\Programs\\Python\\Python311\\Lib\\site-packages\\sklearn\\linear_model\\_logistic.py:1173: FutureWarning: `penalty='none'`has been deprecated in 1.2 and will be removed in 1.4. To keep the past behaviour, set `penalty=None`.\n",
            "  warnings.warn(\n",
            "\n",
            "c:\\Users\\Юзер\\AppData\\Local\\Programs\\Python\\Python311\\Lib\\site-packages\\sklearn\\linear_model\\_logistic.py:1181: UserWarning: Setting penalty=None will ignore the C and l1_ratio parameters\n",
            "  warnings.warn(\n",
            "\n",
            "c:\\Users\\Юзер\\AppData\\Local\\Programs\\Python\\Python311\\Lib\\site-packages\\sklearn\\linear_model\\_logistic.py:458: ConvergenceWarning: lbfgs failed to converge (status=1):\n",
            "STOP: TOTAL NO. of ITERATIONS REACHED LIMIT.\n",
            "\n",
            "Increase the number of iterations (max_iter) or scale the data as shown in:\n",
            "    https://scikit-learn.org/stable/modules/preprocessing.html\n",
            "Please also refer to the documentation for alternative solver options:\n",
            "    https://scikit-learn.org/stable/modules/linear_model.html#logistic-regression\n",
            "  n_iter_i = _check_optimize_result(\n",
            "\n"
          ]
        },
        {
          "name": "stdout",
          "output_type": "stream",
          "text": [
            " 10%|█         | 5/50 [00:10<01:37,  2.17s/trial, best loss: -0.7829592293300918]"
          ]
        },
        {
          "name": "stderr",
          "output_type": "stream",
          "text": [
            "c:\\Users\\Юзер\\AppData\\Local\\Programs\\Python\\Python311\\Lib\\site-packages\\sklearn\\linear_model\\_logistic.py:1173: FutureWarning: `penalty='none'`has been deprecated in 1.2 and will be removed in 1.4. To keep the past behaviour, set `penalty=None`.\n",
            "  warnings.warn(\n",
            "\n",
            "c:\\Users\\Юзер\\AppData\\Local\\Programs\\Python\\Python311\\Lib\\site-packages\\sklearn\\linear_model\\_logistic.py:1181: UserWarning: Setting penalty=None will ignore the C and l1_ratio parameters\n",
            "  warnings.warn(\n",
            "\n",
            "c:\\Users\\Юзер\\AppData\\Local\\Programs\\Python\\Python311\\Lib\\site-packages\\sklearn\\linear_model\\_sag.py:350: ConvergenceWarning: The max_iter was reached which means the coef_ did not converge\n",
            "  warnings.warn(\n",
            "\n"
          ]
        },
        {
          "name": "stdout",
          "output_type": "stream",
          "text": [
            " 12%|█▏        | 6/50 [00:14<01:53,  2.59s/trial, best loss: -0.7829592293300918]"
          ]
        },
        {
          "name": "stderr",
          "output_type": "stream",
          "text": [
            "c:\\Users\\Юзер\\AppData\\Local\\Programs\\Python\\Python311\\Lib\\site-packages\\sklearn\\linear_model\\_logistic.py:1173: FutureWarning: `penalty='none'`has been deprecated in 1.2 and will be removed in 1.4. To keep the past behaviour, set `penalty=None`.\n",
            "  warnings.warn(\n",
            "\n",
            "c:\\Users\\Юзер\\AppData\\Local\\Programs\\Python\\Python311\\Lib\\site-packages\\sklearn\\linear_model\\_sag.py:350: ConvergenceWarning: The max_iter was reached which means the coef_ did not converge\n",
            "  warnings.warn(\n",
            "\n"
          ]
        },
        {
          "name": "stdout",
          "output_type": "stream",
          "text": [
            " 16%|█▌        | 8/50 [00:23<02:38,  3.78s/trial, best loss: -0.7829592293300918]"
          ]
        },
        {
          "name": "stderr",
          "output_type": "stream",
          "text": [
            "c:\\Users\\Юзер\\AppData\\Local\\Programs\\Python\\Python311\\Lib\\site-packages\\sklearn\\linear_model\\_logistic.py:1173: FutureWarning: `penalty='none'`has been deprecated in 1.2 and will be removed in 1.4. To keep the past behaviour, set `penalty=None`.\n",
            "  warnings.warn(\n",
            "\n",
            "c:\\Users\\Юзер\\AppData\\Local\\Programs\\Python\\Python311\\Lib\\site-packages\\sklearn\\linear_model\\_logistic.py:1181: UserWarning: Setting penalty=None will ignore the C and l1_ratio parameters\n",
            "  warnings.warn(\n",
            "\n",
            "c:\\Users\\Юзер\\AppData\\Local\\Programs\\Python\\Python311\\Lib\\site-packages\\sklearn\\linear_model\\_logistic.py:458: ConvergenceWarning: lbfgs failed to converge (status=1):\n",
            "STOP: TOTAL NO. of ITERATIONS REACHED LIMIT.\n",
            "\n",
            "Increase the number of iterations (max_iter) or scale the data as shown in:\n",
            "    https://scikit-learn.org/stable/modules/preprocessing.html\n",
            "Please also refer to the documentation for alternative solver options:\n",
            "    https://scikit-learn.org/stable/modules/linear_model.html#logistic-regression\n",
            "  n_iter_i = _check_optimize_result(\n",
            "\n"
          ]
        },
        {
          "name": "stdout",
          "output_type": "stream",
          "text": [
            " 18%|█▊        | 9/50 [00:24<02:00,  2.93s/trial, best loss: -0.7829592293300918]"
          ]
        },
        {
          "name": "stderr",
          "output_type": "stream",
          "text": [
            "c:\\Users\\Юзер\\AppData\\Local\\Programs\\Python\\Python311\\Lib\\site-packages\\sklearn\\linear_model\\_sag.py:350: ConvergenceWarning: The max_iter was reached which means the coef_ did not converge\n",
            "  warnings.warn(\n",
            "\n"
          ]
        },
        {
          "name": "stdout",
          "output_type": "stream",
          "text": [
            " 20%|██        | 10/50 [00:27<02:03,  3.08s/trial, best loss: -0.7829592293300918]"
          ]
        },
        {
          "name": "stderr",
          "output_type": "stream",
          "text": [
            "c:\\Users\\Юзер\\AppData\\Local\\Programs\\Python\\Python311\\Lib\\site-packages\\sklearn\\linear_model\\_logistic.py:458: ConvergenceWarning: lbfgs failed to converge (status=1):\n",
            "STOP: TOTAL NO. of ITERATIONS REACHED LIMIT.\n",
            "\n",
            "Increase the number of iterations (max_iter) or scale the data as shown in:\n",
            "    https://scikit-learn.org/stable/modules/preprocessing.html\n",
            "Please also refer to the documentation for alternative solver options:\n",
            "    https://scikit-learn.org/stable/modules/linear_model.html#logistic-regression\n",
            "  n_iter_i = _check_optimize_result(\n",
            "\n"
          ]
        },
        {
          "name": "stdout",
          "output_type": "stream",
          "text": [
            " 22%|██▏       | 11/50 [00:28<01:33,  2.40s/trial, best loss: -0.7830111458414548]"
          ]
        },
        {
          "name": "stderr",
          "output_type": "stream",
          "text": [
            "c:\\Users\\Юзер\\AppData\\Local\\Programs\\Python\\Python311\\Lib\\site-packages\\sklearn\\linear_model\\_logistic.py:1173: FutureWarning: `penalty='none'`has been deprecated in 1.2 and will be removed in 1.4. To keep the past behaviour, set `penalty=None`.\n",
            "  warnings.warn(\n",
            "\n",
            "c:\\Users\\Юзер\\AppData\\Local\\Programs\\Python\\Python311\\Lib\\site-packages\\sklearn\\linear_model\\_logistic.py:1181: UserWarning: Setting penalty=None will ignore the C and l1_ratio parameters\n",
            "  warnings.warn(\n",
            "\n",
            "c:\\Users\\Юзер\\AppData\\Local\\Programs\\Python\\Python311\\Lib\\site-packages\\sklearn\\linear_model\\_sag.py:350: ConvergenceWarning: The max_iter was reached which means the coef_ did not converge\n",
            "  warnings.warn(\n",
            "\n"
          ]
        },
        {
          "name": "stdout",
          "output_type": "stream",
          "text": [
            " 26%|██▌       | 13/50 [00:37<02:13,  3.60s/trial, best loss: -0.7830111458414548]"
          ]
        },
        {
          "name": "stderr",
          "output_type": "stream",
          "text": [
            "c:\\Users\\Юзер\\AppData\\Local\\Programs\\Python\\Python311\\Lib\\site-packages\\sklearn\\linear_model\\_sag.py:350: ConvergenceWarning: The max_iter was reached which means the coef_ did not converge\n",
            "  warnings.warn(\n",
            "\n"
          ]
        },
        {
          "name": "stdout",
          "output_type": "stream",
          "text": [
            " 30%|███       | 15/50 [00:47<02:34,  4.40s/trial, best loss: -0.7830111458414548]"
          ]
        },
        {
          "name": "stderr",
          "output_type": "stream",
          "text": [
            "c:\\Users\\Юзер\\AppData\\Local\\Programs\\Python\\Python311\\Lib\\site-packages\\sklearn\\linear_model\\_logistic.py:1173: FutureWarning: `penalty='none'`has been deprecated in 1.2 and will be removed in 1.4. To keep the past behaviour, set `penalty=None`.\n",
            "  warnings.warn(\n",
            "\n",
            "c:\\Users\\Юзер\\AppData\\Local\\Programs\\Python\\Python311\\Lib\\site-packages\\sklearn\\linear_model\\_logistic.py:1181: UserWarning: Setting penalty=None will ignore the C and l1_ratio parameters\n",
            "  warnings.warn(\n",
            "\n",
            "c:\\Users\\Юзер\\AppData\\Local\\Programs\\Python\\Python311\\Lib\\site-packages\\sklearn\\linear_model\\_logistic.py:458: ConvergenceWarning: lbfgs failed to converge (status=1):\n",
            "STOP: TOTAL NO. of ITERATIONS REACHED LIMIT.\n",
            "\n",
            "Increase the number of iterations (max_iter) or scale the data as shown in:\n",
            "    https://scikit-learn.org/stable/modules/preprocessing.html\n",
            "Please also refer to the documentation for alternative solver options:\n",
            "    https://scikit-learn.org/stable/modules/linear_model.html#logistic-regression\n",
            "  n_iter_i = _check_optimize_result(\n",
            "\n"
          ]
        },
        {
          "name": "stdout",
          "output_type": "stream",
          "text": [
            " 32%|███▏      | 16/50 [00:48<01:53,  3.33s/trial, best loss: -0.7830111458414548]"
          ]
        },
        {
          "name": "stderr",
          "output_type": "stream",
          "text": [
            "c:\\Users\\Юзер\\AppData\\Local\\Programs\\Python\\Python311\\Lib\\site-packages\\sklearn\\linear_model\\_logistic.py:1173: FutureWarning: `penalty='none'`has been deprecated in 1.2 and will be removed in 1.4. To keep the past behaviour, set `penalty=None`.\n",
            "  warnings.warn(\n",
            "\n",
            "c:\\Users\\Юзер\\AppData\\Local\\Programs\\Python\\Python311\\Lib\\site-packages\\sklearn\\linear_model\\_logistic.py:1181: UserWarning: Setting penalty=None will ignore the C and l1_ratio parameters\n",
            "  warnings.warn(\n",
            "\n",
            "c:\\Users\\Юзер\\AppData\\Local\\Programs\\Python\\Python311\\Lib\\site-packages\\sklearn\\linear_model\\_sag.py:350: ConvergenceWarning: The max_iter was reached which means the coef_ did not converge\n",
            "  warnings.warn(\n",
            "\n"
          ]
        },
        {
          "name": "stdout",
          "output_type": "stream",
          "text": [
            " 36%|███▌      | 18/50 [00:55<01:49,  3.43s/trial, best loss: -0.7830111458414548]"
          ]
        },
        {
          "name": "stderr",
          "output_type": "stream",
          "text": [
            "c:\\Users\\Юзер\\AppData\\Local\\Programs\\Python\\Python311\\Lib\\site-packages\\sklearn\\linear_model\\_sag.py:350: ConvergenceWarning: The max_iter was reached which means the coef_ did not converge\n",
            "  warnings.warn(\n",
            "\n"
          ]
        },
        {
          "name": "stdout",
          "output_type": "stream",
          "text": [
            " 38%|███▊      | 19/50 [00:58<01:44,  3.37s/trial, best loss: -0.7830111458414548]"
          ]
        },
        {
          "name": "stderr",
          "output_type": "stream",
          "text": [
            "c:\\Users\\Юзер\\AppData\\Local\\Programs\\Python\\Python311\\Lib\\site-packages\\sklearn\\linear_model\\_logistic.py:458: ConvergenceWarning: lbfgs failed to converge (status=1):\n",
            "STOP: TOTAL NO. of ITERATIONS REACHED LIMIT.\n",
            "\n",
            "Increase the number of iterations (max_iter) or scale the data as shown in:\n",
            "    https://scikit-learn.org/stable/modules/preprocessing.html\n",
            "Please also refer to the documentation for alternative solver options:\n",
            "    https://scikit-learn.org/stable/modules/linear_model.html#logistic-regression\n",
            "  n_iter_i = _check_optimize_result(\n",
            "\n"
          ]
        },
        {
          "name": "stdout",
          "output_type": "stream",
          "text": [
            " 40%|████      | 20/50 [00:59<01:20,  2.68s/trial, best loss: -0.7830111458414548]"
          ]
        },
        {
          "name": "stderr",
          "output_type": "stream",
          "text": [
            "c:\\Users\\Юзер\\AppData\\Local\\Programs\\Python\\Python311\\Lib\\site-packages\\sklearn\\linear_model\\_logistic.py:458: ConvergenceWarning: lbfgs failed to converge (status=1):\n",
            "STOP: TOTAL NO. of ITERATIONS REACHED LIMIT.\n",
            "\n",
            "Increase the number of iterations (max_iter) or scale the data as shown in:\n",
            "    https://scikit-learn.org/stable/modules/preprocessing.html\n",
            "Please also refer to the documentation for alternative solver options:\n",
            "    https://scikit-learn.org/stable/modules/linear_model.html#logistic-regression\n",
            "  n_iter_i = _check_optimize_result(\n",
            "\n"
          ]
        },
        {
          "name": "stdout",
          "output_type": "stream",
          "text": [
            " 42%|████▏     | 21/50 [01:00<01:03,  2.18s/trial, best loss: -0.7830111458414548]"
          ]
        },
        {
          "name": "stderr",
          "output_type": "stream",
          "text": [
            "c:\\Users\\Юзер\\AppData\\Local\\Programs\\Python\\Python311\\Lib\\site-packages\\sklearn\\linear_model\\_logistic.py:458: ConvergenceWarning: lbfgs failed to converge (status=1):\n",
            "STOP: TOTAL NO. of ITERATIONS REACHED LIMIT.\n",
            "\n",
            "Increase the number of iterations (max_iter) or scale the data as shown in:\n",
            "    https://scikit-learn.org/stable/modules/preprocessing.html\n",
            "Please also refer to the documentation for alternative solver options:\n",
            "    https://scikit-learn.org/stable/modules/linear_model.html#logistic-regression\n",
            "  n_iter_i = _check_optimize_result(\n",
            "\n"
          ]
        },
        {
          "name": "stdout",
          "output_type": "stream",
          "text": [
            " 44%|████▍     | 22/50 [01:01<00:51,  1.85s/trial, best loss: -0.7830111458414548]"
          ]
        },
        {
          "name": "stderr",
          "output_type": "stream",
          "text": [
            "c:\\Users\\Юзер\\AppData\\Local\\Programs\\Python\\Python311\\Lib\\site-packages\\sklearn\\linear_model\\_logistic.py:458: ConvergenceWarning: lbfgs failed to converge (status=1):\n",
            "STOP: TOTAL NO. of ITERATIONS REACHED LIMIT.\n",
            "\n",
            "Increase the number of iterations (max_iter) or scale the data as shown in:\n",
            "    https://scikit-learn.org/stable/modules/preprocessing.html\n",
            "Please also refer to the documentation for alternative solver options:\n",
            "    https://scikit-learn.org/stable/modules/linear_model.html#logistic-regression\n",
            "  n_iter_i = _check_optimize_result(\n",
            "\n"
          ]
        },
        {
          "name": "stdout",
          "output_type": "stream",
          "text": [
            " 46%|████▌     | 23/50 [01:02<00:43,  1.61s/trial, best loss: -0.7830111458414548]"
          ]
        },
        {
          "name": "stderr",
          "output_type": "stream",
          "text": [
            "c:\\Users\\Юзер\\AppData\\Local\\Programs\\Python\\Python311\\Lib\\site-packages\\sklearn\\linear_model\\_logistic.py:458: ConvergenceWarning: lbfgs failed to converge (status=1):\n",
            "STOP: TOTAL NO. of ITERATIONS REACHED LIMIT.\n",
            "\n",
            "Increase the number of iterations (max_iter) or scale the data as shown in:\n",
            "    https://scikit-learn.org/stable/modules/preprocessing.html\n",
            "Please also refer to the documentation for alternative solver options:\n",
            "    https://scikit-learn.org/stable/modules/linear_model.html#logistic-regression\n",
            "  n_iter_i = _check_optimize_result(\n",
            "\n"
          ]
        },
        {
          "name": "stdout",
          "output_type": "stream",
          "text": [
            " 48%|████▊     | 24/50 [01:03<00:37,  1.45s/trial, best loss: -0.783969058294803] "
          ]
        },
        {
          "name": "stderr",
          "output_type": "stream",
          "text": [
            "c:\\Users\\Юзер\\AppData\\Local\\Programs\\Python\\Python311\\Lib\\site-packages\\sklearn\\linear_model\\_logistic.py:458: ConvergenceWarning: lbfgs failed to converge (status=1):\n",
            "STOP: TOTAL NO. of ITERATIONS REACHED LIMIT.\n",
            "\n",
            "Increase the number of iterations (max_iter) or scale the data as shown in:\n",
            "    https://scikit-learn.org/stable/modules/preprocessing.html\n",
            "Please also refer to the documentation for alternative solver options:\n",
            "    https://scikit-learn.org/stable/modules/linear_model.html#logistic-regression\n",
            "  n_iter_i = _check_optimize_result(\n",
            "\n"
          ]
        },
        {
          "name": "stdout",
          "output_type": "stream",
          "text": [
            " 50%|█████     | 25/50 [01:04<00:33,  1.33s/trial, best loss: -0.783969058294803]"
          ]
        },
        {
          "name": "stderr",
          "output_type": "stream",
          "text": [
            "c:\\Users\\Юзер\\AppData\\Local\\Programs\\Python\\Python311\\Lib\\site-packages\\sklearn\\linear_model\\_logistic.py:458: ConvergenceWarning: lbfgs failed to converge (status=1):\n",
            "STOP: TOTAL NO. of ITERATIONS REACHED LIMIT.\n",
            "\n",
            "Increase the number of iterations (max_iter) or scale the data as shown in:\n",
            "    https://scikit-learn.org/stable/modules/preprocessing.html\n",
            "Please also refer to the documentation for alternative solver options:\n",
            "    https://scikit-learn.org/stable/modules/linear_model.html#logistic-regression\n",
            "  n_iter_i = _check_optimize_result(\n",
            "\n"
          ]
        },
        {
          "name": "stdout",
          "output_type": "stream",
          "text": [
            " 52%|█████▏    | 26/50 [01:05<00:29,  1.25s/trial, best loss: -0.783969058294803]"
          ]
        },
        {
          "name": "stderr",
          "output_type": "stream",
          "text": [
            "c:\\Users\\Юзер\\AppData\\Local\\Programs\\Python\\Python311\\Lib\\site-packages\\sklearn\\linear_model\\_logistic.py:458: ConvergenceWarning: lbfgs failed to converge (status=1):\n",
            "STOP: TOTAL NO. of ITERATIONS REACHED LIMIT.\n",
            "\n",
            "Increase the number of iterations (max_iter) or scale the data as shown in:\n",
            "    https://scikit-learn.org/stable/modules/preprocessing.html\n",
            "Please also refer to the documentation for alternative solver options:\n",
            "    https://scikit-learn.org/stable/modules/linear_model.html#logistic-regression\n",
            "  n_iter_i = _check_optimize_result(\n",
            "\n"
          ]
        },
        {
          "name": "stdout",
          "output_type": "stream",
          "text": [
            " 54%|█████▍    | 27/50 [01:06<00:27,  1.19s/trial, best loss: -0.783969058294803]"
          ]
        },
        {
          "name": "stderr",
          "output_type": "stream",
          "text": [
            "c:\\Users\\Юзер\\AppData\\Local\\Programs\\Python\\Python311\\Lib\\site-packages\\sklearn\\linear_model\\_logistic.py:458: ConvergenceWarning: lbfgs failed to converge (status=1):\n",
            "STOP: TOTAL NO. of ITERATIONS REACHED LIMIT.\n",
            "\n",
            "Increase the number of iterations (max_iter) or scale the data as shown in:\n",
            "    https://scikit-learn.org/stable/modules/preprocessing.html\n",
            "Please also refer to the documentation for alternative solver options:\n",
            "    https://scikit-learn.org/stable/modules/linear_model.html#logistic-regression\n",
            "  n_iter_i = _check_optimize_result(\n",
            "\n"
          ]
        },
        {
          "name": "stdout",
          "output_type": "stream",
          "text": [
            " 56%|█████▌    | 28/50 [01:07<00:23,  1.08s/trial, best loss: -0.783969058294803]"
          ]
        },
        {
          "name": "stderr",
          "output_type": "stream",
          "text": [
            "c:\\Users\\Юзер\\AppData\\Local\\Programs\\Python\\Python311\\Lib\\site-packages\\sklearn\\linear_model\\_logistic.py:458: ConvergenceWarning: lbfgs failed to converge (status=1):\n",
            "STOP: TOTAL NO. of ITERATIONS REACHED LIMIT.\n",
            "\n",
            "Increase the number of iterations (max_iter) or scale the data as shown in:\n",
            "    https://scikit-learn.org/stable/modules/preprocessing.html\n",
            "Please also refer to the documentation for alternative solver options:\n",
            "    https://scikit-learn.org/stable/modules/linear_model.html#logistic-regression\n",
            "  n_iter_i = _check_optimize_result(\n",
            "\n"
          ]
        },
        {
          "name": "stdout",
          "output_type": "stream",
          "text": [
            " 58%|█████▊    | 29/50 [01:08<00:22,  1.07s/trial, best loss: -0.783969058294803]"
          ]
        },
        {
          "name": "stderr",
          "output_type": "stream",
          "text": [
            "c:\\Users\\Юзер\\AppData\\Local\\Programs\\Python\\Python311\\Lib\\site-packages\\sklearn\\linear_model\\_logistic.py:458: ConvergenceWarning: lbfgs failed to converge (status=1):\n",
            "STOP: TOTAL NO. of ITERATIONS REACHED LIMIT.\n",
            "\n",
            "Increase the number of iterations (max_iter) or scale the data as shown in:\n",
            "    https://scikit-learn.org/stable/modules/preprocessing.html\n",
            "Please also refer to the documentation for alternative solver options:\n",
            "    https://scikit-learn.org/stable/modules/linear_model.html#logistic-regression\n",
            "  n_iter_i = _check_optimize_result(\n",
            "\n"
          ]
        },
        {
          "name": "stdout",
          "output_type": "stream",
          "text": [
            " 60%|██████    | 30/50 [01:09<00:21,  1.06s/trial, best loss: -0.783969058294803]"
          ]
        },
        {
          "name": "stderr",
          "output_type": "stream",
          "text": [
            "c:\\Users\\Юзер\\AppData\\Local\\Programs\\Python\\Python311\\Lib\\site-packages\\sklearn\\linear_model\\_logistic.py:458: ConvergenceWarning: lbfgs failed to converge (status=1):\n",
            "STOP: TOTAL NO. of ITERATIONS REACHED LIMIT.\n",
            "\n",
            "Increase the number of iterations (max_iter) or scale the data as shown in:\n",
            "    https://scikit-learn.org/stable/modules/preprocessing.html\n",
            "Please also refer to the documentation for alternative solver options:\n",
            "    https://scikit-learn.org/stable/modules/linear_model.html#logistic-regression\n",
            "  n_iter_i = _check_optimize_result(\n",
            "\n"
          ]
        },
        {
          "name": "stdout",
          "output_type": "stream",
          "text": [
            " 62%|██████▏   | 31/50 [01:10<00:18,  1.00trial/s, best loss: -0.783969058294803]"
          ]
        },
        {
          "name": "stderr",
          "output_type": "stream",
          "text": [
            "c:\\Users\\Юзер\\AppData\\Local\\Programs\\Python\\Python311\\Lib\\site-packages\\sklearn\\linear_model\\_logistic.py:458: ConvergenceWarning: lbfgs failed to converge (status=1):\n",
            "STOP: TOTAL NO. of ITERATIONS REACHED LIMIT.\n",
            "\n",
            "Increase the number of iterations (max_iter) or scale the data as shown in:\n",
            "    https://scikit-learn.org/stable/modules/preprocessing.html\n",
            "Please also refer to the documentation for alternative solver options:\n",
            "    https://scikit-learn.org/stable/modules/linear_model.html#logistic-regression\n",
            "  n_iter_i = _check_optimize_result(\n",
            "\n"
          ]
        },
        {
          "name": "stdout",
          "output_type": "stream",
          "text": [
            " 64%|██████▍   | 32/50 [01:11<00:18,  1.02s/trial, best loss: -0.783969058294803]"
          ]
        },
        {
          "name": "stderr",
          "output_type": "stream",
          "text": [
            "c:\\Users\\Юзер\\AppData\\Local\\Programs\\Python\\Python311\\Lib\\site-packages\\sklearn\\linear_model\\_logistic.py:458: ConvergenceWarning: lbfgs failed to converge (status=1):\n",
            "STOP: TOTAL NO. of ITERATIONS REACHED LIMIT.\n",
            "\n",
            "Increase the number of iterations (max_iter) or scale the data as shown in:\n",
            "    https://scikit-learn.org/stable/modules/preprocessing.html\n",
            "Please also refer to the documentation for alternative solver options:\n",
            "    https://scikit-learn.org/stable/modules/linear_model.html#logistic-regression\n",
            "  n_iter_i = _check_optimize_result(\n",
            "\n"
          ]
        },
        {
          "name": "stdout",
          "output_type": "stream",
          "text": [
            " 68%|██████▊   | 34/50 [01:16<00:29,  1.85s/trial, best loss: -0.783969058294803]"
          ]
        },
        {
          "name": "stderr",
          "output_type": "stream",
          "text": [
            "c:\\Users\\Юзер\\AppData\\Local\\Programs\\Python\\Python311\\Lib\\site-packages\\sklearn\\linear_model\\_logistic.py:1173: FutureWarning: `penalty='none'`has been deprecated in 1.2 and will be removed in 1.4. To keep the past behaviour, set `penalty=None`.\n",
            "  warnings.warn(\n",
            "\n",
            "c:\\Users\\Юзер\\AppData\\Local\\Programs\\Python\\Python311\\Lib\\site-packages\\sklearn\\linear_model\\_logistic.py:1181: UserWarning: Setting penalty=None will ignore the C and l1_ratio parameters\n",
            "  warnings.warn(\n",
            "\n",
            "c:\\Users\\Юзер\\AppData\\Local\\Programs\\Python\\Python311\\Lib\\site-packages\\sklearn\\linear_model\\_logistic.py:458: ConvergenceWarning: lbfgs failed to converge (status=1):\n",
            "STOP: TOTAL NO. of ITERATIONS REACHED LIMIT.\n",
            "\n",
            "Increase the number of iterations (max_iter) or scale the data as shown in:\n",
            "    https://scikit-learn.org/stable/modules/preprocessing.html\n",
            "Please also refer to the documentation for alternative solver options:\n",
            "    https://scikit-learn.org/stable/modules/linear_model.html#logistic-regression\n",
            "  n_iter_i = _check_optimize_result(\n",
            "\n"
          ]
        },
        {
          "name": "stdout",
          "output_type": "stream",
          "text": [
            " 70%|███████   | 35/50 [01:17<00:24,  1.61s/trial, best loss: -0.783969058294803]"
          ]
        },
        {
          "name": "stderr",
          "output_type": "stream",
          "text": [
            "c:\\Users\\Юзер\\AppData\\Local\\Programs\\Python\\Python311\\Lib\\site-packages\\sklearn\\linear_model\\_logistic.py:458: ConvergenceWarning: lbfgs failed to converge (status=1):\n",
            "STOP: TOTAL NO. of ITERATIONS REACHED LIMIT.\n",
            "\n",
            "Increase the number of iterations (max_iter) or scale the data as shown in:\n",
            "    https://scikit-learn.org/stable/modules/preprocessing.html\n",
            "Please also refer to the documentation for alternative solver options:\n",
            "    https://scikit-learn.org/stable/modules/linear_model.html#logistic-regression\n",
            "  n_iter_i = _check_optimize_result(\n",
            "\n"
          ]
        },
        {
          "name": "stdout",
          "output_type": "stream",
          "text": [
            " 74%|███████▍  | 37/50 [01:22<00:30,  2.34s/trial, best loss: -0.783969058294803]"
          ]
        },
        {
          "name": "stderr",
          "output_type": "stream",
          "text": [
            "c:\\Users\\Юзер\\AppData\\Local\\Programs\\Python\\Python311\\Lib\\site-packages\\sklearn\\linear_model\\_logistic.py:1173: FutureWarning: `penalty='none'`has been deprecated in 1.2 and will be removed in 1.4. To keep the past behaviour, set `penalty=None`.\n",
            "  warnings.warn(\n",
            "\n",
            "c:\\Users\\Юзер\\AppData\\Local\\Programs\\Python\\Python311\\Lib\\site-packages\\sklearn\\linear_model\\_logistic.py:1181: UserWarning: Setting penalty=None will ignore the C and l1_ratio parameters\n",
            "  warnings.warn(\n",
            "\n",
            "c:\\Users\\Юзер\\AppData\\Local\\Programs\\Python\\Python311\\Lib\\site-packages\\sklearn\\linear_model\\_logistic.py:458: ConvergenceWarning: lbfgs failed to converge (status=1):\n",
            "STOP: TOTAL NO. of ITERATIONS REACHED LIMIT.\n",
            "\n",
            "Increase the number of iterations (max_iter) or scale the data as shown in:\n",
            "    https://scikit-learn.org/stable/modules/preprocessing.html\n",
            "Please also refer to the documentation for alternative solver options:\n",
            "    https://scikit-learn.org/stable/modules/linear_model.html#logistic-regression\n",
            "  n_iter_i = _check_optimize_result(\n",
            "\n"
          ]
        },
        {
          "name": "stdout",
          "output_type": "stream",
          "text": [
            " 76%|███████▌  | 38/50 [01:23<00:23,  1.95s/trial, best loss: -0.783969058294803]"
          ]
        },
        {
          "name": "stderr",
          "output_type": "stream",
          "text": [
            "c:\\Users\\Юзер\\AppData\\Local\\Programs\\Python\\Python311\\Lib\\site-packages\\sklearn\\linear_model\\_logistic.py:458: ConvergenceWarning: lbfgs failed to converge (status=1):\n",
            "STOP: TOTAL NO. of ITERATIONS REACHED LIMIT.\n",
            "\n",
            "Increase the number of iterations (max_iter) or scale the data as shown in:\n",
            "    https://scikit-learn.org/stable/modules/preprocessing.html\n",
            "Please also refer to the documentation for alternative solver options:\n",
            "    https://scikit-learn.org/stable/modules/linear_model.html#logistic-regression\n",
            "  n_iter_i = _check_optimize_result(\n",
            "\n"
          ]
        },
        {
          "name": "stdout",
          "output_type": "stream",
          "text": [
            " 78%|███████▊  | 39/50 [01:25<00:18,  1.68s/trial, best loss: -0.783969058294803]"
          ]
        },
        {
          "name": "stderr",
          "output_type": "stream",
          "text": [
            "c:\\Users\\Юзер\\AppData\\Local\\Programs\\Python\\Python311\\Lib\\site-packages\\sklearn\\linear_model\\_logistic.py:1173: FutureWarning: `penalty='none'`has been deprecated in 1.2 and will be removed in 1.4. To keep the past behaviour, set `penalty=None`.\n",
            "  warnings.warn(\n",
            "\n",
            "c:\\Users\\Юзер\\AppData\\Local\\Programs\\Python\\Python311\\Lib\\site-packages\\sklearn\\linear_model\\_logistic.py:1181: UserWarning: Setting penalty=None will ignore the C and l1_ratio parameters\n",
            "  warnings.warn(\n",
            "\n",
            "c:\\Users\\Юзер\\AppData\\Local\\Programs\\Python\\Python311\\Lib\\site-packages\\sklearn\\linear_model\\_logistic.py:458: ConvergenceWarning: lbfgs failed to converge (status=1):\n",
            "STOP: TOTAL NO. of ITERATIONS REACHED LIMIT.\n",
            "\n",
            "Increase the number of iterations (max_iter) or scale the data as shown in:\n",
            "    https://scikit-learn.org/stable/modules/preprocessing.html\n",
            "Please also refer to the documentation for alternative solver options:\n",
            "    https://scikit-learn.org/stable/modules/linear_model.html#logistic-regression\n",
            "  n_iter_i = _check_optimize_result(\n",
            "\n"
          ]
        },
        {
          "name": "stdout",
          "output_type": "stream",
          "text": [
            " 80%|████████  | 40/50 [01:26<00:14,  1.49s/trial, best loss: -0.783969058294803]"
          ]
        },
        {
          "name": "stderr",
          "output_type": "stream",
          "text": [
            "c:\\Users\\Юзер\\AppData\\Local\\Programs\\Python\\Python311\\Lib\\site-packages\\sklearn\\linear_model\\_sag.py:350: ConvergenceWarning: The max_iter was reached which means the coef_ did not converge\n",
            "  warnings.warn(\n",
            "\n"
          ]
        },
        {
          "name": "stdout",
          "output_type": "stream",
          "text": [
            " 84%|████████▍ | 42/50 [01:34<00:24,  3.02s/trial, best loss: -0.783969058294803]"
          ]
        },
        {
          "name": "stderr",
          "output_type": "stream",
          "text": [
            "c:\\Users\\Юзер\\AppData\\Local\\Programs\\Python\\Python311\\Lib\\site-packages\\sklearn\\linear_model\\_logistic.py:1173: FutureWarning: `penalty='none'`has been deprecated in 1.2 and will be removed in 1.4. To keep the past behaviour, set `penalty=None`.\n",
            "  warnings.warn(\n",
            "\n",
            "c:\\Users\\Юзер\\AppData\\Local\\Programs\\Python\\Python311\\Lib\\site-packages\\sklearn\\linear_model\\_logistic.py:1181: UserWarning: Setting penalty=None will ignore the C and l1_ratio parameters\n",
            "  warnings.warn(\n",
            "\n",
            "c:\\Users\\Юзер\\AppData\\Local\\Programs\\Python\\Python311\\Lib\\site-packages\\sklearn\\linear_model\\_logistic.py:458: ConvergenceWarning: lbfgs failed to converge (status=1):\n",
            "STOP: TOTAL NO. of ITERATIONS REACHED LIMIT.\n",
            "\n",
            "Increase the number of iterations (max_iter) or scale the data as shown in:\n",
            "    https://scikit-learn.org/stable/modules/preprocessing.html\n",
            "Please also refer to the documentation for alternative solver options:\n",
            "    https://scikit-learn.org/stable/modules/linear_model.html#logistic-regression\n",
            "  n_iter_i = _check_optimize_result(\n",
            "\n"
          ]
        },
        {
          "name": "stdout",
          "output_type": "stream",
          "text": [
            " 86%|████████▌ | 43/50 [01:35<00:17,  2.43s/trial, best loss: -0.783969058294803]"
          ]
        },
        {
          "name": "stderr",
          "output_type": "stream",
          "text": [
            "c:\\Users\\Юзер\\AppData\\Local\\Programs\\Python\\Python311\\Lib\\site-packages\\sklearn\\linear_model\\_sag.py:350: ConvergenceWarning: The max_iter was reached which means the coef_ did not converge\n",
            "  warnings.warn(\n",
            "\n"
          ]
        },
        {
          "name": "stdout",
          "output_type": "stream",
          "text": [
            " 88%|████████▊ | 44/50 [01:38<00:16,  2.69s/trial, best loss: -0.783969058294803]"
          ]
        },
        {
          "name": "stderr",
          "output_type": "stream",
          "text": [
            "c:\\Users\\Юзер\\AppData\\Local\\Programs\\Python\\Python311\\Lib\\site-packages\\sklearn\\linear_model\\_logistic.py:458: ConvergenceWarning: lbfgs failed to converge (status=1):\n",
            "STOP: TOTAL NO. of ITERATIONS REACHED LIMIT.\n",
            "\n",
            "Increase the number of iterations (max_iter) or scale the data as shown in:\n",
            "    https://scikit-learn.org/stable/modules/preprocessing.html\n",
            "Please also refer to the documentation for alternative solver options:\n",
            "    https://scikit-learn.org/stable/modules/linear_model.html#logistic-regression\n",
            "  n_iter_i = _check_optimize_result(\n",
            "\n"
          ]
        },
        {
          "name": "stdout",
          "output_type": "stream",
          "text": [
            " 90%|█████████ | 45/50 [01:40<00:11,  2.20s/trial, best loss: -0.783969058294803]"
          ]
        },
        {
          "name": "stderr",
          "output_type": "stream",
          "text": [
            "c:\\Users\\Юзер\\AppData\\Local\\Programs\\Python\\Python311\\Lib\\site-packages\\sklearn\\linear_model\\_logistic.py:1173: FutureWarning: `penalty='none'`has been deprecated in 1.2 and will be removed in 1.4. To keep the past behaviour, set `penalty=None`.\n",
            "  warnings.warn(\n",
            "\n",
            "c:\\Users\\Юзер\\AppData\\Local\\Programs\\Python\\Python311\\Lib\\site-packages\\sklearn\\linear_model\\_logistic.py:1181: UserWarning: Setting penalty=None will ignore the C and l1_ratio parameters\n",
            "  warnings.warn(\n",
            "\n",
            "c:\\Users\\Юзер\\AppData\\Local\\Programs\\Python\\Python311\\Lib\\site-packages\\scipy\\optimize\\_linesearch.py:305: LineSearchWarning: The line search algorithm did not converge\n",
            "  warn('The line search algorithm did not converge', LineSearchWarning)\n",
            "\n",
            "c:\\Users\\Юзер\\AppData\\Local\\Programs\\Python\\Python311\\Lib\\site-packages\\sklearn\\utils\\optimize.py:203: UserWarning: Line Search failed\n",
            "  warnings.warn(\"Line Search failed\")\n",
            "\n"
          ]
        },
        {
          "name": "stdout",
          "output_type": "stream",
          "text": [
            " 92%|█████████▏| 46/50 [02:17<00:51, 12.89s/trial, best loss: -0.783969058294803]"
          ]
        },
        {
          "name": "stderr",
          "output_type": "stream",
          "text": [
            "c:\\Users\\Юзер\\AppData\\Local\\Programs\\Python\\Python311\\Lib\\site-packages\\sklearn\\linear_model\\_logistic.py:458: ConvergenceWarning: lbfgs failed to converge (status=1):\n",
            "STOP: TOTAL NO. of ITERATIONS REACHED LIMIT.\n",
            "\n",
            "Increase the number of iterations (max_iter) or scale the data as shown in:\n",
            "    https://scikit-learn.org/stable/modules/preprocessing.html\n",
            "Please also refer to the documentation for alternative solver options:\n",
            "    https://scikit-learn.org/stable/modules/linear_model.html#logistic-regression\n",
            "  n_iter_i = _check_optimize_result(\n",
            "\n"
          ]
        },
        {
          "name": "stdout",
          "output_type": "stream",
          "text": [
            " 94%|█████████▍| 47/50 [02:18<00:27,  9.28s/trial, best loss: -0.783969058294803]"
          ]
        },
        {
          "name": "stderr",
          "output_type": "stream",
          "text": [
            "c:\\Users\\Юзер\\AppData\\Local\\Programs\\Python\\Python311\\Lib\\site-packages\\sklearn\\linear_model\\_sag.py:350: ConvergenceWarning: The max_iter was reached which means the coef_ did not converge\n",
            "  warnings.warn(\n",
            "\n"
          ]
        },
        {
          "name": "stdout",
          "output_type": "stream",
          "text": [
            " 96%|█████████▌| 48/50 [02:22<00:15,  7.51s/trial, best loss: -0.783969058294803]"
          ]
        },
        {
          "name": "stderr",
          "output_type": "stream",
          "text": [
            "c:\\Users\\Юзер\\AppData\\Local\\Programs\\Python\\Python311\\Lib\\site-packages\\sklearn\\linear_model\\_logistic.py:1173: FutureWarning: `penalty='none'`has been deprecated in 1.2 and will be removed in 1.4. To keep the past behaviour, set `penalty=None`.\n",
            "  warnings.warn(\n",
            "\n",
            "c:\\Users\\Юзер\\AppData\\Local\\Programs\\Python\\Python311\\Lib\\site-packages\\sklearn\\linear_model\\_logistic.py:1181: UserWarning: Setting penalty=None will ignore the C and l1_ratio parameters\n",
            "  warnings.warn(\n",
            "\n",
            "c:\\Users\\Юзер\\AppData\\Local\\Programs\\Python\\Python311\\Lib\\site-packages\\sklearn\\linear_model\\_logistic.py:458: ConvergenceWarning: lbfgs failed to converge (status=1):\n",
            "STOP: TOTAL NO. of ITERATIONS REACHED LIMIT.\n",
            "\n",
            "Increase the number of iterations (max_iter) or scale the data as shown in:\n",
            "    https://scikit-learn.org/stable/modules/preprocessing.html\n",
            "Please also refer to the documentation for alternative solver options:\n",
            "    https://scikit-learn.org/stable/modules/linear_model.html#logistic-regression\n",
            "  n_iter_i = _check_optimize_result(\n",
            "\n"
          ]
        },
        {
          "name": "stdout",
          "output_type": "stream",
          "text": [
            "100%|██████████| 50/50 [02:29<00:00,  2.98s/trial, best loss: -0.783969058294803]\n",
            "CPU times: total: 3min 40s\n",
            "Wall time: 2min 29s\n"
          ]
        },
        {
          "name": "stderr",
          "output_type": "stream",
          "text": [
            "c:\\Users\\Юзер\\AppData\\Local\\Programs\\Python\\Python311\\Lib\\site-packages\\sklearn\\linear_model\\_logistic.py:458: ConvergenceWarning: lbfgs failed to converge (status=1):\n",
            "STOP: TOTAL NO. of ITERATIONS REACHED LIMIT.\n",
            "\n",
            "Increase the number of iterations (max_iter) or scale the data as shown in:\n",
            "    https://scikit-learn.org/stable/modules/preprocessing.html\n",
            "Please also refer to the documentation for alternative solver options:\n",
            "    https://scikit-learn.org/stable/modules/linear_model.html#logistic-regression\n",
            "  n_iter_i = _check_optimize_result(\n"
          ]
        },
        {
          "data": {
            "text/html": [
              "<style>#sk-container-id-1 {color: black;background-color: white;}#sk-container-id-1 pre{padding: 0;}#sk-container-id-1 div.sk-toggleable {background-color: white;}#sk-container-id-1 label.sk-toggleable__label {cursor: pointer;display: block;width: 100%;margin-bottom: 0;padding: 0.3em;box-sizing: border-box;text-align: center;}#sk-container-id-1 label.sk-toggleable__label-arrow:before {content: \"▸\";float: left;margin-right: 0.25em;color: #696969;}#sk-container-id-1 label.sk-toggleable__label-arrow:hover:before {color: black;}#sk-container-id-1 div.sk-estimator:hover label.sk-toggleable__label-arrow:before {color: black;}#sk-container-id-1 div.sk-toggleable__content {max-height: 0;max-width: 0;overflow: hidden;text-align: left;background-color: #f0f8ff;}#sk-container-id-1 div.sk-toggleable__content pre {margin: 0.2em;color: black;border-radius: 0.25em;background-color: #f0f8ff;}#sk-container-id-1 input.sk-toggleable__control:checked~div.sk-toggleable__content {max-height: 200px;max-width: 100%;overflow: auto;}#sk-container-id-1 input.sk-toggleable__control:checked~label.sk-toggleable__label-arrow:before {content: \"▾\";}#sk-container-id-1 div.sk-estimator input.sk-toggleable__control:checked~label.sk-toggleable__label {background-color: #d4ebff;}#sk-container-id-1 div.sk-label input.sk-toggleable__control:checked~label.sk-toggleable__label {background-color: #d4ebff;}#sk-container-id-1 input.sk-hidden--visually {border: 0;clip: rect(1px 1px 1px 1px);clip: rect(1px, 1px, 1px, 1px);height: 1px;margin: -1px;overflow: hidden;padding: 0;position: absolute;width: 1px;}#sk-container-id-1 div.sk-estimator {font-family: monospace;background-color: #f0f8ff;border: 1px dotted black;border-radius: 0.25em;box-sizing: border-box;margin-bottom: 0.5em;}#sk-container-id-1 div.sk-estimator:hover {background-color: #d4ebff;}#sk-container-id-1 div.sk-parallel-item::after {content: \"\";width: 100%;border-bottom: 1px solid gray;flex-grow: 1;}#sk-container-id-1 div.sk-label:hover label.sk-toggleable__label {background-color: #d4ebff;}#sk-container-id-1 div.sk-serial::before {content: \"\";position: absolute;border-left: 1px solid gray;box-sizing: border-box;top: 0;bottom: 0;left: 50%;z-index: 0;}#sk-container-id-1 div.sk-serial {display: flex;flex-direction: column;align-items: center;background-color: white;padding-right: 0.2em;padding-left: 0.2em;position: relative;}#sk-container-id-1 div.sk-item {position: relative;z-index: 1;}#sk-container-id-1 div.sk-parallel {display: flex;align-items: stretch;justify-content: center;background-color: white;position: relative;}#sk-container-id-1 div.sk-item::before, #sk-container-id-1 div.sk-parallel-item::before {content: \"\";position: absolute;border-left: 1px solid gray;box-sizing: border-box;top: 0;bottom: 0;left: 50%;z-index: -1;}#sk-container-id-1 div.sk-parallel-item {display: flex;flex-direction: column;z-index: 1;position: relative;background-color: white;}#sk-container-id-1 div.sk-parallel-item:first-child::after {align-self: flex-end;width: 50%;}#sk-container-id-1 div.sk-parallel-item:last-child::after {align-self: flex-start;width: 50%;}#sk-container-id-1 div.sk-parallel-item:only-child::after {width: 0;}#sk-container-id-1 div.sk-dashed-wrapped {border: 1px dashed gray;margin: 0 0.4em 0.5em 0.4em;box-sizing: border-box;padding-bottom: 0.4em;background-color: white;}#sk-container-id-1 div.sk-label label {font-family: monospace;font-weight: bold;display: inline-block;line-height: 1.2em;}#sk-container-id-1 div.sk-label-container {text-align: center;}#sk-container-id-1 div.sk-container {/* jupyter's `normalize.less` sets `[hidden] { display: none; }` but bootstrap.min.css set `[hidden] { display: none !important; }` so we also need the `!important` here to be able to override the default hidden behavior on the sphinx rendered scikit-learn.org. See: https://github.com/scikit-learn/scikit-learn/issues/21755 */display: inline-block !important;position: relative;}#sk-container-id-1 div.sk-text-repr-fallback {display: none;}</style><div id=\"sk-container-id-1\" class=\"sk-top-container\"><div class=\"sk-text-repr-fallback\"><pre>LogisticRegression(C=0.02, max_iter=50, random_state=42)</pre><b>In a Jupyter environment, please rerun this cell to show the HTML representation or trust the notebook. <br />On GitHub, the HTML representation is unable to render, please try loading this page with nbviewer.org.</b></div><div class=\"sk-container\" hidden><div class=\"sk-item\"><div class=\"sk-estimator sk-toggleable\"><input class=\"sk-toggleable__control sk-hidden--visually\" id=\"sk-estimator-id-1\" type=\"checkbox\" checked><label for=\"sk-estimator-id-1\" class=\"sk-toggleable__label sk-toggleable__label-arrow\">LogisticRegression</label><div class=\"sk-toggleable__content\"><pre>LogisticRegression(C=0.02, max_iter=50, random_state=42)</pre></div></div></div></div></div>"
            ],
            "text/plain": [
              "LogisticRegression(C=0.02, max_iter=50, random_state=42)"
            ]
          },
          "execution_count": 15,
          "metadata": {},
          "output_type": "execute_result"
        }
      ],
      "source": [
        "%%time\n",
        "# начинаем подбор гиперпараметров\n",
        "trials = Trials() # используется для логирования результатов\n",
        "best_1 = fmin(hyperopt_lr, # наша функция\n",
        "          space=space_1, # пространство гиперпараметров\n",
        "          algo=tpe.suggest, # алгоритм оптимизации, установлен по умолчанию, задавать необязательно\n",
        "          max_evals=50, # максимальное количество итераций\n",
        "          trials=trials, # логирование результатов\n",
        "          rstate=np.random.default_rng(random_state)# фиксируем для повторяемости результата\n",
        "         )\n",
        "\n",
        "# построим и обучим модель с лучшими гиперпараметрами\n",
        "model_lr_hyper_1 = linear_model.LogisticRegression(\n",
        "    penalty=space_eval(space_1, best_1)['penalty'],\n",
        "        solver=space_eval(space_1, best_1)['solver'],\n",
        "        C=float(best_1['C']),\n",
        "        random_state=random_state,\n",
        "        max_iter=50\n",
        ")\n",
        "model_lr_hyper_1.fit(X_train, y_train)"
      ]
    },
    {
      "cell_type": "code",
      "execution_count": 16,
      "id": "19dbf718",
      "metadata": {
        "id": "19dbf718"
      },
      "outputs": [],
      "source": [
        "# зададим пространство поиска гиперпараметров №2\n",
        "space_2 = {'penalty': hp.choice('penalty', ['l1', 'l2']),\n",
        "        'solver': hp.choice('solver', ['liblinear', 'saga']),\n",
        "        'C': hp.quniform('C', 0.01, 1, 0.01)\n",
        "      }\n",
        "# зафиксируем random_state\n",
        "random_state =42\n",
        "def hyperopt_lr(params, cv=5, X=X_train, y=y_train, random_state=random_state):\n",
        "    # функция получает комбинацию гиперпараметров в \"params\"\n",
        "    params = {'penalty': str(params['penalty']),\n",
        "              'solver': str(params['solver']),\n",
        "              'C': float(params['C'])\n",
        "              }\n",
        "\n",
        "    # используем эту комбинацию для построения модели\n",
        "    model = linear_model.LogisticRegression(**params, random_state=random_state, max_iter=50)\n",
        "\n",
        "    # обучаем модель\n",
        "    model.fit(X, y)\n",
        "\n",
        "    # применим cross validation\n",
        "    score = cross_val_score(model, X, y, cv=cv, scoring=\"f1\", n_jobs=-1).mean()\n",
        "    # метрику необходимо минимизировать, поэтому ставим знак минус\n",
        "    return -score"
      ]
    },
    {
      "cell_type": "code",
      "execution_count": 17,
      "id": "09073a67",
      "metadata": {
        "id": "09073a67"
      },
      "outputs": [
        {
          "name": "stdout",
          "output_type": "stream",
          "text": [
            "  2%|▏         | 1/50 [00:00<00:35,  1.39trial/s, best loss: -0.770982773955998]"
          ]
        },
        {
          "name": "stderr",
          "output_type": "stream",
          "text": [
            "c:\\Users\\Юзер\\AppData\\Local\\Programs\\Python\\Python311\\Lib\\site-packages\\sklearn\\linear_model\\_sag.py:350: ConvergenceWarning: The max_iter was reached which means the coef_ did not converge\n",
            "  warnings.warn(\n",
            "\n"
          ]
        },
        {
          "name": "stdout",
          "output_type": "stream",
          "text": [
            "  6%|▌         | 3/50 [00:05<01:27,  1.87s/trial, best loss: -0.7778765118027862]"
          ]
        },
        {
          "name": "stderr",
          "output_type": "stream",
          "text": [
            "c:\\Users\\Юзер\\AppData\\Local\\Programs\\Python\\Python311\\Lib\\site-packages\\sklearn\\linear_model\\_sag.py:350: ConvergenceWarning: The max_iter was reached which means the coef_ did not converge\n",
            "  warnings.warn(\n",
            "\n"
          ]
        },
        {
          "name": "stdout",
          "output_type": "stream",
          "text": [
            " 10%|█         | 5/50 [00:10<01:31,  2.03s/trial, best loss: -0.7825317839110804]"
          ]
        },
        {
          "name": "stderr",
          "output_type": "stream",
          "text": [
            "c:\\Users\\Юзер\\AppData\\Local\\Programs\\Python\\Python311\\Lib\\site-packages\\sklearn\\linear_model\\_sag.py:350: ConvergenceWarning: The max_iter was reached which means the coef_ did not converge\n",
            "  warnings.warn(\n",
            "\n"
          ]
        },
        {
          "name": "stdout",
          "output_type": "stream",
          "text": [
            " 12%|█▏        | 6/50 [00:14<01:52,  2.57s/trial, best loss: -0.7825317839110804]"
          ]
        },
        {
          "name": "stderr",
          "output_type": "stream",
          "text": [
            "c:\\Users\\Юзер\\AppData\\Local\\Programs\\Python\\Python311\\Lib\\site-packages\\sklearn\\linear_model\\_sag.py:350: ConvergenceWarning: The max_iter was reached which means the coef_ did not converge\n",
            "  warnings.warn(\n",
            "\n"
          ]
        },
        {
          "name": "stdout",
          "output_type": "stream",
          "text": [
            " 18%|█▊        | 9/50 [00:20<01:19,  1.94s/trial, best loss: -0.7825317839110804]"
          ]
        },
        {
          "name": "stderr",
          "output_type": "stream",
          "text": [
            "c:\\Users\\Юзер\\AppData\\Local\\Programs\\Python\\Python311\\Lib\\site-packages\\sklearn\\linear_model\\_sag.py:350: ConvergenceWarning: The max_iter was reached which means the coef_ did not converge\n",
            "  warnings.warn(\n",
            "\n"
          ]
        },
        {
          "name": "stdout",
          "output_type": "stream",
          "text": [
            " 22%|██▏       | 11/50 [00:25<01:19,  2.03s/trial, best loss: -0.7825317839110804]"
          ]
        },
        {
          "name": "stderr",
          "output_type": "stream",
          "text": [
            "c:\\Users\\Юзер\\AppData\\Local\\Programs\\Python\\Python311\\Lib\\site-packages\\sklearn\\linear_model\\_sag.py:350: ConvergenceWarning: The max_iter was reached which means the coef_ did not converge\n",
            "  warnings.warn(\n",
            "\n"
          ]
        },
        {
          "name": "stdout",
          "output_type": "stream",
          "text": [
            " 26%|██▌       | 13/50 [00:29<01:14,  2.01s/trial, best loss: -0.7825317839110804]"
          ]
        },
        {
          "name": "stderr",
          "output_type": "stream",
          "text": [
            "c:\\Users\\Юзер\\AppData\\Local\\Programs\\Python\\Python311\\Lib\\site-packages\\sklearn\\linear_model\\_sag.py:350: ConvergenceWarning: The max_iter was reached which means the coef_ did not converge\n",
            "  warnings.warn(\n",
            "\n"
          ]
        },
        {
          "name": "stdout",
          "output_type": "stream",
          "text": [
            " 28%|██▊       | 14/50 [00:34<01:43,  2.86s/trial, best loss: -0.7825317839110804]"
          ]
        },
        {
          "name": "stderr",
          "output_type": "stream",
          "text": [
            "c:\\Users\\Юзер\\AppData\\Local\\Programs\\Python\\Python311\\Lib\\site-packages\\sklearn\\linear_model\\_sag.py:350: ConvergenceWarning: The max_iter was reached which means the coef_ did not converge\n",
            "  warnings.warn(\n",
            "\n"
          ]
        },
        {
          "name": "stdout",
          "output_type": "stream",
          "text": [
            " 32%|███▏      | 16/50 [00:40<01:32,  2.71s/trial, best loss: -0.7825317839110804]"
          ]
        },
        {
          "name": "stderr",
          "output_type": "stream",
          "text": [
            "c:\\Users\\Юзер\\AppData\\Local\\Programs\\Python\\Python311\\Lib\\site-packages\\sklearn\\linear_model\\_sag.py:350: ConvergenceWarning: The max_iter was reached which means the coef_ did not converge\n",
            "  warnings.warn(\n",
            "\n"
          ]
        },
        {
          "name": "stdout",
          "output_type": "stream",
          "text": [
            " 34%|███▍      | 17/50 [00:43<01:38,  2.97s/trial, best loss: -0.7825317839110804]"
          ]
        },
        {
          "name": "stderr",
          "output_type": "stream",
          "text": [
            "c:\\Users\\Юзер\\AppData\\Local\\Programs\\Python\\Python311\\Lib\\site-packages\\sklearn\\linear_model\\_sag.py:350: ConvergenceWarning: The max_iter was reached which means the coef_ did not converge\n",
            "  warnings.warn(\n",
            "\n"
          ]
        },
        {
          "name": "stdout",
          "output_type": "stream",
          "text": [
            " 36%|███▌      | 18/50 [00:48<01:49,  3.42s/trial, best loss: -0.7838598962869202]"
          ]
        },
        {
          "name": "stderr",
          "output_type": "stream",
          "text": [
            "c:\\Users\\Юзер\\AppData\\Local\\Programs\\Python\\Python311\\Lib\\site-packages\\sklearn\\linear_model\\_sag.py:350: ConvergenceWarning: The max_iter was reached which means the coef_ did not converge\n",
            "  warnings.warn(\n",
            "\n"
          ]
        },
        {
          "name": "stdout",
          "output_type": "stream",
          "text": [
            " 40%|████      | 20/50 [00:54<01:31,  3.03s/trial, best loss: -0.7838598962869202]"
          ]
        },
        {
          "name": "stderr",
          "output_type": "stream",
          "text": [
            "c:\\Users\\Юзер\\AppData\\Local\\Programs\\Python\\Python311\\Lib\\site-packages\\sklearn\\linear_model\\_sag.py:350: ConvergenceWarning: The max_iter was reached which means the coef_ did not converge\n",
            "  warnings.warn(\n",
            "\n"
          ]
        },
        {
          "name": "stdout",
          "output_type": "stream",
          "text": [
            " 42%|████▏     | 21/50 [00:59<01:43,  3.57s/trial, best loss: -0.7838598962869202]"
          ]
        },
        {
          "name": "stderr",
          "output_type": "stream",
          "text": [
            "c:\\Users\\Юзер\\AppData\\Local\\Programs\\Python\\Python311\\Lib\\site-packages\\sklearn\\linear_model\\_sag.py:350: ConvergenceWarning: The max_iter was reached which means the coef_ did not converge\n",
            "  warnings.warn(\n",
            "\n"
          ]
        },
        {
          "name": "stdout",
          "output_type": "stream",
          "text": [
            " 44%|████▍     | 22/50 [01:03<01:49,  3.91s/trial, best loss: -0.7838598962869202]"
          ]
        },
        {
          "name": "stderr",
          "output_type": "stream",
          "text": [
            "c:\\Users\\Юзер\\AppData\\Local\\Programs\\Python\\Python311\\Lib\\site-packages\\sklearn\\linear_model\\_sag.py:350: ConvergenceWarning: The max_iter was reached which means the coef_ did not converge\n",
            "  warnings.warn(\n",
            "\n"
          ]
        },
        {
          "name": "stdout",
          "output_type": "stream",
          "text": [
            " 46%|████▌     | 23/50 [01:08<01:53,  4.19s/trial, best loss: -0.7838598962869202]"
          ]
        },
        {
          "name": "stderr",
          "output_type": "stream",
          "text": [
            "c:\\Users\\Юзер\\AppData\\Local\\Programs\\Python\\Python311\\Lib\\site-packages\\sklearn\\linear_model\\_sag.py:350: ConvergenceWarning: The max_iter was reached which means the coef_ did not converge\n",
            "  warnings.warn(\n",
            "\n"
          ]
        },
        {
          "name": "stdout",
          "output_type": "stream",
          "text": [
            " 48%|████▊     | 24/50 [01:13<01:55,  4.43s/trial, best loss: -0.7838598962869202]"
          ]
        },
        {
          "name": "stderr",
          "output_type": "stream",
          "text": [
            "c:\\Users\\Юзер\\AppData\\Local\\Programs\\Python\\Python311\\Lib\\site-packages\\sklearn\\linear_model\\_sag.py:350: ConvergenceWarning: The max_iter was reached which means the coef_ did not converge\n",
            "  warnings.warn(\n",
            "\n"
          ]
        },
        {
          "name": "stdout",
          "output_type": "stream",
          "text": [
            " 50%|█████     | 25/50 [01:18<01:53,  4.54s/trial, best loss: -0.7838598962869202]"
          ]
        },
        {
          "name": "stderr",
          "output_type": "stream",
          "text": [
            "c:\\Users\\Юзер\\AppData\\Local\\Programs\\Python\\Python311\\Lib\\site-packages\\sklearn\\linear_model\\_sag.py:350: ConvergenceWarning: The max_iter was reached which means the coef_ did not converge\n",
            "  warnings.warn(\n",
            "\n"
          ]
        },
        {
          "name": "stdout",
          "output_type": "stream",
          "text": [
            " 52%|█████▏    | 26/50 [01:23<01:50,  4.59s/trial, best loss: -0.7838598962869202]"
          ]
        },
        {
          "name": "stderr",
          "output_type": "stream",
          "text": [
            "c:\\Users\\Юзер\\AppData\\Local\\Programs\\Python\\Python311\\Lib\\site-packages\\sklearn\\linear_model\\_sag.py:350: ConvergenceWarning: The max_iter was reached which means the coef_ did not converge\n",
            "  warnings.warn(\n",
            "\n"
          ]
        },
        {
          "name": "stdout",
          "output_type": "stream",
          "text": [
            " 54%|█████▍    | 27/50 [01:27<01:45,  4.60s/trial, best loss: -0.7838598962869202]"
          ]
        },
        {
          "name": "stderr",
          "output_type": "stream",
          "text": [
            "c:\\Users\\Юзер\\AppData\\Local\\Programs\\Python\\Python311\\Lib\\site-packages\\sklearn\\linear_model\\_sag.py:350: ConvergenceWarning: The max_iter was reached which means the coef_ did not converge\n",
            "  warnings.warn(\n",
            "\n"
          ]
        },
        {
          "name": "stdout",
          "output_type": "stream",
          "text": [
            " 56%|█████▌    | 28/50 [01:32<01:41,  4.59s/trial, best loss: -0.7838598962869202]"
          ]
        },
        {
          "name": "stderr",
          "output_type": "stream",
          "text": [
            "c:\\Users\\Юзер\\AppData\\Local\\Programs\\Python\\Python311\\Lib\\site-packages\\sklearn\\linear_model\\_sag.py:350: ConvergenceWarning: The max_iter was reached which means the coef_ did not converge\n",
            "  warnings.warn(\n",
            "\n"
          ]
        },
        {
          "name": "stdout",
          "output_type": "stream",
          "text": [
            " 58%|█████▊    | 29/50 [01:37<01:37,  4.66s/trial, best loss: -0.7838598962869202]"
          ]
        },
        {
          "name": "stderr",
          "output_type": "stream",
          "text": [
            "c:\\Users\\Юзер\\AppData\\Local\\Programs\\Python\\Python311\\Lib\\site-packages\\sklearn\\linear_model\\_sag.py:350: ConvergenceWarning: The max_iter was reached which means the coef_ did not converge\n",
            "  warnings.warn(\n",
            "\n"
          ]
        },
        {
          "name": "stdout",
          "output_type": "stream",
          "text": [
            " 62%|██████▏   | 31/50 [01:43<01:13,  3.86s/trial, best loss: -0.7838598962869202]"
          ]
        },
        {
          "name": "stderr",
          "output_type": "stream",
          "text": [
            "c:\\Users\\Юзер\\AppData\\Local\\Programs\\Python\\Python311\\Lib\\site-packages\\sklearn\\linear_model\\_sag.py:350: ConvergenceWarning: The max_iter was reached which means the coef_ did not converge\n",
            "  warnings.warn(\n",
            "\n"
          ]
        },
        {
          "name": "stdout",
          "output_type": "stream",
          "text": [
            " 64%|██████▍   | 32/50 [01:48<01:14,  4.14s/trial, best loss: -0.7838598962869202]"
          ]
        },
        {
          "name": "stderr",
          "output_type": "stream",
          "text": [
            "c:\\Users\\Юзер\\AppData\\Local\\Programs\\Python\\Python311\\Lib\\site-packages\\sklearn\\linear_model\\_sag.py:350: ConvergenceWarning: The max_iter was reached which means the coef_ did not converge\n",
            "  warnings.warn(\n",
            "\n"
          ]
        },
        {
          "name": "stdout",
          "output_type": "stream",
          "text": [
            " 66%|██████▌   | 33/50 [01:53<01:12,  4.29s/trial, best loss: -0.7838598962869202]"
          ]
        },
        {
          "name": "stderr",
          "output_type": "stream",
          "text": [
            "c:\\Users\\Юзер\\AppData\\Local\\Programs\\Python\\Python311\\Lib\\site-packages\\sklearn\\linear_model\\_sag.py:350: ConvergenceWarning: The max_iter was reached which means the coef_ did not converge\n",
            "  warnings.warn(\n",
            "\n"
          ]
        },
        {
          "name": "stdout",
          "output_type": "stream",
          "text": [
            " 68%|██████▊   | 34/50 [01:57<01:10,  4.38s/trial, best loss: -0.7838598962869202]"
          ]
        },
        {
          "name": "stderr",
          "output_type": "stream",
          "text": [
            "c:\\Users\\Юзер\\AppData\\Local\\Programs\\Python\\Python311\\Lib\\site-packages\\sklearn\\linear_model\\_sag.py:350: ConvergenceWarning: The max_iter was reached which means the coef_ did not converge\n",
            "  warnings.warn(\n",
            "\n"
          ]
        },
        {
          "name": "stdout",
          "output_type": "stream",
          "text": [
            " 70%|███████   | 35/50 [02:01<01:02,  4.15s/trial, best loss: -0.7838598962869202]"
          ]
        },
        {
          "name": "stderr",
          "output_type": "stream",
          "text": [
            "c:\\Users\\Юзер\\AppData\\Local\\Programs\\Python\\Python311\\Lib\\site-packages\\sklearn\\linear_model\\_sag.py:350: ConvergenceWarning: The max_iter was reached which means the coef_ did not converge\n",
            "  warnings.warn(\n",
            "\n"
          ]
        },
        {
          "name": "stdout",
          "output_type": "stream",
          "text": [
            " 74%|███████▍  | 37/50 [02:06<00:41,  3.17s/trial, best loss: -0.7838598962869202]"
          ]
        },
        {
          "name": "stderr",
          "output_type": "stream",
          "text": [
            "c:\\Users\\Юзер\\AppData\\Local\\Programs\\Python\\Python311\\Lib\\site-packages\\sklearn\\linear_model\\_sag.py:350: ConvergenceWarning: The max_iter was reached which means the coef_ did not converge\n",
            "  warnings.warn(\n",
            "\n"
          ]
        },
        {
          "name": "stdout",
          "output_type": "stream",
          "text": [
            " 76%|███████▌  | 38/50 [02:10<00:39,  3.28s/trial, best loss: -0.7838598962869202]"
          ]
        },
        {
          "name": "stderr",
          "output_type": "stream",
          "text": [
            "c:\\Users\\Юзер\\AppData\\Local\\Programs\\Python\\Python311\\Lib\\site-packages\\sklearn\\linear_model\\_sag.py:350: ConvergenceWarning: The max_iter was reached which means the coef_ did not converge\n",
            "  warnings.warn(\n",
            "\n"
          ]
        },
        {
          "name": "stdout",
          "output_type": "stream",
          "text": [
            " 80%|████████  | 40/50 [02:15<00:27,  2.73s/trial, best loss: -0.7838598962869202]"
          ]
        },
        {
          "name": "stderr",
          "output_type": "stream",
          "text": [
            "c:\\Users\\Юзер\\AppData\\Local\\Programs\\Python\\Python311\\Lib\\site-packages\\sklearn\\linear_model\\_sag.py:350: ConvergenceWarning: The max_iter was reached which means the coef_ did not converge\n",
            "  warnings.warn(\n",
            "\n"
          ]
        },
        {
          "name": "stdout",
          "output_type": "stream",
          "text": [
            " 84%|████████▍ | 42/50 [02:20<00:19,  2.43s/trial, best loss: -0.7838598962869202]"
          ]
        },
        {
          "name": "stderr",
          "output_type": "stream",
          "text": [
            "c:\\Users\\Юзер\\AppData\\Local\\Programs\\Python\\Python311\\Lib\\site-packages\\sklearn\\linear_model\\_sag.py:350: ConvergenceWarning: The max_iter was reached which means the coef_ did not converge\n",
            "  warnings.warn(\n",
            "\n"
          ]
        },
        {
          "name": "stdout",
          "output_type": "stream",
          "text": [
            " 86%|████████▌ | 43/50 [02:23<00:19,  2.80s/trial, best loss: -0.7838598962869202]"
          ]
        },
        {
          "name": "stderr",
          "output_type": "stream",
          "text": [
            "c:\\Users\\Юзер\\AppData\\Local\\Programs\\Python\\Python311\\Lib\\site-packages\\sklearn\\linear_model\\_sag.py:350: ConvergenceWarning: The max_iter was reached which means the coef_ did not converge\n",
            "  warnings.warn(\n",
            "\n"
          ]
        },
        {
          "name": "stdout",
          "output_type": "stream",
          "text": [
            " 90%|█████████ | 45/50 [02:29<00:13,  2.66s/trial, best loss: -0.7838598962869202]"
          ]
        },
        {
          "name": "stderr",
          "output_type": "stream",
          "text": [
            "c:\\Users\\Юзер\\AppData\\Local\\Programs\\Python\\Python311\\Lib\\site-packages\\sklearn\\linear_model\\_sag.py:350: ConvergenceWarning: The max_iter was reached which means the coef_ did not converge\n",
            "  warnings.warn(\n",
            "\n"
          ]
        },
        {
          "name": "stdout",
          "output_type": "stream",
          "text": [
            " 92%|█████████▏| 46/50 [02:33<00:11,  2.96s/trial, best loss: -0.7838598962869202]"
          ]
        },
        {
          "name": "stderr",
          "output_type": "stream",
          "text": [
            "c:\\Users\\Юзер\\AppData\\Local\\Programs\\Python\\Python311\\Lib\\site-packages\\sklearn\\linear_model\\_sag.py:350: ConvergenceWarning: The max_iter was reached which means the coef_ did not converge\n",
            "  warnings.warn(\n",
            "\n"
          ]
        },
        {
          "name": "stdout",
          "output_type": "stream",
          "text": [
            " 96%|█████████▌| 48/50 [02:38<00:05,  2.55s/trial, best loss: -0.7838598962869202]"
          ]
        },
        {
          "name": "stderr",
          "output_type": "stream",
          "text": [
            "c:\\Users\\Юзер\\AppData\\Local\\Programs\\Python\\Python311\\Lib\\site-packages\\sklearn\\linear_model\\_sag.py:350: ConvergenceWarning: The max_iter was reached which means the coef_ did not converge\n",
            "  warnings.warn(\n",
            "\n"
          ]
        },
        {
          "name": "stdout",
          "output_type": "stream",
          "text": [
            " 98%|█████████▊| 49/50 [02:41<00:02,  2.86s/trial, best loss: -0.7838598962869202]"
          ]
        },
        {
          "name": "stderr",
          "output_type": "stream",
          "text": [
            "c:\\Users\\Юзер\\AppData\\Local\\Programs\\Python\\Python311\\Lib\\site-packages\\sklearn\\linear_model\\_sag.py:350: ConvergenceWarning: The max_iter was reached which means the coef_ did not converge\n",
            "  warnings.warn(\n",
            "\n"
          ]
        },
        {
          "name": "stdout",
          "output_type": "stream",
          "text": [
            "100%|██████████| 50/50 [02:46<00:00,  3.33s/trial, best loss: -0.7838598962869202]\n",
            "CPU times: total: 1min 20s\n",
            "Wall time: 2min 48s\n"
          ]
        },
        {
          "name": "stderr",
          "output_type": "stream",
          "text": [
            "c:\\Users\\Юзер\\AppData\\Local\\Programs\\Python\\Python311\\Lib\\site-packages\\sklearn\\linear_model\\_sag.py:350: ConvergenceWarning: The max_iter was reached which means the coef_ did not converge\n",
            "  warnings.warn(\n"
          ]
        },
        {
          "data": {
            "text/html": [
              "<style>#sk-container-id-2 {color: black;background-color: white;}#sk-container-id-2 pre{padding: 0;}#sk-container-id-2 div.sk-toggleable {background-color: white;}#sk-container-id-2 label.sk-toggleable__label {cursor: pointer;display: block;width: 100%;margin-bottom: 0;padding: 0.3em;box-sizing: border-box;text-align: center;}#sk-container-id-2 label.sk-toggleable__label-arrow:before {content: \"▸\";float: left;margin-right: 0.25em;color: #696969;}#sk-container-id-2 label.sk-toggleable__label-arrow:hover:before {color: black;}#sk-container-id-2 div.sk-estimator:hover label.sk-toggleable__label-arrow:before {color: black;}#sk-container-id-2 div.sk-toggleable__content {max-height: 0;max-width: 0;overflow: hidden;text-align: left;background-color: #f0f8ff;}#sk-container-id-2 div.sk-toggleable__content pre {margin: 0.2em;color: black;border-radius: 0.25em;background-color: #f0f8ff;}#sk-container-id-2 input.sk-toggleable__control:checked~div.sk-toggleable__content {max-height: 200px;max-width: 100%;overflow: auto;}#sk-container-id-2 input.sk-toggleable__control:checked~label.sk-toggleable__label-arrow:before {content: \"▾\";}#sk-container-id-2 div.sk-estimator input.sk-toggleable__control:checked~label.sk-toggleable__label {background-color: #d4ebff;}#sk-container-id-2 div.sk-label input.sk-toggleable__control:checked~label.sk-toggleable__label {background-color: #d4ebff;}#sk-container-id-2 input.sk-hidden--visually {border: 0;clip: rect(1px 1px 1px 1px);clip: rect(1px, 1px, 1px, 1px);height: 1px;margin: -1px;overflow: hidden;padding: 0;position: absolute;width: 1px;}#sk-container-id-2 div.sk-estimator {font-family: monospace;background-color: #f0f8ff;border: 1px dotted black;border-radius: 0.25em;box-sizing: border-box;margin-bottom: 0.5em;}#sk-container-id-2 div.sk-estimator:hover {background-color: #d4ebff;}#sk-container-id-2 div.sk-parallel-item::after {content: \"\";width: 100%;border-bottom: 1px solid gray;flex-grow: 1;}#sk-container-id-2 div.sk-label:hover label.sk-toggleable__label {background-color: #d4ebff;}#sk-container-id-2 div.sk-serial::before {content: \"\";position: absolute;border-left: 1px solid gray;box-sizing: border-box;top: 0;bottom: 0;left: 50%;z-index: 0;}#sk-container-id-2 div.sk-serial {display: flex;flex-direction: column;align-items: center;background-color: white;padding-right: 0.2em;padding-left: 0.2em;position: relative;}#sk-container-id-2 div.sk-item {position: relative;z-index: 1;}#sk-container-id-2 div.sk-parallel {display: flex;align-items: stretch;justify-content: center;background-color: white;position: relative;}#sk-container-id-2 div.sk-item::before, #sk-container-id-2 div.sk-parallel-item::before {content: \"\";position: absolute;border-left: 1px solid gray;box-sizing: border-box;top: 0;bottom: 0;left: 50%;z-index: -1;}#sk-container-id-2 div.sk-parallel-item {display: flex;flex-direction: column;z-index: 1;position: relative;background-color: white;}#sk-container-id-2 div.sk-parallel-item:first-child::after {align-self: flex-end;width: 50%;}#sk-container-id-2 div.sk-parallel-item:last-child::after {align-self: flex-start;width: 50%;}#sk-container-id-2 div.sk-parallel-item:only-child::after {width: 0;}#sk-container-id-2 div.sk-dashed-wrapped {border: 1px dashed gray;margin: 0 0.4em 0.5em 0.4em;box-sizing: border-box;padding-bottom: 0.4em;background-color: white;}#sk-container-id-2 div.sk-label label {font-family: monospace;font-weight: bold;display: inline-block;line-height: 1.2em;}#sk-container-id-2 div.sk-label-container {text-align: center;}#sk-container-id-2 div.sk-container {/* jupyter's `normalize.less` sets `[hidden] { display: none; }` but bootstrap.min.css set `[hidden] { display: none !important; }` so we also need the `!important` here to be able to override the default hidden behavior on the sphinx rendered scikit-learn.org. See: https://github.com/scikit-learn/scikit-learn/issues/21755 */display: inline-block !important;position: relative;}#sk-container-id-2 div.sk-text-repr-fallback {display: none;}</style><div id=\"sk-container-id-2\" class=\"sk-top-container\"><div class=\"sk-text-repr-fallback\"><pre>LogisticRegression(C=0.11, max_iter=50, penalty=&#x27;l1&#x27;, random_state=42,\n",
              "                   solver=&#x27;saga&#x27;)</pre><b>In a Jupyter environment, please rerun this cell to show the HTML representation or trust the notebook. <br />On GitHub, the HTML representation is unable to render, please try loading this page with nbviewer.org.</b></div><div class=\"sk-container\" hidden><div class=\"sk-item\"><div class=\"sk-estimator sk-toggleable\"><input class=\"sk-toggleable__control sk-hidden--visually\" id=\"sk-estimator-id-2\" type=\"checkbox\" checked><label for=\"sk-estimator-id-2\" class=\"sk-toggleable__label sk-toggleable__label-arrow\">LogisticRegression</label><div class=\"sk-toggleable__content\"><pre>LogisticRegression(C=0.11, max_iter=50, penalty=&#x27;l1&#x27;, random_state=42,\n",
              "                   solver=&#x27;saga&#x27;)</pre></div></div></div></div></div>"
            ],
            "text/plain": [
              "LogisticRegression(C=0.11, max_iter=50, penalty='l1', random_state=42,\n",
              "                   solver='saga')"
            ]
          },
          "execution_count": 17,
          "metadata": {},
          "output_type": "execute_result"
        }
      ],
      "source": [
        "%%time\n",
        "# начинаем подбор гиперпараметров\n",
        "trials = Trials() # используется для логирования результатов\n",
        "best_2 = fmin(hyperopt_lr, # наша функция\n",
        "          space=space_2, # пространство гиперпараметров\n",
        "          algo=tpe.suggest, # алгоритм оптимизации, установлен по умолчанию, задавать необязательно\n",
        "          max_evals=50, # максимальное количество итераций\n",
        "          trials=trials, # логирование результатов\n",
        "          rstate=np.random.default_rng(random_state)# фиксируем для повторяемости результата\n",
        "         )\n",
        "\n",
        "# построим и обучим модель с лучшими гиперпараметрами\n",
        "model_lr_hyper_2 = linear_model.LogisticRegression(\n",
        "    penalty=space_eval(space_2, best_2)['penalty'],\n",
        "        solver=space_eval(space_2, best_2)['solver'],\n",
        "        C=float(best_2['C']),\n",
        "        random_state=random_state,\n",
        "        max_iter=50\n",
        ")\n",
        "model_lr_hyper_2.fit(X_train, y_train)"
      ]
    },
    {
      "cell_type": "code",
      "execution_count": 18,
      "id": "7d7bcd3b",
      "metadata": {
        "id": "7d7bcd3b"
      },
      "outputs": [
        {
          "name": "stdout",
          "output_type": "stream",
          "text": [
            "Наилучшие значения гиперпараметров_1 {'C': 0.02, 'penalty': 'l2', 'solver': 'lbfgs'}\n",
            "F1_Train: 0.83\n",
            "F1_Test: 0.79\n",
            "Наилучшие значения гиперпараметров_2 {'C': 0.11, 'penalty': 'l1', 'solver': 'saga'}\n",
            "F1_Train: 0.81\n",
            "F1_Test: 0.78\n"
          ]
        }
      ],
      "source": [
        "# выведем наилучшие значения гиперпараметров и метрики\n",
        "print(f'Наилучшие значения гиперпараметров_1 {space_eval(space_1, best_1)}')\n",
        "\n",
        "y_train_pred = model_lr_hyper_1.predict(X_train)\n",
        "print('F1_Train: {:.2f}'.format(metrics.f1_score(y_train, y_train_pred)))\n",
        "y_test_pred = model_lr_hyper_1.predict(X_test)\n",
        "print('F1_Test: {:.2f}'.format(metrics.f1_score(y_test, y_test_pred)))\n",
        "\n",
        "print(f'Наилучшие значения гиперпараметров_2 {space_eval(space_2, best_2)}')\n",
        "\n",
        "y_train_pred = model_lr_hyper_2.predict(X_train)\n",
        "print('F1_Train: {:.2f}'.format(metrics.f1_score(y_train, y_train_pred)))\n",
        "y_test_pred = model_lr_hyper_2.predict(X_test)\n",
        "print('F1_Test: {:.2f}'.format(metrics.f1_score(y_test, y_test_pred)))"
      ]
    },
    {
      "attachments": {},
      "cell_type": "markdown",
      "id": "b4jMl4glJp_M",
      "metadata": {
        "id": "b4jMl4glJp_M"
      },
      "source": [
        "#### *Случайный лес*"
      ]
    },
    {
      "cell_type": "code",
      "execution_count": 19,
      "id": "Jj4rsvIseDjy",
      "metadata": {
        "id": "Jj4rsvIseDjy"
      },
      "outputs": [],
      "source": [
        "# зададим пространство поиска гиперпараметров\n",
        "space={'n_estimators': hp.quniform('n_estimators', 10, 200, 20),\n",
        "       'max_depth' : hp.quniform('max_depth', 10, 40, 5),\n",
        "       'min_samples_leaf': hp.quniform('min_samples_leaf', 3, 7, 2)\n",
        "      }\n",
        "# зафиксируем random_state\n",
        "random_state =42\n",
        "def hyperopt_rf(params, cv=5, X=X_train, y=y_train, random_state=random_state):\n",
        "    # функция получает комбинацию гиперпараметров в \"params\"\n",
        "    params = {'n_estimators': int(params['n_estimators']),\n",
        "              'max_depth': int(params['max_depth']),\n",
        "              'min_samples_leaf': int(params['min_samples_leaf'])\n",
        "              }\n",
        "    # используем эту комбинацию для построения модели\n",
        "    model = ensemble.RandomForestClassifier(**params, random_state=random_state)\n",
        "\n",
        "    # обучаем модель\n",
        "    model.fit(X, y)\n",
        "\n",
        "    # обучать модель можно также с помощью кросс-валидации\n",
        "    # применим  cross validation с тем же количеством фолдов\n",
        "    score = cross_val_score(model, X, y, cv=cv, scoring=\"f1\", n_jobs=-1).mean()\n",
        "\n",
        "    # метрику необходимо минимизировать, поэтому ставим знак минус\n",
        "    return -score"
      ]
    },
    {
      "cell_type": "code",
      "execution_count": 20,
      "id": "fb626c8a",
      "metadata": {
        "id": "fb626c8a"
      },
      "outputs": [
        {
          "name": "stdout",
          "output_type": "stream",
          "text": [
            "100%|██████████| 50/50 [02:22<00:00,  2.84s/trial, best loss: -0.8097955161337937]\n",
            "CPU times: total: 1min 6s\n",
            "Wall time: 2min 24s\n"
          ]
        },
        {
          "data": {
            "text/html": [
              "<style>#sk-container-id-3 {color: black;background-color: white;}#sk-container-id-3 pre{padding: 0;}#sk-container-id-3 div.sk-toggleable {background-color: white;}#sk-container-id-3 label.sk-toggleable__label {cursor: pointer;display: block;width: 100%;margin-bottom: 0;padding: 0.3em;box-sizing: border-box;text-align: center;}#sk-container-id-3 label.sk-toggleable__label-arrow:before {content: \"▸\";float: left;margin-right: 0.25em;color: #696969;}#sk-container-id-3 label.sk-toggleable__label-arrow:hover:before {color: black;}#sk-container-id-3 div.sk-estimator:hover label.sk-toggleable__label-arrow:before {color: black;}#sk-container-id-3 div.sk-toggleable__content {max-height: 0;max-width: 0;overflow: hidden;text-align: left;background-color: #f0f8ff;}#sk-container-id-3 div.sk-toggleable__content pre {margin: 0.2em;color: black;border-radius: 0.25em;background-color: #f0f8ff;}#sk-container-id-3 input.sk-toggleable__control:checked~div.sk-toggleable__content {max-height: 200px;max-width: 100%;overflow: auto;}#sk-container-id-3 input.sk-toggleable__control:checked~label.sk-toggleable__label-arrow:before {content: \"▾\";}#sk-container-id-3 div.sk-estimator input.sk-toggleable__control:checked~label.sk-toggleable__label {background-color: #d4ebff;}#sk-container-id-3 div.sk-label input.sk-toggleable__control:checked~label.sk-toggleable__label {background-color: #d4ebff;}#sk-container-id-3 input.sk-hidden--visually {border: 0;clip: rect(1px 1px 1px 1px);clip: rect(1px, 1px, 1px, 1px);height: 1px;margin: -1px;overflow: hidden;padding: 0;position: absolute;width: 1px;}#sk-container-id-3 div.sk-estimator {font-family: monospace;background-color: #f0f8ff;border: 1px dotted black;border-radius: 0.25em;box-sizing: border-box;margin-bottom: 0.5em;}#sk-container-id-3 div.sk-estimator:hover {background-color: #d4ebff;}#sk-container-id-3 div.sk-parallel-item::after {content: \"\";width: 100%;border-bottom: 1px solid gray;flex-grow: 1;}#sk-container-id-3 div.sk-label:hover label.sk-toggleable__label {background-color: #d4ebff;}#sk-container-id-3 div.sk-serial::before {content: \"\";position: absolute;border-left: 1px solid gray;box-sizing: border-box;top: 0;bottom: 0;left: 50%;z-index: 0;}#sk-container-id-3 div.sk-serial {display: flex;flex-direction: column;align-items: center;background-color: white;padding-right: 0.2em;padding-left: 0.2em;position: relative;}#sk-container-id-3 div.sk-item {position: relative;z-index: 1;}#sk-container-id-3 div.sk-parallel {display: flex;align-items: stretch;justify-content: center;background-color: white;position: relative;}#sk-container-id-3 div.sk-item::before, #sk-container-id-3 div.sk-parallel-item::before {content: \"\";position: absolute;border-left: 1px solid gray;box-sizing: border-box;top: 0;bottom: 0;left: 50%;z-index: -1;}#sk-container-id-3 div.sk-parallel-item {display: flex;flex-direction: column;z-index: 1;position: relative;background-color: white;}#sk-container-id-3 div.sk-parallel-item:first-child::after {align-self: flex-end;width: 50%;}#sk-container-id-3 div.sk-parallel-item:last-child::after {align-self: flex-start;width: 50%;}#sk-container-id-3 div.sk-parallel-item:only-child::after {width: 0;}#sk-container-id-3 div.sk-dashed-wrapped {border: 1px dashed gray;margin: 0 0.4em 0.5em 0.4em;box-sizing: border-box;padding-bottom: 0.4em;background-color: white;}#sk-container-id-3 div.sk-label label {font-family: monospace;font-weight: bold;display: inline-block;line-height: 1.2em;}#sk-container-id-3 div.sk-label-container {text-align: center;}#sk-container-id-3 div.sk-container {/* jupyter's `normalize.less` sets `[hidden] { display: none; }` but bootstrap.min.css set `[hidden] { display: none !important; }` so we also need the `!important` here to be able to override the default hidden behavior on the sphinx rendered scikit-learn.org. See: https://github.com/scikit-learn/scikit-learn/issues/21755 */display: inline-block !important;position: relative;}#sk-container-id-3 div.sk-text-repr-fallback {display: none;}</style><div id=\"sk-container-id-3\" class=\"sk-top-container\"><div class=\"sk-text-repr-fallback\"><pre>RandomForestClassifier(max_depth=15, min_samples_leaf=4, n_estimators=200,\n",
              "                       random_state=42)</pre><b>In a Jupyter environment, please rerun this cell to show the HTML representation or trust the notebook. <br />On GitHub, the HTML representation is unable to render, please try loading this page with nbviewer.org.</b></div><div class=\"sk-container\" hidden><div class=\"sk-item\"><div class=\"sk-estimator sk-toggleable\"><input class=\"sk-toggleable__control sk-hidden--visually\" id=\"sk-estimator-id-3\" type=\"checkbox\" checked><label for=\"sk-estimator-id-3\" class=\"sk-toggleable__label sk-toggleable__label-arrow\">RandomForestClassifier</label><div class=\"sk-toggleable__content\"><pre>RandomForestClassifier(max_depth=15, min_samples_leaf=4, n_estimators=200,\n",
              "                       random_state=42)</pre></div></div></div></div></div>"
            ],
            "text/plain": [
              "RandomForestClassifier(max_depth=15, min_samples_leaf=4, n_estimators=200,\n",
              "                       random_state=42)"
            ]
          },
          "execution_count": 20,
          "metadata": {},
          "output_type": "execute_result"
        }
      ],
      "source": [
        "%%time\n",
        "# начинаем подбор гиперпараметров\n",
        "trials = Trials() # используется для логирования результатов\n",
        "best = fmin(hyperopt_rf, # наша функция\n",
        "          space=space, # пространство гиперпараметров\n",
        "          algo=tpe.suggest, # алгоритм оптимизации, установлен по умолчанию, задавать необязательно\n",
        "          max_evals=50, # максимальное количество итераций\n",
        "          trials=trials, # логирование результатов\n",
        "          rstate=np.random.default_rng(random_state)# фиксируем для повторяемости результата\n",
        "         )\n",
        "\n",
        "# построим и обучим модель с лучшими гиперпараметрами\n",
        "model_forest_hyper = ensemble.RandomForestClassifier(\n",
        "    random_state=random_state,\n",
        "    n_estimators=int(best['n_estimators']),\n",
        "    max_depth=int(best['max_depth']),\n",
        "    min_samples_leaf=int(best['min_samples_leaf'])\n",
        ")\n",
        "model_forest_hyper.fit(X_train, y_train)"
      ]
    },
    {
      "cell_type": "code",
      "execution_count": 21,
      "id": "8ad642db",
      "metadata": {
        "id": "8ad642db"
      },
      "outputs": [
        {
          "name": "stdout",
          "output_type": "stream",
          "text": [
            "Наилучшие значения гиперпараметров {'max_depth': 15.0, 'min_samples_leaf': 4.0, 'n_estimators': 200.0}\n",
            "F1_Train: 0.95\n",
            "F1_Test: 0.83\n"
          ]
        }
      ],
      "source": [
        "# выведем наилучшие значения гиперпараметров и метрики\n",
        "print(\"Наилучшие значения гиперпараметров {}\".format(best))\n",
        "\n",
        "y_train_pred = model_forest_hyper.predict(X_train)\n",
        "print('F1_Train: {:.2f}'.format(metrics.f1_score(y_train, y_train_pred)))\n",
        "y_test_pred = model_forest_hyper.predict(X_test)\n",
        "print('F1_Test: {:.2f}'.format(metrics.f1_score(y_test, y_test_pred)))"
      ]
    },
    {
      "attachments": {},
      "cell_type": "markdown",
      "id": "b8734d51-d5d5-4424-b8a3-b341dde985b5",
      "metadata": {
        "id": "b8734d51-d5d5-4424-b8a3-b341dde985b5"
      },
      "source": [
        "### **4. Optuna**"
      ]
    },
    {
      "cell_type": "code",
      "execution_count": 22,
      "id": "CQL0pyNGqQgR",
      "metadata": {
        "id": "CQL0pyNGqQgR"
      },
      "outputs": [
        {
          "name": "stdout",
          "output_type": "stream",
          "text": [
            "Версия Optuna: 3.3.0\n"
          ]
        }
      ],
      "source": [
        "import optuna\n",
        "print(\"Версия Optuna: {}\".format(optuna.__version__))"
      ]
    },
    {
      "attachments": {},
      "cell_type": "markdown",
      "id": "651e4d8c",
      "metadata": {
        "id": "651e4d8c"
      },
      "source": [
        "#### *Логистическая регрессия*"
      ]
    },
    {
      "cell_type": "code",
      "execution_count": 23,
      "id": "5b276240",
      "metadata": {
        "id": "5b276240"
      },
      "outputs": [],
      "source": [
        "# Настроим оптимизацию гиперпараметров для логистической регрессии с параметрами №1\n",
        "def optuna_lr_1(trial):\n",
        "  # задаем пространства поиска гиперпараметров\n",
        "  penalty = trial.suggest_categorical('penalty', ['l2', 'none'])\n",
        "  solver = trial.suggest_categorical('solver', ['lbfgs', 'newton-cg', 'sag'])\n",
        "  C = trial.suggest_float(\"C\", 0.01, 1, step=0.01)\n",
        "\n",
        "  # Создаём модель МО, передаём ей данные и оцениваем её на основе выбранной метрики\n",
        "  model = linear_model.LogisticRegression(penalty=penalty,\n",
        "                                          solver=solver,\n",
        "                                          C=C,\n",
        "                                          random_state=random_state,\n",
        "                                          max_iter=50)\n",
        "  # обучаем модель\n",
        "  model.fit(X_train, y_train)\n",
        "  # применим cross validation\n",
        "  score = cross_val_score(model, X_train, y_train, cv=5, scoring=\"f1\", n_jobs=-1).mean()\n",
        "\n",
        "  return score"
      ]
    },
    {
      "cell_type": "code",
      "execution_count": 24,
      "id": "4e031375",
      "metadata": {
        "id": "4e031375"
      },
      "outputs": [
        {
          "name": "stderr",
          "output_type": "stream",
          "text": [
            "[I 2023-09-03 21:36:08,623] A new study created in memory with name: LogisticRegression\n",
            "c:\\Users\\Юзер\\AppData\\Local\\Programs\\Python\\Python311\\Lib\\site-packages\\sklearn\\linear_model\\_logistic.py:1173: FutureWarning: `penalty='none'`has been deprecated in 1.2 and will be removed in 1.4. To keep the past behaviour, set `penalty=None`.\n",
            "  warnings.warn(\n",
            "c:\\Users\\Юзер\\AppData\\Local\\Programs\\Python\\Python311\\Lib\\site-packages\\sklearn\\linear_model\\_logistic.py:1181: UserWarning: Setting penalty=None will ignore the C and l1_ratio parameters\n",
            "  warnings.warn(\n",
            "c:\\Users\\Юзер\\AppData\\Local\\Programs\\Python\\Python311\\Lib\\site-packages\\sklearn\\linear_model\\_sag.py:350: ConvergenceWarning: The max_iter was reached which means the coef_ did not converge\n",
            "  warnings.warn(\n",
            "[I 2023-09-03 21:36:12,127] Trial 0 finished with value: 0.7683043585976091 and parameters: {'penalty': 'none', 'solver': 'sag', 'C': 0.65}. Best is trial 0 with value: 0.7683043585976091.\n",
            "c:\\Users\\Юзер\\AppData\\Local\\Programs\\Python\\Python311\\Lib\\site-packages\\sklearn\\linear_model\\_sag.py:350: ConvergenceWarning: The max_iter was reached which means the coef_ did not converge\n",
            "  warnings.warn(\n",
            "[I 2023-09-03 21:36:15,443] Trial 1 finished with value: 0.7807790030608667 and parameters: {'penalty': 'l2', 'solver': 'sag', 'C': 0.29000000000000004}. Best is trial 1 with value: 0.7807790030608667.\n",
            "c:\\Users\\Юзер\\AppData\\Local\\Programs\\Python\\Python311\\Lib\\site-packages\\sklearn\\linear_model\\_logistic.py:458: ConvergenceWarning: lbfgs failed to converge (status=1):\n",
            "STOP: TOTAL NO. of ITERATIONS REACHED LIMIT.\n",
            "\n",
            "Increase the number of iterations (max_iter) or scale the data as shown in:\n",
            "    https://scikit-learn.org/stable/modules/preprocessing.html\n",
            "Please also refer to the documentation for alternative solver options:\n",
            "    https://scikit-learn.org/stable/modules/linear_model.html#logistic-regression\n",
            "  n_iter_i = _check_optimize_result(\n",
            "[I 2023-09-03 21:36:16,479] Trial 2 finished with value: 0.780332384958039 and parameters: {'penalty': 'l2', 'solver': 'lbfgs', 'C': 0.17}. Best is trial 1 with value: 0.7807790030608667.\n",
            "[I 2023-09-03 21:36:21,509] Trial 3 finished with value: 0.7764314819547105 and parameters: {'penalty': 'l2', 'solver': 'newton-cg', 'C': 0.44}. Best is trial 1 with value: 0.7807790030608667.\n",
            "c:\\Users\\Юзер\\AppData\\Local\\Programs\\Python\\Python311\\Lib\\site-packages\\sklearn\\linear_model\\_logistic.py:1173: FutureWarning: `penalty='none'`has been deprecated in 1.2 and will be removed in 1.4. To keep the past behaviour, set `penalty=None`.\n",
            "  warnings.warn(\n",
            "c:\\Users\\Юзер\\AppData\\Local\\Programs\\Python\\Python311\\Lib\\site-packages\\sklearn\\linear_model\\_logistic.py:1181: UserWarning: Setting penalty=None will ignore the C and l1_ratio parameters\n",
            "  warnings.warn(\n",
            "c:\\Users\\Юзер\\AppData\\Local\\Programs\\Python\\Python311\\Lib\\site-packages\\scipy\\optimize\\_linesearch.py:305: LineSearchWarning: The line search algorithm did not converge\n",
            "  warn('The line search algorithm did not converge', LineSearchWarning)\n",
            "c:\\Users\\Юзер\\AppData\\Local\\Programs\\Python\\Python311\\Lib\\site-packages\\sklearn\\utils\\optimize.py:203: UserWarning: Line Search failed\n",
            "  warnings.warn(\"Line Search failed\")\n",
            "[I 2023-09-03 21:36:59,038] Trial 4 finished with value: 0.7025312587703303 and parameters: {'penalty': 'none', 'solver': 'newton-cg', 'C': 0.7000000000000001}. Best is trial 1 with value: 0.7807790030608667.\n",
            "c:\\Users\\Юзер\\AppData\\Local\\Programs\\Python\\Python311\\Lib\\site-packages\\sklearn\\linear_model\\_logistic.py:1173: FutureWarning: `penalty='none'`has been deprecated in 1.2 and will be removed in 1.4. To keep the past behaviour, set `penalty=None`.\n",
            "  warnings.warn(\n",
            "c:\\Users\\Юзер\\AppData\\Local\\Programs\\Python\\Python311\\Lib\\site-packages\\sklearn\\linear_model\\_logistic.py:1181: UserWarning: Setting penalty=None will ignore the C and l1_ratio parameters\n",
            "  warnings.warn(\n",
            "c:\\Users\\Юзер\\AppData\\Local\\Programs\\Python\\Python311\\Lib\\site-packages\\scipy\\optimize\\_linesearch.py:305: LineSearchWarning: The line search algorithm did not converge\n",
            "  warn('The line search algorithm did not converge', LineSearchWarning)\n",
            "c:\\Users\\Юзер\\AppData\\Local\\Programs\\Python\\Python311\\Lib\\site-packages\\sklearn\\utils\\optimize.py:203: UserWarning: Line Search failed\n",
            "  warnings.warn(\"Line Search failed\")\n",
            "[I 2023-09-03 21:37:36,760] Trial 5 finished with value: 0.7025312587703303 and parameters: {'penalty': 'none', 'solver': 'newton-cg', 'C': 0.09999999999999999}. Best is trial 1 with value: 0.7807790030608667.\n",
            "[I 2023-09-03 21:37:42,335] Trial 6 finished with value: 0.7715387392293946 and parameters: {'penalty': 'l2', 'solver': 'newton-cg', 'C': 0.63}. Best is trial 1 with value: 0.7807790030608667.\n",
            "[I 2023-09-03 21:37:48,265] Trial 7 finished with value: 0.7701939782363431 and parameters: {'penalty': 'l2', 'solver': 'newton-cg', 'C': 0.76}. Best is trial 1 with value: 0.7807790030608667.\n",
            "c:\\Users\\Юзер\\AppData\\Local\\Programs\\Python\\Python311\\Lib\\site-packages\\sklearn\\linear_model\\_logistic.py:1173: FutureWarning: `penalty='none'`has been deprecated in 1.2 and will be removed in 1.4. To keep the past behaviour, set `penalty=None`.\n",
            "  warnings.warn(\n",
            "c:\\Users\\Юзер\\AppData\\Local\\Programs\\Python\\Python311\\Lib\\site-packages\\sklearn\\linear_model\\_logistic.py:1181: UserWarning: Setting penalty=None will ignore the C and l1_ratio parameters\n",
            "  warnings.warn(\n",
            "c:\\Users\\Юзер\\AppData\\Local\\Programs\\Python\\Python311\\Lib\\site-packages\\sklearn\\linear_model\\_sag.py:350: ConvergenceWarning: The max_iter was reached which means the coef_ did not converge\n",
            "  warnings.warn(\n",
            "[I 2023-09-03 21:37:51,524] Trial 8 finished with value: 0.7683043585976091 and parameters: {'penalty': 'none', 'solver': 'sag', 'C': 0.13}. Best is trial 1 with value: 0.7807790030608667.\n",
            "c:\\Users\\Юзер\\AppData\\Local\\Programs\\Python\\Python311\\Lib\\site-packages\\sklearn\\linear_model\\_logistic.py:458: ConvergenceWarning: lbfgs failed to converge (status=1):\n",
            "STOP: TOTAL NO. of ITERATIONS REACHED LIMIT.\n",
            "\n",
            "Increase the number of iterations (max_iter) or scale the data as shown in:\n",
            "    https://scikit-learn.org/stable/modules/preprocessing.html\n",
            "Please also refer to the documentation for alternative solver options:\n",
            "    https://scikit-learn.org/stable/modules/linear_model.html#logistic-regression\n",
            "  n_iter_i = _check_optimize_result(\n",
            "[I 2023-09-03 21:37:52,379] Trial 9 finished with value: 0.7817131613618541 and parameters: {'penalty': 'l2', 'solver': 'lbfgs', 'C': 0.14}. Best is trial 9 with value: 0.7817131613618541.\n",
            "c:\\Users\\Юзер\\AppData\\Local\\Programs\\Python\\Python311\\Lib\\site-packages\\sklearn\\linear_model\\_logistic.py:458: ConvergenceWarning: lbfgs failed to converge (status=1):\n",
            "STOP: TOTAL NO. of ITERATIONS REACHED LIMIT.\n",
            "\n",
            "Increase the number of iterations (max_iter) or scale the data as shown in:\n",
            "    https://scikit-learn.org/stable/modules/preprocessing.html\n",
            "Please also refer to the documentation for alternative solver options:\n",
            "    https://scikit-learn.org/stable/modules/linear_model.html#logistic-regression\n",
            "  n_iter_i = _check_optimize_result(\n",
            "[I 2023-09-03 21:37:53,441] Trial 10 finished with value: 0.7693577271621133 and parameters: {'penalty': 'l2', 'solver': 'lbfgs', 'C': 0.98}. Best is trial 9 with value: 0.7817131613618541.\n",
            "c:\\Users\\Юзер\\AppData\\Local\\Programs\\Python\\Python311\\Lib\\site-packages\\sklearn\\linear_model\\_logistic.py:458: ConvergenceWarning: lbfgs failed to converge (status=1):\n",
            "STOP: TOTAL NO. of ITERATIONS REACHED LIMIT.\n",
            "\n",
            "Increase the number of iterations (max_iter) or scale the data as shown in:\n",
            "    https://scikit-learn.org/stable/modules/preprocessing.html\n",
            "Please also refer to the documentation for alternative solver options:\n",
            "    https://scikit-learn.org/stable/modules/linear_model.html#logistic-regression\n",
            "  n_iter_i = _check_optimize_result(\n",
            "[I 2023-09-03 21:37:54,493] Trial 11 finished with value: 0.7764265946067755 and parameters: {'penalty': 'l2', 'solver': 'lbfgs', 'C': 0.36000000000000004}. Best is trial 9 with value: 0.7817131613618541.\n",
            "c:\\Users\\Юзер\\AppData\\Local\\Programs\\Python\\Python311\\Lib\\site-packages\\sklearn\\linear_model\\_sag.py:350: ConvergenceWarning: The max_iter was reached which means the coef_ did not converge\n",
            "  warnings.warn(\n",
            "[I 2023-09-03 21:37:57,752] Trial 12 finished with value: 0.78019143988733 and parameters: {'penalty': 'l2', 'solver': 'sag', 'C': 0.32}. Best is trial 9 with value: 0.7817131613618541.\n",
            "c:\\Users\\Юзер\\AppData\\Local\\Programs\\Python\\Python311\\Lib\\site-packages\\sklearn\\linear_model\\_logistic.py:458: ConvergenceWarning: lbfgs failed to converge (status=1):\n",
            "STOP: TOTAL NO. of ITERATIONS REACHED LIMIT.\n",
            "\n",
            "Increase the number of iterations (max_iter) or scale the data as shown in:\n",
            "    https://scikit-learn.org/stable/modules/preprocessing.html\n",
            "Please also refer to the documentation for alternative solver options:\n",
            "    https://scikit-learn.org/stable/modules/linear_model.html#logistic-regression\n",
            "  n_iter_i = _check_optimize_result(\n",
            "[I 2023-09-03 21:37:58,598] Trial 13 finished with value: 0.7795077882537711 and parameters: {'penalty': 'l2', 'solver': 'lbfgs', 'C': 0.26}. Best is trial 9 with value: 0.7817131613618541.\n",
            "c:\\Users\\Юзер\\AppData\\Local\\Programs\\Python\\Python311\\Lib\\site-packages\\sklearn\\linear_model\\_sag.py:350: ConvergenceWarning: The max_iter was reached which means the coef_ did not converge\n",
            "  warnings.warn(\n",
            "[I 2023-09-03 21:38:01,916] Trial 14 finished with value: 0.7843404423441448 and parameters: {'penalty': 'l2', 'solver': 'sag', 'C': 0.03}. Best is trial 14 with value: 0.7843404423441448.\n",
            "c:\\Users\\Юзер\\AppData\\Local\\Programs\\Python\\Python311\\Lib\\site-packages\\sklearn\\linear_model\\_logistic.py:458: ConvergenceWarning: lbfgs failed to converge (status=1):\n",
            "STOP: TOTAL NO. of ITERATIONS REACHED LIMIT.\n",
            "\n",
            "Increase the number of iterations (max_iter) or scale the data as shown in:\n",
            "    https://scikit-learn.org/stable/modules/preprocessing.html\n",
            "Please also refer to the documentation for alternative solver options:\n",
            "    https://scikit-learn.org/stable/modules/linear_model.html#logistic-regression\n",
            "  n_iter_i = _check_optimize_result(\n",
            "[I 2023-09-03 21:38:02,767] Trial 15 finished with value: 0.7789304450511446 and parameters: {'penalty': 'l2', 'solver': 'lbfgs', 'C': 0.01}. Best is trial 14 with value: 0.7843404423441448.\n",
            "c:\\Users\\Юзер\\AppData\\Local\\Programs\\Python\\Python311\\Lib\\site-packages\\sklearn\\linear_model\\_sag.py:350: ConvergenceWarning: The max_iter was reached which means the coef_ did not converge\n",
            "  warnings.warn(\n",
            "[I 2023-09-03 21:38:06,042] Trial 16 finished with value: 0.7827743758157026 and parameters: {'penalty': 'l2', 'solver': 'sag', 'C': 0.04}. Best is trial 14 with value: 0.7843404423441448.\n",
            "c:\\Users\\Юзер\\AppData\\Local\\Programs\\Python\\Python311\\Lib\\site-packages\\sklearn\\linear_model\\_sag.py:350: ConvergenceWarning: The max_iter was reached which means the coef_ did not converge\n",
            "  warnings.warn(\n",
            "[I 2023-09-03 21:38:09,101] Trial 17 finished with value: 0.7840898799398666 and parameters: {'penalty': 'l2', 'solver': 'sag', 'C': 0.02}. Best is trial 14 with value: 0.7843404423441448.\n",
            "c:\\Users\\Юзер\\AppData\\Local\\Programs\\Python\\Python311\\Lib\\site-packages\\sklearn\\linear_model\\_logistic.py:1173: FutureWarning: `penalty='none'`has been deprecated in 1.2 and will be removed in 1.4. To keep the past behaviour, set `penalty=None`.\n",
            "  warnings.warn(\n",
            "c:\\Users\\Юзер\\AppData\\Local\\Programs\\Python\\Python311\\Lib\\site-packages\\sklearn\\linear_model\\_logistic.py:1181: UserWarning: Setting penalty=None will ignore the C and l1_ratio parameters\n",
            "  warnings.warn(\n",
            "c:\\Users\\Юзер\\AppData\\Local\\Programs\\Python\\Python311\\Lib\\site-packages\\sklearn\\linear_model\\_sag.py:350: ConvergenceWarning: The max_iter was reached which means the coef_ did not converge\n",
            "  warnings.warn(\n",
            "[I 2023-09-03 21:38:12,366] Trial 18 finished with value: 0.7683043585976091 and parameters: {'penalty': 'none', 'solver': 'sag', 'C': 0.45}. Best is trial 14 with value: 0.7843404423441448.\n",
            "c:\\Users\\Юзер\\AppData\\Local\\Programs\\Python\\Python311\\Lib\\site-packages\\sklearn\\linear_model\\_sag.py:350: ConvergenceWarning: The max_iter was reached which means the coef_ did not converge\n",
            "  warnings.warn(\n",
            "[I 2023-09-03 21:38:15,630] Trial 19 finished with value: 0.7807689157210693 and parameters: {'penalty': 'l2', 'solver': 'sag', 'C': 0.22}. Best is trial 14 with value: 0.7843404423441448.\n",
            "c:\\Users\\Юзер\\AppData\\Local\\Programs\\Python\\Python311\\Lib\\site-packages\\sklearn\\linear_model\\_sag.py:350: ConvergenceWarning: The max_iter was reached which means the coef_ did not converge\n",
            "  warnings.warn(\n",
            "[I 2023-09-03 21:38:18,935] Trial 20 finished with value: 0.774606130342272 and parameters: {'penalty': 'l2', 'solver': 'sag', 'C': 0.85}. Best is trial 14 with value: 0.7843404423441448.\n",
            "c:\\Users\\Юзер\\AppData\\Local\\Programs\\Python\\Python311\\Lib\\site-packages\\sklearn\\linear_model\\_sag.py:350: ConvergenceWarning: The max_iter was reached which means the coef_ did not converge\n",
            "  warnings.warn(\n",
            "[I 2023-09-03 21:38:22,409] Trial 21 finished with value: 0.7827743758157026 and parameters: {'penalty': 'l2', 'solver': 'sag', 'C': 0.04}. Best is trial 14 with value: 0.7843404423441448.\n",
            "c:\\Users\\Юзер\\AppData\\Local\\Programs\\Python\\Python311\\Lib\\site-packages\\sklearn\\linear_model\\_sag.py:350: ConvergenceWarning: The max_iter was reached which means the coef_ did not converge\n",
            "  warnings.warn(\n",
            "[I 2023-09-03 21:38:26,001] Trial 22 finished with value: 0.7840898799398666 and parameters: {'penalty': 'l2', 'solver': 'sag', 'C': 0.02}. Best is trial 14 with value: 0.7843404423441448.\n",
            "c:\\Users\\Юзер\\AppData\\Local\\Programs\\Python\\Python311\\Lib\\site-packages\\sklearn\\linear_model\\_sag.py:350: ConvergenceWarning: The max_iter was reached which means the coef_ did not converge\n",
            "  warnings.warn(\n",
            "[I 2023-09-03 21:38:29,060] Trial 23 finished with value: 0.7795605064441866 and parameters: {'penalty': 'l2', 'solver': 'sag', 'C': 0.2}. Best is trial 14 with value: 0.7843404423441448.\n",
            "c:\\Users\\Юзер\\AppData\\Local\\Programs\\Python\\Python311\\Lib\\site-packages\\sklearn\\linear_model\\_sag.py:350: ConvergenceWarning: The max_iter was reached which means the coef_ did not converge\n",
            "  warnings.warn(\n",
            "[I 2023-09-03 21:38:32,246] Trial 24 finished with value: 0.7824641024430816 and parameters: {'penalty': 'l2', 'solver': 'sag', 'C': 0.08}. Best is trial 14 with value: 0.7843404423441448.\n",
            "c:\\Users\\Юзер\\AppData\\Local\\Programs\\Python\\Python311\\Lib\\site-packages\\sklearn\\linear_model\\_sag.py:350: ConvergenceWarning: The max_iter was reached which means the coef_ did not converge\n",
            "  warnings.warn(\n",
            "[I 2023-09-03 21:38:35,531] Trial 25 finished with value: 0.7787436026506723 and parameters: {'penalty': 'l2', 'solver': 'sag', 'C': 0.38}. Best is trial 14 with value: 0.7843404423441448.\n",
            "c:\\Users\\Юзер\\AppData\\Local\\Programs\\Python\\Python311\\Lib\\site-packages\\sklearn\\linear_model\\_logistic.py:1173: FutureWarning: `penalty='none'`has been deprecated in 1.2 and will be removed in 1.4. To keep the past behaviour, set `penalty=None`.\n",
            "  warnings.warn(\n",
            "c:\\Users\\Юзер\\AppData\\Local\\Programs\\Python\\Python311\\Lib\\site-packages\\sklearn\\linear_model\\_logistic.py:1181: UserWarning: Setting penalty=None will ignore the C and l1_ratio parameters\n",
            "  warnings.warn(\n",
            "c:\\Users\\Юзер\\AppData\\Local\\Programs\\Python\\Python311\\Lib\\site-packages\\sklearn\\linear_model\\_sag.py:350: ConvergenceWarning: The max_iter was reached which means the coef_ did not converge\n",
            "  warnings.warn(\n",
            "[I 2023-09-03 21:38:38,762] Trial 26 finished with value: 0.7683043585976091 and parameters: {'penalty': 'none', 'solver': 'sag', 'C': 0.5700000000000001}. Best is trial 14 with value: 0.7843404423441448.\n",
            "c:\\Users\\Юзер\\AppData\\Local\\Programs\\Python\\Python311\\Lib\\site-packages\\sklearn\\linear_model\\_sag.py:350: ConvergenceWarning: The max_iter was reached which means the coef_ did not converge\n",
            "  warnings.warn(\n",
            "[I 2023-09-03 21:38:42,165] Trial 27 finished with value: 0.7790650146917366 and parameters: {'penalty': 'l2', 'solver': 'sag', 'C': 0.01}. Best is trial 14 with value: 0.7843404423441448.\n",
            "c:\\Users\\Юзер\\AppData\\Local\\Programs\\Python\\Python311\\Lib\\site-packages\\sklearn\\linear_model\\_sag.py:350: ConvergenceWarning: The max_iter was reached which means the coef_ did not converge\n",
            "  warnings.warn(\n",
            "[I 2023-09-03 21:38:45,266] Trial 28 finished with value: 0.7824051495239186 and parameters: {'penalty': 'l2', 'solver': 'sag', 'C': 0.11}. Best is trial 14 with value: 0.7843404423441448.\n",
            "c:\\Users\\Юзер\\AppData\\Local\\Programs\\Python\\Python311\\Lib\\site-packages\\sklearn\\linear_model\\_logistic.py:1173: FutureWarning: `penalty='none'`has been deprecated in 1.2 and will be removed in 1.4. To keep the past behaviour, set `penalty=None`.\n",
            "  warnings.warn(\n",
            "c:\\Users\\Юзер\\AppData\\Local\\Programs\\Python\\Python311\\Lib\\site-packages\\sklearn\\linear_model\\_logistic.py:1181: UserWarning: Setting penalty=None will ignore the C and l1_ratio parameters\n",
            "  warnings.warn(\n",
            "c:\\Users\\Юзер\\AppData\\Local\\Programs\\Python\\Python311\\Lib\\site-packages\\sklearn\\linear_model\\_sag.py:350: ConvergenceWarning: The max_iter was reached which means the coef_ did not converge\n",
            "  warnings.warn(\n",
            "[I 2023-09-03 21:38:48,768] Trial 29 finished with value: 0.7683043585976091 and parameters: {'penalty': 'none', 'solver': 'sag', 'C': 0.19}. Best is trial 14 with value: 0.7843404423441448.\n",
            "c:\\Users\\Юзер\\AppData\\Local\\Programs\\Python\\Python311\\Lib\\site-packages\\sklearn\\linear_model\\_sag.py:350: ConvergenceWarning: The max_iter was reached which means the coef_ did not converge\n",
            "  warnings.warn(\n",
            "[I 2023-09-03 21:38:52,341] Trial 30 finished with value: 0.7799410379828533 and parameters: {'penalty': 'l2', 'solver': 'sag', 'C': 0.24000000000000002}. Best is trial 14 with value: 0.7843404423441448.\n",
            "c:\\Users\\Юзер\\AppData\\Local\\Programs\\Python\\Python311\\Lib\\site-packages\\sklearn\\linear_model\\_sag.py:350: ConvergenceWarning: The max_iter was reached which means the coef_ did not converge\n",
            "  warnings.warn(\n",
            "[I 2023-09-03 21:38:55,539] Trial 31 finished with value: 0.781889477972968 and parameters: {'penalty': 'l2', 'solver': 'sag', 'C': 0.060000000000000005}. Best is trial 14 with value: 0.7843404423441448.\n",
            "c:\\Users\\Юзер\\AppData\\Local\\Programs\\Python\\Python311\\Lib\\site-packages\\sklearn\\linear_model\\_sag.py:350: ConvergenceWarning: The max_iter was reached which means the coef_ did not converge\n",
            "  warnings.warn(\n",
            "[I 2023-09-03 21:38:58,627] Trial 32 finished with value: 0.7790650146917366 and parameters: {'penalty': 'l2', 'solver': 'sag', 'C': 0.01}. Best is trial 14 with value: 0.7843404423441448.\n",
            "c:\\Users\\Юзер\\AppData\\Local\\Programs\\Python\\Python311\\Lib\\site-packages\\sklearn\\linear_model\\_sag.py:350: ConvergenceWarning: The max_iter was reached which means the coef_ did not converge\n",
            "  warnings.warn(\n",
            "[I 2023-09-03 21:39:02,006] Trial 33 finished with value: 0.7824641024430816 and parameters: {'penalty': 'l2', 'solver': 'sag', 'C': 0.08}. Best is trial 14 with value: 0.7843404423441448.\n",
            "c:\\Users\\Юзер\\AppData\\Local\\Programs\\Python\\Python311\\Lib\\site-packages\\sklearn\\linear_model\\_sag.py:350: ConvergenceWarning: The max_iter was reached which means the coef_ did not converge\n",
            "  warnings.warn(\n",
            "[I 2023-09-03 21:39:05,314] Trial 34 finished with value: 0.7824171739298246 and parameters: {'penalty': 'l2', 'solver': 'sag', 'C': 0.14}. Best is trial 14 with value: 0.7843404423441448.\n",
            "c:\\Users\\Юзер\\AppData\\Local\\Programs\\Python\\Python311\\Lib\\site-packages\\sklearn\\linear_model\\_sag.py:350: ConvergenceWarning: The max_iter was reached which means the coef_ did not converge\n",
            "  warnings.warn(\n",
            "[I 2023-09-03 21:39:08,550] Trial 35 finished with value: 0.780769740158036 and parameters: {'penalty': 'l2', 'solver': 'sag', 'C': 0.3}. Best is trial 14 with value: 0.7843404423441448.\n",
            "c:\\Users\\Юзер\\AppData\\Local\\Programs\\Python\\Python311\\Lib\\site-packages\\sklearn\\linear_model\\_sag.py:350: ConvergenceWarning: The max_iter was reached which means the coef_ did not converge\n",
            "  warnings.warn(\n",
            "[I 2023-09-03 21:39:11,812] Trial 36 finished with value: 0.781548294855858 and parameters: {'penalty': 'l2', 'solver': 'sag', 'C': 0.17}. Best is trial 14 with value: 0.7843404423441448.\n",
            "c:\\Users\\Юзер\\AppData\\Local\\Programs\\Python\\Python311\\Lib\\site-packages\\sklearn\\linear_model\\_logistic.py:1173: FutureWarning: `penalty='none'`has been deprecated in 1.2 and will be removed in 1.4. To keep the past behaviour, set `penalty=None`.\n",
            "  warnings.warn(\n",
            "c:\\Users\\Юзер\\AppData\\Local\\Programs\\Python\\Python311\\Lib\\site-packages\\sklearn\\linear_model\\_logistic.py:1181: UserWarning: Setting penalty=None will ignore the C and l1_ratio parameters\n",
            "  warnings.warn(\n",
            "c:\\Users\\Юзер\\AppData\\Local\\Programs\\Python\\Python311\\Lib\\site-packages\\scipy\\optimize\\_linesearch.py:305: LineSearchWarning: The line search algorithm did not converge\n",
            "  warn('The line search algorithm did not converge', LineSearchWarning)\n",
            "c:\\Users\\Юзер\\AppData\\Local\\Programs\\Python\\Python311\\Lib\\site-packages\\sklearn\\utils\\optimize.py:203: UserWarning: Line Search failed\n",
            "  warnings.warn(\"Line Search failed\")\n",
            "[I 2023-09-03 21:39:49,419] Trial 37 finished with value: 0.7025312587703303 and parameters: {'penalty': 'none', 'solver': 'newton-cg', 'C': 0.060000000000000005}. Best is trial 14 with value: 0.7843404423441448.\n",
            "c:\\Users\\Юзер\\AppData\\Local\\Programs\\Python\\Python311\\Lib\\site-packages\\sklearn\\linear_model\\_sag.py:350: ConvergenceWarning: The max_iter was reached which means the coef_ did not converge\n",
            "  warnings.warn(\n",
            "[I 2023-09-03 21:39:52,760] Trial 38 finished with value: 0.7779849257143716 and parameters: {'penalty': 'l2', 'solver': 'sag', 'C': 0.52}. Best is trial 14 with value: 0.7843404423441448.\n",
            "[I 2023-09-03 21:39:56,873] Trial 39 finished with value: 0.7825107589919806 and parameters: {'penalty': 'l2', 'solver': 'newton-cg', 'C': 0.12}. Best is trial 14 with value: 0.7843404423441448.\n",
            "c:\\Users\\Юзер\\AppData\\Local\\Programs\\Python\\Python311\\Lib\\site-packages\\sklearn\\linear_model\\_logistic.py:1173: FutureWarning: `penalty='none'`has been deprecated in 1.2 and will be removed in 1.4. To keep the past behaviour, set `penalty=None`.\n",
            "  warnings.warn(\n",
            "c:\\Users\\Юзер\\AppData\\Local\\Programs\\Python\\Python311\\Lib\\site-packages\\sklearn\\linear_model\\_logistic.py:1181: UserWarning: Setting penalty=None will ignore the C and l1_ratio parameters\n",
            "  warnings.warn(\n",
            "c:\\Users\\Юзер\\AppData\\Local\\Programs\\Python\\Python311\\Lib\\site-packages\\sklearn\\linear_model\\_sag.py:350: ConvergenceWarning: The max_iter was reached which means the coef_ did not converge\n",
            "  warnings.warn(\n",
            "[I 2023-09-03 21:40:00,070] Trial 40 finished with value: 0.7683043585976091 and parameters: {'penalty': 'none', 'solver': 'sag', 'C': 0.17}. Best is trial 14 with value: 0.7843404423441448.\n",
            "c:\\Users\\Юзер\\AppData\\Local\\Programs\\Python\\Python311\\Lib\\site-packages\\sklearn\\linear_model\\_sag.py:350: ConvergenceWarning: The max_iter was reached which means the coef_ did not converge\n",
            "  warnings.warn(\n",
            "[I 2023-09-03 21:40:03,300] Trial 41 finished with value: 0.7822808091111928 and parameters: {'penalty': 'l2', 'solver': 'sag', 'C': 0.05}. Best is trial 14 with value: 0.7843404423441448.\n",
            "c:\\Users\\Юзер\\AppData\\Local\\Programs\\Python\\Python311\\Lib\\site-packages\\sklearn\\linear_model\\_sag.py:350: ConvergenceWarning: The max_iter was reached which means the coef_ did not converge\n",
            "  warnings.warn(\n",
            "[I 2023-09-03 21:40:06,674] Trial 42 finished with value: 0.7827743758157026 and parameters: {'penalty': 'l2', 'solver': 'sag', 'C': 0.04}. Best is trial 14 with value: 0.7843404423441448.\n",
            "c:\\Users\\Юзер\\AppData\\Local\\Programs\\Python\\Python311\\Lib\\site-packages\\sklearn\\linear_model\\_sag.py:350: ConvergenceWarning: The max_iter was reached which means the coef_ did not converge\n",
            "  warnings.warn(\n",
            "[I 2023-09-03 21:40:10,138] Trial 43 finished with value: 0.7817623180369622 and parameters: {'penalty': 'l2', 'solver': 'sag', 'C': 0.09999999999999999}. Best is trial 14 with value: 0.7843404423441448.\n",
            "[I 2023-09-03 21:40:12,844] Trial 44 finished with value: 0.7838424902700812 and parameters: {'penalty': 'l2', 'solver': 'newton-cg', 'C': 0.02}. Best is trial 14 with value: 0.7843404423441448.\n",
            "[I 2023-09-03 21:40:16,940] Trial 45 finished with value: 0.7835054015014556 and parameters: {'penalty': 'l2', 'solver': 'newton-cg', 'C': 0.14}. Best is trial 14 with value: 0.7843404423441448.\n",
            "[I 2023-09-03 21:40:20,796] Trial 46 finished with value: 0.782169560899239 and parameters: {'penalty': 'l2', 'solver': 'newton-cg', 'C': 0.16}. Best is trial 14 with value: 0.7843404423441448.\n",
            "[I 2023-09-03 21:40:24,732] Trial 47 finished with value: 0.7812840741771051 and parameters: {'penalty': 'l2', 'solver': 'newton-cg', 'C': 0.11}. Best is trial 14 with value: 0.7843404423441448.\n",
            "[I 2023-09-03 21:40:28,887] Trial 48 finished with value: 0.7794305295169279 and parameters: {'penalty': 'l2', 'solver': 'newton-cg', 'C': 0.25}. Best is trial 14 with value: 0.7843404423441448.\n",
            "[I 2023-09-03 21:40:31,473] Trial 49 finished with value: 0.7785649635381222 and parameters: {'penalty': 'l2', 'solver': 'newton-cg', 'C': 0.01}. Best is trial 14 with value: 0.7843404423441448.\n"
          ]
        },
        {
          "name": "stdout",
          "output_type": "stream",
          "text": [
            "CPU times: total: 6min 13s\n",
            "Wall time: 4min 24s\n"
          ]
        },
        {
          "name": "stderr",
          "output_type": "stream",
          "text": [
            "c:\\Users\\Юзер\\AppData\\Local\\Programs\\Python\\Python311\\Lib\\site-packages\\sklearn\\linear_model\\_sag.py:350: ConvergenceWarning: The max_iter was reached which means the coef_ did not converge\n",
            "  warnings.warn(\n"
          ]
        },
        {
          "data": {
            "text/html": [
              "<style>#sk-container-id-4 {color: black;background-color: white;}#sk-container-id-4 pre{padding: 0;}#sk-container-id-4 div.sk-toggleable {background-color: white;}#sk-container-id-4 label.sk-toggleable__label {cursor: pointer;display: block;width: 100%;margin-bottom: 0;padding: 0.3em;box-sizing: border-box;text-align: center;}#sk-container-id-4 label.sk-toggleable__label-arrow:before {content: \"▸\";float: left;margin-right: 0.25em;color: #696969;}#sk-container-id-4 label.sk-toggleable__label-arrow:hover:before {color: black;}#sk-container-id-4 div.sk-estimator:hover label.sk-toggleable__label-arrow:before {color: black;}#sk-container-id-4 div.sk-toggleable__content {max-height: 0;max-width: 0;overflow: hidden;text-align: left;background-color: #f0f8ff;}#sk-container-id-4 div.sk-toggleable__content pre {margin: 0.2em;color: black;border-radius: 0.25em;background-color: #f0f8ff;}#sk-container-id-4 input.sk-toggleable__control:checked~div.sk-toggleable__content {max-height: 200px;max-width: 100%;overflow: auto;}#sk-container-id-4 input.sk-toggleable__control:checked~label.sk-toggleable__label-arrow:before {content: \"▾\";}#sk-container-id-4 div.sk-estimator input.sk-toggleable__control:checked~label.sk-toggleable__label {background-color: #d4ebff;}#sk-container-id-4 div.sk-label input.sk-toggleable__control:checked~label.sk-toggleable__label {background-color: #d4ebff;}#sk-container-id-4 input.sk-hidden--visually {border: 0;clip: rect(1px 1px 1px 1px);clip: rect(1px, 1px, 1px, 1px);height: 1px;margin: -1px;overflow: hidden;padding: 0;position: absolute;width: 1px;}#sk-container-id-4 div.sk-estimator {font-family: monospace;background-color: #f0f8ff;border: 1px dotted black;border-radius: 0.25em;box-sizing: border-box;margin-bottom: 0.5em;}#sk-container-id-4 div.sk-estimator:hover {background-color: #d4ebff;}#sk-container-id-4 div.sk-parallel-item::after {content: \"\";width: 100%;border-bottom: 1px solid gray;flex-grow: 1;}#sk-container-id-4 div.sk-label:hover label.sk-toggleable__label {background-color: #d4ebff;}#sk-container-id-4 div.sk-serial::before {content: \"\";position: absolute;border-left: 1px solid gray;box-sizing: border-box;top: 0;bottom: 0;left: 50%;z-index: 0;}#sk-container-id-4 div.sk-serial {display: flex;flex-direction: column;align-items: center;background-color: white;padding-right: 0.2em;padding-left: 0.2em;position: relative;}#sk-container-id-4 div.sk-item {position: relative;z-index: 1;}#sk-container-id-4 div.sk-parallel {display: flex;align-items: stretch;justify-content: center;background-color: white;position: relative;}#sk-container-id-4 div.sk-item::before, #sk-container-id-4 div.sk-parallel-item::before {content: \"\";position: absolute;border-left: 1px solid gray;box-sizing: border-box;top: 0;bottom: 0;left: 50%;z-index: -1;}#sk-container-id-4 div.sk-parallel-item {display: flex;flex-direction: column;z-index: 1;position: relative;background-color: white;}#sk-container-id-4 div.sk-parallel-item:first-child::after {align-self: flex-end;width: 50%;}#sk-container-id-4 div.sk-parallel-item:last-child::after {align-self: flex-start;width: 50%;}#sk-container-id-4 div.sk-parallel-item:only-child::after {width: 0;}#sk-container-id-4 div.sk-dashed-wrapped {border: 1px dashed gray;margin: 0 0.4em 0.5em 0.4em;box-sizing: border-box;padding-bottom: 0.4em;background-color: white;}#sk-container-id-4 div.sk-label label {font-family: monospace;font-weight: bold;display: inline-block;line-height: 1.2em;}#sk-container-id-4 div.sk-label-container {text-align: center;}#sk-container-id-4 div.sk-container {/* jupyter's `normalize.less` sets `[hidden] { display: none; }` but bootstrap.min.css set `[hidden] { display: none !important; }` so we also need the `!important` here to be able to override the default hidden behavior on the sphinx rendered scikit-learn.org. See: https://github.com/scikit-learn/scikit-learn/issues/21755 */display: inline-block !important;position: relative;}#sk-container-id-4 div.sk-text-repr-fallback {display: none;}</style><div id=\"sk-container-id-4\" class=\"sk-top-container\"><div class=\"sk-text-repr-fallback\"><pre>LogisticRegression(C=0.03, max_iter=50, random_state=42, solver=&#x27;sag&#x27;)</pre><b>In a Jupyter environment, please rerun this cell to show the HTML representation or trust the notebook. <br />On GitHub, the HTML representation is unable to render, please try loading this page with nbviewer.org.</b></div><div class=\"sk-container\" hidden><div class=\"sk-item\"><div class=\"sk-estimator sk-toggleable\"><input class=\"sk-toggleable__control sk-hidden--visually\" id=\"sk-estimator-id-4\" type=\"checkbox\" checked><label for=\"sk-estimator-id-4\" class=\"sk-toggleable__label sk-toggleable__label-arrow\">LogisticRegression</label><div class=\"sk-toggleable__content\"><pre>LogisticRegression(C=0.03, max_iter=50, random_state=42, solver=&#x27;sag&#x27;)</pre></div></div></div></div></div>"
            ],
            "text/plain": [
              "LogisticRegression(C=0.03, max_iter=50, random_state=42, solver='sag')"
            ]
          },
          "execution_count": 24,
          "metadata": {},
          "output_type": "execute_result"
        }
      ],
      "source": [
        "%%time\n",
        "# cоздаем объект исследования\n",
        "# можем напрямую указать, что нам необходимо максимизировать метрику direction=\"maximize\"\n",
        "study_1 = optuna.create_study(study_name=\"LogisticRegression\", direction=\"maximize\")\n",
        "# ищем лучшую комбинацию гиперпараметров n_trials раз\n",
        "study_1.optimize(optuna_lr_1, n_trials=50)\n",
        "\n",
        "# строим и обучаем модель\n",
        "model_opt_lr_1 = linear_model.LogisticRegression(**study_1.best_params,random_state=random_state, max_iter=50)\n",
        "model_opt_lr_1.fit(X_train, y_train)"
      ]
    },
    {
      "cell_type": "code",
      "execution_count": 25,
      "id": "bd9fb9ac",
      "metadata": {
        "id": "bd9fb9ac"
      },
      "outputs": [],
      "source": [
        "# Настроим оптимизацию гиперпараметров для логистической регрессии с параметрами №2\n",
        "def optuna_lr_2(trial):\n",
        "  # задаем пространства поиска гиперпараметров\n",
        "  penalty = trial.suggest_categorical('penalty', ['l1', 'l2'])\n",
        "  solver = trial.suggest_categorical('solver', ['liblinear', 'saga'])\n",
        "  C = trial.suggest_float(\"C\", 0.01, 1, step=0.01)\n",
        "\n",
        "  # Создаём модель МО, передаём ей данные и оцениваем её на основе выбранной метрики\n",
        "  model = linear_model.LogisticRegression(penalty=penalty,\n",
        "                                          solver=solver,\n",
        "                                          C=C,\n",
        "                                          random_state=random_state,\n",
        "                                          max_iter=50)\n",
        "  # обучаем модель\n",
        "  model.fit(X_train, y_train)\n",
        "  # применим cross validation\n",
        "  score = cross_val_score(model, X_train, y_train, cv=5, scoring=\"f1\", n_jobs=-1).mean()\n",
        "\n",
        "  return score"
      ]
    },
    {
      "cell_type": "code",
      "execution_count": 26,
      "id": "d1e7fee1",
      "metadata": {
        "id": "d1e7fee1"
      },
      "outputs": [
        {
          "name": "stderr",
          "output_type": "stream",
          "text": [
            "[I 2023-09-03 21:40:33,067] A new study created in memory with name: LogisticRegression\n",
            "[I 2023-09-03 21:40:33,965] Trial 0 finished with value: 0.7700265703482703 and parameters: {'penalty': 'l1', 'solver': 'liblinear', 'C': 0.91}. Best is trial 0 with value: 0.7700265703482703.\n",
            "c:\\Users\\Юзер\\AppData\\Local\\Programs\\Python\\Python311\\Lib\\site-packages\\sklearn\\linear_model\\_sag.py:350: ConvergenceWarning: The max_iter was reached which means the coef_ did not converge\n",
            "  warnings.warn(\n",
            "[I 2023-09-03 21:40:38,757] Trial 1 finished with value: 0.7803872830087195 and parameters: {'penalty': 'l1', 'solver': 'saga', 'C': 0.41000000000000003}. Best is trial 1 with value: 0.7803872830087195.\n",
            "[I 2023-09-03 21:40:39,587] Trial 2 finished with value: 0.7782275253034513 and parameters: {'penalty': 'l1', 'solver': 'liblinear', 'C': 0.47000000000000003}. Best is trial 1 with value: 0.7803872830087195.\n",
            "[I 2023-09-03 21:40:40,463] Trial 3 finished with value: 0.7772949879061344 and parameters: {'penalty': 'l2', 'solver': 'liblinear', 'C': 0.35000000000000003}. Best is trial 1 with value: 0.7803872830087195.\n",
            "[I 2023-09-03 21:40:41,032] Trial 4 finished with value: 0.7722817378848698 and parameters: {'penalty': 'l1', 'solver': 'liblinear', 'C': 0.06999999999999999}. Best is trial 1 with value: 0.7803872830087195.\n",
            "c:\\Users\\Юзер\\AppData\\Local\\Programs\\Python\\Python311\\Lib\\site-packages\\sklearn\\linear_model\\_sag.py:350: ConvergenceWarning: The max_iter was reached which means the coef_ did not converge\n",
            "  warnings.warn(\n",
            "[I 2023-09-03 21:40:45,714] Trial 5 finished with value: 0.7805498785507551 and parameters: {'penalty': 'l1', 'solver': 'saga', 'C': 0.72}. Best is trial 5 with value: 0.7805498785507551.\n",
            "c:\\Users\\Юзер\\AppData\\Local\\Programs\\Python\\Python311\\Lib\\site-packages\\sklearn\\linear_model\\_sag.py:350: ConvergenceWarning: The max_iter was reached which means the coef_ did not converge\n",
            "  warnings.warn(\n",
            "[I 2023-09-03 21:40:49,314] Trial 6 finished with value: 0.7806458359516328 and parameters: {'penalty': 'l2', 'solver': 'saga', 'C': 0.3}. Best is trial 6 with value: 0.7806458359516328.\n",
            "c:\\Users\\Юзер\\AppData\\Local\\Programs\\Python\\Python311\\Lib\\site-packages\\sklearn\\linear_model\\_sag.py:350: ConvergenceWarning: The max_iter was reached which means the coef_ did not converge\n",
            "  warnings.warn(\n",
            "[I 2023-09-03 21:40:53,012] Trial 7 finished with value: 0.7812771149122874 and parameters: {'penalty': 'l2', 'solver': 'saga', 'C': 0.24000000000000002}. Best is trial 7 with value: 0.7812771149122874.\n",
            "[I 2023-09-03 21:40:54,058] Trial 8 finished with value: 0.7693465033040758 and parameters: {'penalty': 'l1', 'solver': 'liblinear', 'C': 0.85}. Best is trial 7 with value: 0.7812771149122874.\n",
            "[I 2023-09-03 21:40:54,664] Trial 9 finished with value: 0.7824482833370465 and parameters: {'penalty': 'l1', 'solver': 'liblinear', 'C': 0.14}. Best is trial 9 with value: 0.7824482833370465.\n",
            "[I 2023-09-03 21:40:55,359] Trial 10 finished with value: 0.7825304391182704 and parameters: {'penalty': 'l2', 'solver': 'liblinear', 'C': 0.04}. Best is trial 10 with value: 0.7825304391182704.\n",
            "[I 2023-09-03 21:40:55,995] Trial 11 finished with value: 0.7772672463872251 and parameters: {'penalty': 'l2', 'solver': 'liblinear', 'C': 0.01}. Best is trial 10 with value: 0.7825304391182704.\n",
            "[I 2023-09-03 21:40:56,594] Trial 12 finished with value: 0.7825123124570423 and parameters: {'penalty': 'l2', 'solver': 'liblinear', 'C': 0.16}. Best is trial 10 with value: 0.7825304391182704.\n",
            "[I 2023-09-03 21:40:57,560] Trial 13 finished with value: 0.7707446620433991 and parameters: {'penalty': 'l2', 'solver': 'liblinear', 'C': 0.61}. Best is trial 10 with value: 0.7825304391182704.\n",
            "[I 2023-09-03 21:40:58,383] Trial 14 finished with value: 0.7812679596055958 and parameters: {'penalty': 'l2', 'solver': 'liblinear', 'C': 0.18000000000000002}. Best is trial 10 with value: 0.7825304391182704.\n",
            "[I 2023-09-03 21:40:58,817] Trial 15 finished with value: 0.7772672463872251 and parameters: {'penalty': 'l2', 'solver': 'liblinear', 'C': 0.01}. Best is trial 10 with value: 0.7825304391182704.\n",
            "[I 2023-09-03 21:40:59,738] Trial 16 finished with value: 0.773651309601072 and parameters: {'penalty': 'l2', 'solver': 'liblinear', 'C': 0.5700000000000001}. Best is trial 10 with value: 0.7825304391182704.\n",
            "[I 2023-09-03 21:41:00,542] Trial 17 finished with value: 0.781309451503157 and parameters: {'penalty': 'l2', 'solver': 'liblinear', 'C': 0.15000000000000002}. Best is trial 10 with value: 0.7825304391182704.\n",
            "c:\\Users\\Юзер\\AppData\\Local\\Programs\\Python\\Python311\\Lib\\site-packages\\sklearn\\linear_model\\_sag.py:350: ConvergenceWarning: The max_iter was reached which means the coef_ did not converge\n",
            "  warnings.warn(\n",
            "[I 2023-09-03 21:41:03,950] Trial 18 finished with value: 0.7811487323489511 and parameters: {'penalty': 'l2', 'solver': 'saga', 'C': 0.26}. Best is trial 10 with value: 0.7825304391182704.\n",
            "[I 2023-09-03 21:41:04,782] Trial 19 finished with value: 0.7819106289405601 and parameters: {'penalty': 'l2', 'solver': 'liblinear', 'C': 0.09999999999999999}. Best is trial 10 with value: 0.7825304391182704.\n",
            "[I 2023-09-03 21:41:05,678] Trial 20 finished with value: 0.7785311458600359 and parameters: {'penalty': 'l2', 'solver': 'liblinear', 'C': 0.42000000000000004}. Best is trial 10 with value: 0.7825304391182704.\n",
            "[I 2023-09-03 21:41:06,118] Trial 21 finished with value: 0.7826938852141849 and parameters: {'penalty': 'l1', 'solver': 'liblinear', 'C': 0.2}. Best is trial 21 with value: 0.7826938852141849.\n",
            "[I 2023-09-03 21:41:06,774] Trial 22 finished with value: 0.7833981108141777 and parameters: {'penalty': 'l1', 'solver': 'liblinear', 'C': 0.21000000000000002}. Best is trial 22 with value: 0.7833981108141777.\n",
            "[I 2023-09-03 21:41:07,670] Trial 23 finished with value: 0.7833738999990126 and parameters: {'penalty': 'l1', 'solver': 'liblinear', 'C': 0.24000000000000002}. Best is trial 22 with value: 0.7833981108141777.\n",
            "[I 2023-09-03 21:41:08,402] Trial 24 finished with value: 0.7790050387435772 and parameters: {'penalty': 'l1', 'solver': 'liblinear', 'C': 0.35000000000000003}. Best is trial 22 with value: 0.7833981108141777.\n",
            "[I 2023-09-03 21:41:09,002] Trial 25 finished with value: 0.7819395113662453 and parameters: {'penalty': 'l1', 'solver': 'liblinear', 'C': 0.23}. Best is trial 22 with value: 0.7833981108141777.\n",
            "c:\\Users\\Юзер\\AppData\\Local\\Programs\\Python\\Python311\\Lib\\site-packages\\sklearn\\linear_model\\_sag.py:350: ConvergenceWarning: The max_iter was reached which means the coef_ did not converge\n",
            "  warnings.warn(\n",
            "[I 2023-09-03 21:41:13,693] Trial 26 finished with value: 0.7810276578637944 and parameters: {'penalty': 'l1', 'solver': 'saga', 'C': 0.33}. Best is trial 22 with value: 0.7833981108141777.\n",
            "[I 2023-09-03 21:41:14,424] Trial 27 finished with value: 0.7756549731957408 and parameters: {'penalty': 'l1', 'solver': 'liblinear', 'C': 0.55}. Best is trial 22 with value: 0.7833981108141777.\n",
            "[I 2023-09-03 21:41:15,499] Trial 28 finished with value: 0.7731103192121673 and parameters: {'penalty': 'l1', 'solver': 'liblinear', 'C': 0.68}. Best is trial 22 with value: 0.7833981108141777.\n",
            "[I 2023-09-03 21:41:16,596] Trial 29 finished with value: 0.7694150047324972 and parameters: {'penalty': 'l1', 'solver': 'liblinear', 'C': 0.9600000000000001}. Best is trial 22 with value: 0.7833981108141777.\n",
            "[I 2023-09-03 21:41:17,389] Trial 30 finished with value: 0.7820752497335215 and parameters: {'penalty': 'l1', 'solver': 'liblinear', 'C': 0.22}. Best is trial 22 with value: 0.7833981108141777.\n",
            "[I 2023-09-03 21:41:17,982] Trial 31 finished with value: 0.7738240959975933 and parameters: {'penalty': 'l1', 'solver': 'liblinear', 'C': 0.08}. Best is trial 22 with value: 0.7833981108141777.\n",
            "[I 2023-09-03 21:41:18,548] Trial 32 finished with value: 0.7683764195230097 and parameters: {'penalty': 'l1', 'solver': 'liblinear', 'C': 0.060000000000000005}. Best is trial 22 with value: 0.7833981108141777.\n",
            "[I 2023-09-03 21:41:19,123] Trial 33 finished with value: 0.77735720491552 and parameters: {'penalty': 'l1', 'solver': 'liblinear', 'C': 0.42000000000000004}. Best is trial 22 with value: 0.7833981108141777.\n",
            "[I 2023-09-03 21:41:19,970] Trial 34 finished with value: 0.7806273553115152 and parameters: {'penalty': 'l1', 'solver': 'liblinear', 'C': 0.28}. Best is trial 22 with value: 0.7833981108141777.\n",
            "[I 2023-09-03 21:41:20,433] Trial 35 finished with value: 0.7836682562231091 and parameters: {'penalty': 'l1', 'solver': 'liblinear', 'C': 0.19}. Best is trial 35 with value: 0.7836682562231091.\n",
            "c:\\Users\\Юзер\\AppData\\Local\\Programs\\Python\\Python311\\Lib\\site-packages\\sklearn\\linear_model\\_sag.py:350: ConvergenceWarning: The max_iter was reached which means the coef_ did not converge\n",
            "  warnings.warn(\n",
            "[I 2023-09-03 21:41:24,989] Trial 36 finished with value: 0.7798819225876109 and parameters: {'penalty': 'l1', 'solver': 'saga', 'C': 0.37}. Best is trial 35 with value: 0.7836682562231091.\n",
            "[I 2023-09-03 21:41:25,992] Trial 37 finished with value: 0.7764926429526382 and parameters: {'penalty': 'l1', 'solver': 'liblinear', 'C': 0.5}. Best is trial 35 with value: 0.7836682562231091.\n",
            "c:\\Users\\Юзер\\AppData\\Local\\Programs\\Python\\Python311\\Lib\\site-packages\\sklearn\\linear_model\\_sag.py:350: ConvergenceWarning: The max_iter was reached which means the coef_ did not converge\n",
            "  warnings.warn(\n",
            "[I 2023-09-03 21:41:30,540] Trial 38 finished with value: 0.7814605312658138 and parameters: {'penalty': 'l1', 'solver': 'saga', 'C': 0.21000000000000002}. Best is trial 35 with value: 0.7836682562231091.\n",
            "[I 2023-09-03 21:41:31,182] Trial 39 finished with value: 0.7830967691044108 and parameters: {'penalty': 'l1', 'solver': 'liblinear', 'C': 0.12}. Best is trial 35 with value: 0.7836682562231091.\n",
            "[I 2023-09-03 21:41:31,588] Trial 40 finished with value: 0.7830967691044108 and parameters: {'penalty': 'l1', 'solver': 'liblinear', 'C': 0.12}. Best is trial 35 with value: 0.7836682562231091.\n",
            "[I 2023-09-03 21:41:32,181] Trial 41 finished with value: 0.7809131410486673 and parameters: {'penalty': 'l1', 'solver': 'liblinear', 'C': 0.11}. Best is trial 35 with value: 0.7836682562231091.\n",
            "[I 2023-09-03 21:41:32,803] Trial 42 finished with value: 0.7830967691044108 and parameters: {'penalty': 'l1', 'solver': 'liblinear', 'C': 0.12}. Best is trial 35 with value: 0.7836682562231091.\n",
            "[I 2023-09-03 21:41:33,459] Trial 43 finished with value: 0.7828608073562735 and parameters: {'penalty': 'l1', 'solver': 'liblinear', 'C': 0.18000000000000002}. Best is trial 35 with value: 0.7836682562231091.\n",
            "[I 2023-09-03 21:41:34,102] Trial 44 finished with value: 0.7790560392131918 and parameters: {'penalty': 'l1', 'solver': 'liblinear', 'C': 0.3}. Best is trial 35 with value: 0.7836682562231091.\n",
            "[I 2023-09-03 21:41:34,467] Trial 45 finished with value: 0.7683764195230097 and parameters: {'penalty': 'l1', 'solver': 'liblinear', 'C': 0.060000000000000005}. Best is trial 35 with value: 0.7836682562231091.\n",
            "c:\\Users\\Юзер\\AppData\\Local\\Programs\\Python\\Python311\\Lib\\site-packages\\sklearn\\linear_model\\_sag.py:350: ConvergenceWarning: The max_iter was reached which means the coef_ did not converge\n",
            "  warnings.warn(\n",
            "[I 2023-09-03 21:41:38,861] Trial 46 finished with value: 0.7822207623909396 and parameters: {'penalty': 'l1', 'solver': 'saga', 'C': 0.13}. Best is trial 35 with value: 0.7836682562231091.\n",
            "[I 2023-09-03 21:41:39,532] Trial 47 finished with value: 0.781255096434643 and parameters: {'penalty': 'l1', 'solver': 'liblinear', 'C': 0.27}. Best is trial 35 with value: 0.7836682562231091.\n",
            "[I 2023-09-03 21:41:40,592] Trial 48 finished with value: 0.7695822277503267 and parameters: {'penalty': 'l1', 'solver': 'liblinear', 'C': 0.86}. Best is trial 35 with value: 0.7836682562231091.\n",
            "[I 2023-09-03 21:41:41,276] Trial 49 finished with value: 0.7831333151744604 and parameters: {'penalty': 'l1', 'solver': 'liblinear', 'C': 0.17}. Best is trial 35 with value: 0.7836682562231091.\n"
          ]
        },
        {
          "name": "stdout",
          "output_type": "stream",
          "text": [
            "CPU times: total: 27 s\n",
            "Wall time: 1min 8s\n"
          ]
        },
        {
          "data": {
            "text/html": [
              "<style>#sk-container-id-5 {color: black;background-color: white;}#sk-container-id-5 pre{padding: 0;}#sk-container-id-5 div.sk-toggleable {background-color: white;}#sk-container-id-5 label.sk-toggleable__label {cursor: pointer;display: block;width: 100%;margin-bottom: 0;padding: 0.3em;box-sizing: border-box;text-align: center;}#sk-container-id-5 label.sk-toggleable__label-arrow:before {content: \"▸\";float: left;margin-right: 0.25em;color: #696969;}#sk-container-id-5 label.sk-toggleable__label-arrow:hover:before {color: black;}#sk-container-id-5 div.sk-estimator:hover label.sk-toggleable__label-arrow:before {color: black;}#sk-container-id-5 div.sk-toggleable__content {max-height: 0;max-width: 0;overflow: hidden;text-align: left;background-color: #f0f8ff;}#sk-container-id-5 div.sk-toggleable__content pre {margin: 0.2em;color: black;border-radius: 0.25em;background-color: #f0f8ff;}#sk-container-id-5 input.sk-toggleable__control:checked~div.sk-toggleable__content {max-height: 200px;max-width: 100%;overflow: auto;}#sk-container-id-5 input.sk-toggleable__control:checked~label.sk-toggleable__label-arrow:before {content: \"▾\";}#sk-container-id-5 div.sk-estimator input.sk-toggleable__control:checked~label.sk-toggleable__label {background-color: #d4ebff;}#sk-container-id-5 div.sk-label input.sk-toggleable__control:checked~label.sk-toggleable__label {background-color: #d4ebff;}#sk-container-id-5 input.sk-hidden--visually {border: 0;clip: rect(1px 1px 1px 1px);clip: rect(1px, 1px, 1px, 1px);height: 1px;margin: -1px;overflow: hidden;padding: 0;position: absolute;width: 1px;}#sk-container-id-5 div.sk-estimator {font-family: monospace;background-color: #f0f8ff;border: 1px dotted black;border-radius: 0.25em;box-sizing: border-box;margin-bottom: 0.5em;}#sk-container-id-5 div.sk-estimator:hover {background-color: #d4ebff;}#sk-container-id-5 div.sk-parallel-item::after {content: \"\";width: 100%;border-bottom: 1px solid gray;flex-grow: 1;}#sk-container-id-5 div.sk-label:hover label.sk-toggleable__label {background-color: #d4ebff;}#sk-container-id-5 div.sk-serial::before {content: \"\";position: absolute;border-left: 1px solid gray;box-sizing: border-box;top: 0;bottom: 0;left: 50%;z-index: 0;}#sk-container-id-5 div.sk-serial {display: flex;flex-direction: column;align-items: center;background-color: white;padding-right: 0.2em;padding-left: 0.2em;position: relative;}#sk-container-id-5 div.sk-item {position: relative;z-index: 1;}#sk-container-id-5 div.sk-parallel {display: flex;align-items: stretch;justify-content: center;background-color: white;position: relative;}#sk-container-id-5 div.sk-item::before, #sk-container-id-5 div.sk-parallel-item::before {content: \"\";position: absolute;border-left: 1px solid gray;box-sizing: border-box;top: 0;bottom: 0;left: 50%;z-index: -1;}#sk-container-id-5 div.sk-parallel-item {display: flex;flex-direction: column;z-index: 1;position: relative;background-color: white;}#sk-container-id-5 div.sk-parallel-item:first-child::after {align-self: flex-end;width: 50%;}#sk-container-id-5 div.sk-parallel-item:last-child::after {align-self: flex-start;width: 50%;}#sk-container-id-5 div.sk-parallel-item:only-child::after {width: 0;}#sk-container-id-5 div.sk-dashed-wrapped {border: 1px dashed gray;margin: 0 0.4em 0.5em 0.4em;box-sizing: border-box;padding-bottom: 0.4em;background-color: white;}#sk-container-id-5 div.sk-label label {font-family: monospace;font-weight: bold;display: inline-block;line-height: 1.2em;}#sk-container-id-5 div.sk-label-container {text-align: center;}#sk-container-id-5 div.sk-container {/* jupyter's `normalize.less` sets `[hidden] { display: none; }` but bootstrap.min.css set `[hidden] { display: none !important; }` so we also need the `!important` here to be able to override the default hidden behavior on the sphinx rendered scikit-learn.org. See: https://github.com/scikit-learn/scikit-learn/issues/21755 */display: inline-block !important;position: relative;}#sk-container-id-5 div.sk-text-repr-fallback {display: none;}</style><div id=\"sk-container-id-5\" class=\"sk-top-container\"><div class=\"sk-text-repr-fallback\"><pre>LogisticRegression(C=0.19, max_iter=50, penalty=&#x27;l1&#x27;, random_state=42,\n",
              "                   solver=&#x27;liblinear&#x27;)</pre><b>In a Jupyter environment, please rerun this cell to show the HTML representation or trust the notebook. <br />On GitHub, the HTML representation is unable to render, please try loading this page with nbviewer.org.</b></div><div class=\"sk-container\" hidden><div class=\"sk-item\"><div class=\"sk-estimator sk-toggleable\"><input class=\"sk-toggleable__control sk-hidden--visually\" id=\"sk-estimator-id-5\" type=\"checkbox\" checked><label for=\"sk-estimator-id-5\" class=\"sk-toggleable__label sk-toggleable__label-arrow\">LogisticRegression</label><div class=\"sk-toggleable__content\"><pre>LogisticRegression(C=0.19, max_iter=50, penalty=&#x27;l1&#x27;, random_state=42,\n",
              "                   solver=&#x27;liblinear&#x27;)</pre></div></div></div></div></div>"
            ],
            "text/plain": [
              "LogisticRegression(C=0.19, max_iter=50, penalty='l1', random_state=42,\n",
              "                   solver='liblinear')"
            ]
          },
          "execution_count": 26,
          "metadata": {},
          "output_type": "execute_result"
        }
      ],
      "source": [
        "%%time\n",
        "# cоздаем объект исследования\n",
        "# можем напрямую указать, что нам необходимо максимизировать метрику direction=\"maximize\"\n",
        "study_2 = optuna.create_study(study_name=\"LogisticRegression\", direction=\"maximize\")\n",
        "# ищем лучшую комбинацию гиперпараметров n_trials раз\n",
        "study_2.optimize(optuna_lr_2, n_trials=50)\n",
        "\n",
        "# строим и обучаем модель\n",
        "model_opt_lr_2 = linear_model.LogisticRegression(**study_2.best_params,random_state=random_state, max_iter=50)\n",
        "model_opt_lr_2.fit(X_train, y_train)"
      ]
    },
    {
      "cell_type": "code",
      "execution_count": 27,
      "id": "1545cd48",
      "metadata": {
        "id": "1545cd48"
      },
      "outputs": [
        {
          "name": "stdout",
          "output_type": "stream",
          "text": [
            "Наилучшие значения гиперпараметров_1 {'penalty': 'l2', 'solver': 'sag', 'C': 0.03}\n",
            "f1_score на обучающей выборке: 0.78\n",
            "f1_score на тестовой выборке: 0.80\n",
            "Наилучшие значения гиперпараметров_2 {'penalty': 'l1', 'solver': 'liblinear', 'C': 0.19}\n",
            "f1_score на обучающей выборке: 0.78\n",
            "f1_score на тестовой выборке: 0.79\n"
          ]
        }
      ],
      "source": [
        "# выведем наилучшие значения гиперпараметров и метрики\n",
        "print(\"Наилучшие значения гиперпараметров_1 {}\".format(study_1.best_params))\n",
        "\n",
        "print(\"f1_score на обучающей выборке: {:.2f}\".format(study_1.best_value))\n",
        "y_test_pred = model_opt_lr_1.predict(X_test)\n",
        "print('f1_score на тестовой выборке: {:.2f}'.format(metrics.f1_score(y_test, y_test_pred)))\n",
        "\n",
        "print(\"Наилучшие значения гиперпараметров_2 {}\".format(study_2.best_params))\n",
        "\n",
        "print(\"f1_score на обучающей выборке: {:.2f}\".format(study_2.best_value))\n",
        "y_test_pred = model_opt_lr_2.predict(X_test)\n",
        "print('f1_score на тестовой выборке: {:.2f}'.format(metrics.f1_score(y_test, y_test_pred)))"
      ]
    },
    {
      "attachments": {},
      "cell_type": "markdown",
      "id": "LIe-OF24Scpx",
      "metadata": {
        "id": "LIe-OF24Scpx"
      },
      "source": [
        "#### *Случайный лес*"
      ]
    },
    {
      "cell_type": "code",
      "execution_count": 28,
      "id": "aSF_70FWu3T6",
      "metadata": {
        "id": "aSF_70FWu3T6"
      },
      "outputs": [],
      "source": [
        "# Настроим оптимизацию гиперпараметров для алгоритма случайного леса.\n",
        "def optuna_rf(trial):\n",
        "  # задаем пространства поиска гиперпараметров\n",
        "  n_estimators = trial.suggest_int('n_estimators', 100, 200, 20)\n",
        "  max_depth = trial.suggest_int('max_depth', 10, 40, 5)\n",
        "  min_samples_leaf = trial.suggest_int('min_samples_leaf', 3, 7, 2)\n",
        "\n",
        "  # Создаём модель МО, передаём ей данные и оцениваем её на основе выбранной метрики\n",
        "  model = ensemble.RandomForestClassifier(n_estimators=n_estimators,\n",
        "                                          max_depth=max_depth,\n",
        "                                          min_samples_leaf=min_samples_leaf,\n",
        "                                          random_state=random_state\n",
        "                                          )\n",
        "  # обучаем модель\n",
        "  model.fit(X_train, y_train)\n",
        "  # применим cross validation\n",
        "  score = cross_val_score(model, X_train, y_train, cv=5, scoring=\"f1\", n_jobs=-1).mean()\n",
        "\n",
        "  return score"
      ]
    },
    {
      "cell_type": "code",
      "execution_count": 29,
      "id": "ubC21yLQpYyF",
      "metadata": {
        "id": "ubC21yLQpYyF"
      },
      "outputs": [
        {
          "name": "stderr",
          "output_type": "stream",
          "text": [
            "[I 2023-09-03 21:42:43,875] A new study created in memory with name: RandomForestClassifier\n",
            "[I 2023-09-03 21:42:47,565] Trial 0 finished with value: 0.7906101910028582 and parameters: {'n_estimators': 200, 'max_depth': 10, 'min_samples_leaf': 7}. Best is trial 0 with value: 0.7906101910028582.\n",
            "[I 2023-09-03 21:42:50,658] Trial 1 finished with value: 0.8086765985526417 and parameters: {'n_estimators': 120, 'max_depth': 20, 'min_samples_leaf': 3}. Best is trial 1 with value: 0.8086765985526417.\n",
            "[I 2023-09-03 21:42:54,018] Trial 2 finished with value: 0.7906101910028582 and parameters: {'n_estimators': 200, 'max_depth': 10, 'min_samples_leaf': 7}. Best is trial 1 with value: 0.8086765985526417.\n",
            "[I 2023-09-03 21:42:56,645] Trial 3 finished with value: 0.8006739006971187 and parameters: {'n_estimators': 120, 'max_depth': 30, 'min_samples_leaf': 7}. Best is trial 1 with value: 0.8086765985526417.\n",
            "[I 2023-09-03 21:43:00,752] Trial 4 finished with value: 0.800298280095139 and parameters: {'n_estimators': 200, 'max_depth': 20, 'min_samples_leaf': 7}. Best is trial 1 with value: 0.8086765985526417.\n",
            "[I 2023-09-03 21:43:04,478] Trial 5 finished with value: 0.7920059717337782 and parameters: {'n_estimators': 200, 'max_depth': 10, 'min_samples_leaf': 5}. Best is trial 1 with value: 0.8086765985526417.\n",
            "[I 2023-09-03 21:43:07,597] Trial 6 finished with value: 0.7988625697162925 and parameters: {'n_estimators': 140, 'max_depth': 15, 'min_samples_leaf': 5}. Best is trial 1 with value: 0.8086765985526417.\n",
            "[I 2023-09-03 21:43:10,589] Trial 7 finished with value: 0.8011554203317914 and parameters: {'n_estimators': 140, 'max_depth': 35, 'min_samples_leaf': 7}. Best is trial 1 with value: 0.8086765985526417.\n",
            "[I 2023-09-03 21:43:14,092] Trial 8 finished with value: 0.8059509561702353 and parameters: {'n_estimators': 140, 'max_depth': 35, 'min_samples_leaf': 3}. Best is trial 1 with value: 0.8086765985526417.\n",
            "[I 2023-09-03 21:43:17,936] Trial 9 finished with value: 0.8000000856982851 and parameters: {'n_estimators': 200, 'max_depth': 15, 'min_samples_leaf': 7}. Best is trial 1 with value: 0.8086765985526417.\n",
            "[I 2023-09-03 21:43:20,369] Trial 10 finished with value: 0.8074162394007154 and parameters: {'n_estimators': 100, 'max_depth': 25, 'min_samples_leaf': 3}. Best is trial 1 with value: 0.8086765985526417.\n",
            "[I 2023-09-03 21:43:23,018] Trial 11 finished with value: 0.8074162394007154 and parameters: {'n_estimators': 100, 'max_depth': 25, 'min_samples_leaf': 3}. Best is trial 1 with value: 0.8086765985526417.\n",
            "[I 2023-09-03 21:43:25,708] Trial 12 finished with value: 0.8074162394007154 and parameters: {'n_estimators': 100, 'max_depth': 25, 'min_samples_leaf': 3}. Best is trial 1 with value: 0.8086765985526417.\n",
            "[I 2023-09-03 21:43:28,970] Trial 13 finished with value: 0.8086765985526417 and parameters: {'n_estimators': 120, 'max_depth': 20, 'min_samples_leaf': 3}. Best is trial 1 with value: 0.8086765985526417.\n",
            "[I 2023-09-03 21:43:32,622] Trial 14 finished with value: 0.8006515278640624 and parameters: {'n_estimators': 160, 'max_depth': 20, 'min_samples_leaf': 5}. Best is trial 1 with value: 0.8086765985526417.\n",
            "[I 2023-09-03 21:43:35,699] Trial 15 finished with value: 0.8086765985526417 and parameters: {'n_estimators': 120, 'max_depth': 20, 'min_samples_leaf': 3}. Best is trial 1 with value: 0.8086765985526417.\n",
            "[I 2023-09-03 21:43:38,783] Trial 16 finished with value: 0.8066807495839031 and parameters: {'n_estimators': 120, 'max_depth': 40, 'min_samples_leaf': 3}. Best is trial 1 with value: 0.8086765985526417.\n",
            "[I 2023-09-03 21:43:42,322] Trial 17 finished with value: 0.7999023882577451 and parameters: {'n_estimators': 160, 'max_depth': 15, 'min_samples_leaf': 5}. Best is trial 1 with value: 0.8086765985526417.\n",
            "[I 2023-09-03 21:43:45,427] Trial 18 finished with value: 0.806436507402515 and parameters: {'n_estimators': 120, 'max_depth': 30, 'min_samples_leaf': 3}. Best is trial 1 with value: 0.8086765985526417.\n",
            "[I 2023-09-03 21:43:49,023] Trial 19 finished with value: 0.8006515278640624 and parameters: {'n_estimators': 160, 'max_depth': 20, 'min_samples_leaf': 5}. Best is trial 1 with value: 0.8086765985526417.\n",
            "[I 2023-09-03 21:43:52,159] Trial 20 finished with value: 0.806436507402515 and parameters: {'n_estimators': 120, 'max_depth': 30, 'min_samples_leaf': 3}. Best is trial 1 with value: 0.8086765985526417.\n",
            "[I 2023-09-03 21:43:55,332] Trial 21 finished with value: 0.8086765985526417 and parameters: {'n_estimators': 120, 'max_depth': 20, 'min_samples_leaf': 3}. Best is trial 1 with value: 0.8086765985526417.\n",
            "[I 2023-09-03 21:43:58,733] Trial 22 finished with value: 0.7993108837029342 and parameters: {'n_estimators': 140, 'max_depth': 15, 'min_samples_leaf': 3}. Best is trial 1 with value: 0.8086765985526417.\n",
            "[I 2023-09-03 21:44:01,388] Trial 23 finished with value: 0.8083016239182452 and parameters: {'n_estimators': 100, 'max_depth': 20, 'min_samples_leaf': 3}. Best is trial 1 with value: 0.8086765985526417.\n",
            "[I 2023-09-03 21:44:03,988] Trial 24 finished with value: 0.7986900976174833 and parameters: {'n_estimators': 120, 'max_depth': 25, 'min_samples_leaf': 5}. Best is trial 1 with value: 0.8086765985526417.\n",
            "[I 2023-09-03 21:44:07,414] Trial 25 finished with value: 0.7993108837029342 and parameters: {'n_estimators': 140, 'max_depth': 15, 'min_samples_leaf': 3}. Best is trial 1 with value: 0.8086765985526417.\n",
            "[I 2023-09-03 21:44:11,838] Trial 26 finished with value: 0.8067047567378838 and parameters: {'n_estimators': 180, 'max_depth': 20, 'min_samples_leaf': 3}. Best is trial 1 with value: 0.8086765985526417.\n",
            "[I 2023-09-03 21:44:14,298] Trial 27 finished with value: 0.79848423459968 and parameters: {'n_estimators': 100, 'max_depth': 25, 'min_samples_leaf': 5}. Best is trial 1 with value: 0.8086765985526417.\n",
            "[I 2023-09-03 21:44:17,448] Trial 28 finished with value: 0.8086765985526417 and parameters: {'n_estimators': 120, 'max_depth': 20, 'min_samples_leaf': 3}. Best is trial 1 with value: 0.8086765985526417.\n",
            "[I 2023-09-03 21:44:20,099] Trial 29 finished with value: 0.7980658687187026 and parameters: {'n_estimators': 140, 'max_depth': 10, 'min_samples_leaf': 3}. Best is trial 1 with value: 0.8086765985526417.\n",
            "[I 2023-09-03 21:44:22,707] Trial 30 finished with value: 0.8001759180673765 and parameters: {'n_estimators': 120, 'max_depth': 15, 'min_samples_leaf': 5}. Best is trial 1 with value: 0.8086765985526417.\n",
            "[I 2023-09-03 21:44:25,769] Trial 31 finished with value: 0.8086765985526417 and parameters: {'n_estimators': 120, 'max_depth': 20, 'min_samples_leaf': 3}. Best is trial 1 with value: 0.8086765985526417.\n",
            "[I 2023-09-03 21:44:28,417] Trial 32 finished with value: 0.8074162394007154 and parameters: {'n_estimators': 100, 'max_depth': 25, 'min_samples_leaf': 3}. Best is trial 1 with value: 0.8086765985526417.\n",
            "[I 2023-09-03 21:44:31,501] Trial 33 finished with value: 0.8086765985526417 and parameters: {'n_estimators': 120, 'max_depth': 20, 'min_samples_leaf': 3}. Best is trial 1 with value: 0.8086765985526417.\n",
            "[I 2023-09-03 21:44:34,298] Trial 34 finished with value: 0.8006400667232466 and parameters: {'n_estimators': 120, 'max_depth': 15, 'min_samples_leaf': 3}. Best is trial 1 with value: 0.8086765985526417.\n",
            "[I 2023-09-03 21:44:37,845] Trial 35 finished with value: 0.807808725171958 and parameters: {'n_estimators': 140, 'max_depth': 20, 'min_samples_leaf': 3}. Best is trial 1 with value: 0.8086765985526417.\n",
            "[I 2023-09-03 21:44:40,006] Trial 36 finished with value: 0.7977761811883547 and parameters: {'n_estimators': 100, 'max_depth': 10, 'min_samples_leaf': 3}. Best is trial 1 with value: 0.8086765985526417.\n",
            "[I 2023-09-03 21:44:42,846] Trial 37 finished with value: 0.7986900976174833 and parameters: {'n_estimators': 120, 'max_depth': 30, 'min_samples_leaf': 5}. Best is trial 1 with value: 0.8086765985526417.\n",
            "[I 2023-09-03 21:44:46,402] Trial 38 finished with value: 0.8054826007754299 and parameters: {'n_estimators': 140, 'max_depth': 25, 'min_samples_leaf': 3}. Best is trial 1 with value: 0.8086765985526417.\n",
            "[I 2023-09-03 21:44:50,626] Trial 39 finished with value: 0.8067047567378838 and parameters: {'n_estimators': 180, 'max_depth': 20, 'min_samples_leaf': 3}. Best is trial 1 with value: 0.8086765985526417.\n",
            "[I 2023-09-03 21:44:53,098] Trial 40 finished with value: 0.785757760286157 and parameters: {'n_estimators': 120, 'max_depth': 10, 'min_samples_leaf': 5}. Best is trial 1 with value: 0.8086765985526417.\n",
            "[I 2023-09-03 21:44:56,240] Trial 41 finished with value: 0.8086765985526417 and parameters: {'n_estimators': 120, 'max_depth': 20, 'min_samples_leaf': 3}. Best is trial 1 with value: 0.8086765985526417.\n",
            "[I 2023-09-03 21:44:59,129] Trial 42 finished with value: 0.8086765985526417 and parameters: {'n_estimators': 120, 'max_depth': 20, 'min_samples_leaf': 3}. Best is trial 1 with value: 0.8086765985526417.\n",
            "[I 2023-09-03 21:45:01,736] Trial 43 finished with value: 0.8042235272987135 and parameters: {'n_estimators': 100, 'max_depth': 15, 'min_samples_leaf': 3}. Best is trial 1 with value: 0.8086765985526417.\n",
            "[I 2023-09-03 21:45:05,281] Trial 44 finished with value: 0.8054826007754299 and parameters: {'n_estimators': 140, 'max_depth': 25, 'min_samples_leaf': 3}. Best is trial 1 with value: 0.8086765985526417.\n",
            "[I 2023-09-03 21:45:08,421] Trial 45 finished with value: 0.8086765985526417 and parameters: {'n_estimators': 120, 'max_depth': 20, 'min_samples_leaf': 3}. Best is trial 1 with value: 0.8086765985526417.\n",
            "[I 2023-09-03 21:45:10,464] Trial 46 finished with value: 0.7994106039894661 and parameters: {'n_estimators': 100, 'max_depth': 15, 'min_samples_leaf': 7}. Best is trial 1 with value: 0.8086765985526417.\n",
            "[I 2023-09-03 21:45:13,987] Trial 47 finished with value: 0.8054826007754299 and parameters: {'n_estimators': 140, 'max_depth': 25, 'min_samples_leaf': 3}. Best is trial 1 with value: 0.8086765985526417.\n",
            "[I 2023-09-03 21:45:16,856] Trial 48 finished with value: 0.8086765985526417 and parameters: {'n_estimators': 120, 'max_depth': 20, 'min_samples_leaf': 3}. Best is trial 1 with value: 0.8086765985526417.\n",
            "[I 2023-09-03 21:45:19,501] Trial 49 finished with value: 0.8083016239182452 and parameters: {'n_estimators': 100, 'max_depth': 20, 'min_samples_leaf': 3}. Best is trial 1 with value: 0.8086765985526417.\n"
          ]
        },
        {
          "name": "stdout",
          "output_type": "stream",
          "text": [
            "CPU times: total: 1min 11s\n",
            "Wall time: 2min 36s\n"
          ]
        },
        {
          "data": {
            "text/html": [
              "<style>#sk-container-id-6 {color: black;background-color: white;}#sk-container-id-6 pre{padding: 0;}#sk-container-id-6 div.sk-toggleable {background-color: white;}#sk-container-id-6 label.sk-toggleable__label {cursor: pointer;display: block;width: 100%;margin-bottom: 0;padding: 0.3em;box-sizing: border-box;text-align: center;}#sk-container-id-6 label.sk-toggleable__label-arrow:before {content: \"▸\";float: left;margin-right: 0.25em;color: #696969;}#sk-container-id-6 label.sk-toggleable__label-arrow:hover:before {color: black;}#sk-container-id-6 div.sk-estimator:hover label.sk-toggleable__label-arrow:before {color: black;}#sk-container-id-6 div.sk-toggleable__content {max-height: 0;max-width: 0;overflow: hidden;text-align: left;background-color: #f0f8ff;}#sk-container-id-6 div.sk-toggleable__content pre {margin: 0.2em;color: black;border-radius: 0.25em;background-color: #f0f8ff;}#sk-container-id-6 input.sk-toggleable__control:checked~div.sk-toggleable__content {max-height: 200px;max-width: 100%;overflow: auto;}#sk-container-id-6 input.sk-toggleable__control:checked~label.sk-toggleable__label-arrow:before {content: \"▾\";}#sk-container-id-6 div.sk-estimator input.sk-toggleable__control:checked~label.sk-toggleable__label {background-color: #d4ebff;}#sk-container-id-6 div.sk-label input.sk-toggleable__control:checked~label.sk-toggleable__label {background-color: #d4ebff;}#sk-container-id-6 input.sk-hidden--visually {border: 0;clip: rect(1px 1px 1px 1px);clip: rect(1px, 1px, 1px, 1px);height: 1px;margin: -1px;overflow: hidden;padding: 0;position: absolute;width: 1px;}#sk-container-id-6 div.sk-estimator {font-family: monospace;background-color: #f0f8ff;border: 1px dotted black;border-radius: 0.25em;box-sizing: border-box;margin-bottom: 0.5em;}#sk-container-id-6 div.sk-estimator:hover {background-color: #d4ebff;}#sk-container-id-6 div.sk-parallel-item::after {content: \"\";width: 100%;border-bottom: 1px solid gray;flex-grow: 1;}#sk-container-id-6 div.sk-label:hover label.sk-toggleable__label {background-color: #d4ebff;}#sk-container-id-6 div.sk-serial::before {content: \"\";position: absolute;border-left: 1px solid gray;box-sizing: border-box;top: 0;bottom: 0;left: 50%;z-index: 0;}#sk-container-id-6 div.sk-serial {display: flex;flex-direction: column;align-items: center;background-color: white;padding-right: 0.2em;padding-left: 0.2em;position: relative;}#sk-container-id-6 div.sk-item {position: relative;z-index: 1;}#sk-container-id-6 div.sk-parallel {display: flex;align-items: stretch;justify-content: center;background-color: white;position: relative;}#sk-container-id-6 div.sk-item::before, #sk-container-id-6 div.sk-parallel-item::before {content: \"\";position: absolute;border-left: 1px solid gray;box-sizing: border-box;top: 0;bottom: 0;left: 50%;z-index: -1;}#sk-container-id-6 div.sk-parallel-item {display: flex;flex-direction: column;z-index: 1;position: relative;background-color: white;}#sk-container-id-6 div.sk-parallel-item:first-child::after {align-self: flex-end;width: 50%;}#sk-container-id-6 div.sk-parallel-item:last-child::after {align-self: flex-start;width: 50%;}#sk-container-id-6 div.sk-parallel-item:only-child::after {width: 0;}#sk-container-id-6 div.sk-dashed-wrapped {border: 1px dashed gray;margin: 0 0.4em 0.5em 0.4em;box-sizing: border-box;padding-bottom: 0.4em;background-color: white;}#sk-container-id-6 div.sk-label label {font-family: monospace;font-weight: bold;display: inline-block;line-height: 1.2em;}#sk-container-id-6 div.sk-label-container {text-align: center;}#sk-container-id-6 div.sk-container {/* jupyter's `normalize.less` sets `[hidden] { display: none; }` but bootstrap.min.css set `[hidden] { display: none !important; }` so we also need the `!important` here to be able to override the default hidden behavior on the sphinx rendered scikit-learn.org. See: https://github.com/scikit-learn/scikit-learn/issues/21755 */display: inline-block !important;position: relative;}#sk-container-id-6 div.sk-text-repr-fallback {display: none;}</style><div id=\"sk-container-id-6\" class=\"sk-top-container\"><div class=\"sk-text-repr-fallback\"><pre>RandomForestClassifier(max_depth=20, min_samples_leaf=3, n_estimators=120,\n",
              "                       random_state=42)</pre><b>In a Jupyter environment, please rerun this cell to show the HTML representation or trust the notebook. <br />On GitHub, the HTML representation is unable to render, please try loading this page with nbviewer.org.</b></div><div class=\"sk-container\" hidden><div class=\"sk-item\"><div class=\"sk-estimator sk-toggleable\"><input class=\"sk-toggleable__control sk-hidden--visually\" id=\"sk-estimator-id-6\" type=\"checkbox\" checked><label for=\"sk-estimator-id-6\" class=\"sk-toggleable__label sk-toggleable__label-arrow\">RandomForestClassifier</label><div class=\"sk-toggleable__content\"><pre>RandomForestClassifier(max_depth=20, min_samples_leaf=3, n_estimators=120,\n",
              "                       random_state=42)</pre></div></div></div></div></div>"
            ],
            "text/plain": [
              "RandomForestClassifier(max_depth=20, min_samples_leaf=3, n_estimators=120,\n",
              "                       random_state=42)"
            ]
          },
          "execution_count": 29,
          "metadata": {},
          "output_type": "execute_result"
        }
      ],
      "source": [
        "%%time\n",
        "# cоздаем объект исследования\n",
        "# можем напрямую указать, что нам необходимо максимизировать метрику direction=\"maximize\"\n",
        "study = optuna.create_study(study_name=\"RandomForestClassifier\", direction=\"maximize\")\n",
        "# ищем лучшую комбинацию гиперпараметров n_trials раз\n",
        "study.optimize(optuna_rf, n_trials=50)\n",
        "\n",
        "# строим и обучаем модель\n",
        "model_opt_rf = ensemble.RandomForestClassifier(**study.best_params,random_state=random_state)\n",
        "model_opt_rf.fit(X_train, y_train)"
      ]
    },
    {
      "cell_type": "code",
      "execution_count": 30,
      "id": "a63171c3",
      "metadata": {
        "id": "a63171c3"
      },
      "outputs": [
        {
          "name": "stdout",
          "output_type": "stream",
          "text": [
            "Наилучшие значения гиперпараметров {'n_estimators': 120, 'max_depth': 20, 'min_samples_leaf': 3}\n",
            "f1_score на обучающей выборке: 0.81\n",
            "f1_score на тестовой выборке: 0.83\n"
          ]
        }
      ],
      "source": [
        "# выведем наилучшие значения гиперпараметров и метрики\n",
        "print(\"Наилучшие значения гиперпараметров {}\".format(study.best_params))\n",
        "\n",
        "# выведим значения метрики\n",
        "print(\"f1_score на обучающей выборке: {:.2f}\".format(study.best_value))\n",
        "y_test_pred = model_opt_rf.predict(X_test)\n",
        "print('f1_score на тестовой выборке: {:.2f}'.format(metrics.f1_score(y_test, y_test_pred)))"
      ]
    },
    {
      "cell_type": "markdown",
      "id": "VmEnYQzmvgNa",
      "metadata": {
        "id": "VmEnYQzmvgNa"
      },
      "source": [
        "Рассмотрим различные визуализации для модели случайного леса, доступные через Optuna, которые помогают принимать лучшие решения, видеть влияние различных гиперпараметров на производительность модели.\n",
        "\n",
        "Сначало необходимо проверить, доступна ли поддержка визуализации: is_available (), т.е. доступны ли правильные версии plotly и matplotlib для создания визуализаций."
      ]
    },
    {
      "cell_type": "code",
      "execution_count": 31,
      "id": "86f0bdaa",
      "metadata": {
        "id": "86f0bdaa"
      },
      "outputs": [
        {
          "data": {
            "text/plain": [
              "True"
            ]
          },
          "execution_count": 31,
          "metadata": {},
          "output_type": "execute_result"
        }
      ],
      "source": [
        "optuna.visualization.is_available()"
      ]
    },
    {
      "cell_type": "markdown",
      "id": "1b958f5c",
      "metadata": {
        "id": "1b958f5c"
      },
      "source": [
        "График истории оптимизации - отображает количество испытаний на оси Х и метрику на оси Y.\n",
        "\n",
        "Следует использовать эту диаграмму, чтобы проверить, идет ли оптимизация гиперпараметров в правильном направлении или нет."
      ]
    },
    {
      "cell_type": "code",
      "execution_count": 32,
      "id": "62093586",
      "metadata": {
        "id": "62093586"
      },
      "outputs": [
        {
          "data": {
            "application/vnd.plotly.v1+json": {
              "config": {
                "plotlyServerURL": "https://plot.ly"
              },
              "data": [
                {
                  "mode": "markers",
                  "name": "f1_score",
                  "type": "scatter",
                  "x": [
                    0,
                    1,
                    2,
                    3,
                    4,
                    5,
                    6,
                    7,
                    8,
                    9,
                    10,
                    11,
                    12,
                    13,
                    14,
                    15,
                    16,
                    17,
                    18,
                    19,
                    20,
                    21,
                    22,
                    23,
                    24,
                    25,
                    26,
                    27,
                    28,
                    29,
                    30,
                    31,
                    32,
                    33,
                    34,
                    35,
                    36,
                    37,
                    38,
                    39,
                    40,
                    41,
                    42,
                    43,
                    44,
                    45,
                    46,
                    47,
                    48,
                    49
                  ],
                  "y": [
                    0.7906101910028582,
                    0.8086765985526417,
                    0.7906101910028582,
                    0.8006739006971187,
                    0.800298280095139,
                    0.7920059717337782,
                    0.7988625697162925,
                    0.8011554203317914,
                    0.8059509561702353,
                    0.8000000856982851,
                    0.8074162394007154,
                    0.8074162394007154,
                    0.8074162394007154,
                    0.8086765985526417,
                    0.8006515278640624,
                    0.8086765985526417,
                    0.8066807495839031,
                    0.7999023882577451,
                    0.806436507402515,
                    0.8006515278640624,
                    0.806436507402515,
                    0.8086765985526417,
                    0.7993108837029342,
                    0.8083016239182452,
                    0.7986900976174833,
                    0.7993108837029342,
                    0.8067047567378838,
                    0.79848423459968,
                    0.8086765985526417,
                    0.7980658687187026,
                    0.8001759180673765,
                    0.8086765985526417,
                    0.8074162394007154,
                    0.8086765985526417,
                    0.8006400667232466,
                    0.807808725171958,
                    0.7977761811883547,
                    0.7986900976174833,
                    0.8054826007754299,
                    0.8067047567378838,
                    0.785757760286157,
                    0.8086765985526417,
                    0.8086765985526417,
                    0.8042235272987135,
                    0.8054826007754299,
                    0.8086765985526417,
                    0.7994106039894661,
                    0.8054826007754299,
                    0.8086765985526417,
                    0.8083016239182452
                  ]
                },
                {
                  "mode": "lines",
                  "name": "Best Value",
                  "type": "scatter",
                  "x": [
                    0,
                    1,
                    2,
                    3,
                    4,
                    5,
                    6,
                    7,
                    8,
                    9,
                    10,
                    11,
                    12,
                    13,
                    14,
                    15,
                    16,
                    17,
                    18,
                    19,
                    20,
                    21,
                    22,
                    23,
                    24,
                    25,
                    26,
                    27,
                    28,
                    29,
                    30,
                    31,
                    32,
                    33,
                    34,
                    35,
                    36,
                    37,
                    38,
                    39,
                    40,
                    41,
                    42,
                    43,
                    44,
                    45,
                    46,
                    47,
                    48,
                    49
                  ],
                  "y": [
                    0.7906101910028582,
                    0.8086765985526417,
                    0.8086765985526417,
                    0.8086765985526417,
                    0.8086765985526417,
                    0.8086765985526417,
                    0.8086765985526417,
                    0.8086765985526417,
                    0.8086765985526417,
                    0.8086765985526417,
                    0.8086765985526417,
                    0.8086765985526417,
                    0.8086765985526417,
                    0.8086765985526417,
                    0.8086765985526417,
                    0.8086765985526417,
                    0.8086765985526417,
                    0.8086765985526417,
                    0.8086765985526417,
                    0.8086765985526417,
                    0.8086765985526417,
                    0.8086765985526417,
                    0.8086765985526417,
                    0.8086765985526417,
                    0.8086765985526417,
                    0.8086765985526417,
                    0.8086765985526417,
                    0.8086765985526417,
                    0.8086765985526417,
                    0.8086765985526417,
                    0.8086765985526417,
                    0.8086765985526417,
                    0.8086765985526417,
                    0.8086765985526417,
                    0.8086765985526417,
                    0.8086765985526417,
                    0.8086765985526417,
                    0.8086765985526417,
                    0.8086765985526417,
                    0.8086765985526417,
                    0.8086765985526417,
                    0.8086765985526417,
                    0.8086765985526417,
                    0.8086765985526417,
                    0.8086765985526417,
                    0.8086765985526417,
                    0.8086765985526417,
                    0.8086765985526417,
                    0.8086765985526417,
                    0.8086765985526417
                  ]
                },
                {
                  "marker": {
                    "color": "#cccccc"
                  },
                  "mode": "markers",
                  "name": "Infeasible Trial",
                  "showlegend": false,
                  "type": "scatter",
                  "x": [],
                  "y": []
                }
              ],
              "layout": {
                "template": {
                  "data": {
                    "bar": [
                      {
                        "error_x": {
                          "color": "#2a3f5f"
                        },
                        "error_y": {
                          "color": "#2a3f5f"
                        },
                        "marker": {
                          "line": {
                            "color": "#E5ECF6",
                            "width": 0.5
                          },
                          "pattern": {
                            "fillmode": "overlay",
                            "size": 10,
                            "solidity": 0.2
                          }
                        },
                        "type": "bar"
                      }
                    ],
                    "barpolar": [
                      {
                        "marker": {
                          "line": {
                            "color": "#E5ECF6",
                            "width": 0.5
                          },
                          "pattern": {
                            "fillmode": "overlay",
                            "size": 10,
                            "solidity": 0.2
                          }
                        },
                        "type": "barpolar"
                      }
                    ],
                    "carpet": [
                      {
                        "aaxis": {
                          "endlinecolor": "#2a3f5f",
                          "gridcolor": "white",
                          "linecolor": "white",
                          "minorgridcolor": "white",
                          "startlinecolor": "#2a3f5f"
                        },
                        "baxis": {
                          "endlinecolor": "#2a3f5f",
                          "gridcolor": "white",
                          "linecolor": "white",
                          "minorgridcolor": "white",
                          "startlinecolor": "#2a3f5f"
                        },
                        "type": "carpet"
                      }
                    ],
                    "choropleth": [
                      {
                        "colorbar": {
                          "outlinewidth": 0,
                          "ticks": ""
                        },
                        "type": "choropleth"
                      }
                    ],
                    "contour": [
                      {
                        "colorbar": {
                          "outlinewidth": 0,
                          "ticks": ""
                        },
                        "colorscale": [
                          [
                            0,
                            "#0d0887"
                          ],
                          [
                            0.1111111111111111,
                            "#46039f"
                          ],
                          [
                            0.2222222222222222,
                            "#7201a8"
                          ],
                          [
                            0.3333333333333333,
                            "#9c179e"
                          ],
                          [
                            0.4444444444444444,
                            "#bd3786"
                          ],
                          [
                            0.5555555555555556,
                            "#d8576b"
                          ],
                          [
                            0.6666666666666666,
                            "#ed7953"
                          ],
                          [
                            0.7777777777777778,
                            "#fb9f3a"
                          ],
                          [
                            0.8888888888888888,
                            "#fdca26"
                          ],
                          [
                            1,
                            "#f0f921"
                          ]
                        ],
                        "type": "contour"
                      }
                    ],
                    "contourcarpet": [
                      {
                        "colorbar": {
                          "outlinewidth": 0,
                          "ticks": ""
                        },
                        "type": "contourcarpet"
                      }
                    ],
                    "heatmap": [
                      {
                        "colorbar": {
                          "outlinewidth": 0,
                          "ticks": ""
                        },
                        "colorscale": [
                          [
                            0,
                            "#0d0887"
                          ],
                          [
                            0.1111111111111111,
                            "#46039f"
                          ],
                          [
                            0.2222222222222222,
                            "#7201a8"
                          ],
                          [
                            0.3333333333333333,
                            "#9c179e"
                          ],
                          [
                            0.4444444444444444,
                            "#bd3786"
                          ],
                          [
                            0.5555555555555556,
                            "#d8576b"
                          ],
                          [
                            0.6666666666666666,
                            "#ed7953"
                          ],
                          [
                            0.7777777777777778,
                            "#fb9f3a"
                          ],
                          [
                            0.8888888888888888,
                            "#fdca26"
                          ],
                          [
                            1,
                            "#f0f921"
                          ]
                        ],
                        "type": "heatmap"
                      }
                    ],
                    "heatmapgl": [
                      {
                        "colorbar": {
                          "outlinewidth": 0,
                          "ticks": ""
                        },
                        "colorscale": [
                          [
                            0,
                            "#0d0887"
                          ],
                          [
                            0.1111111111111111,
                            "#46039f"
                          ],
                          [
                            0.2222222222222222,
                            "#7201a8"
                          ],
                          [
                            0.3333333333333333,
                            "#9c179e"
                          ],
                          [
                            0.4444444444444444,
                            "#bd3786"
                          ],
                          [
                            0.5555555555555556,
                            "#d8576b"
                          ],
                          [
                            0.6666666666666666,
                            "#ed7953"
                          ],
                          [
                            0.7777777777777778,
                            "#fb9f3a"
                          ],
                          [
                            0.8888888888888888,
                            "#fdca26"
                          ],
                          [
                            1,
                            "#f0f921"
                          ]
                        ],
                        "type": "heatmapgl"
                      }
                    ],
                    "histogram": [
                      {
                        "marker": {
                          "pattern": {
                            "fillmode": "overlay",
                            "size": 10,
                            "solidity": 0.2
                          }
                        },
                        "type": "histogram"
                      }
                    ],
                    "histogram2d": [
                      {
                        "colorbar": {
                          "outlinewidth": 0,
                          "ticks": ""
                        },
                        "colorscale": [
                          [
                            0,
                            "#0d0887"
                          ],
                          [
                            0.1111111111111111,
                            "#46039f"
                          ],
                          [
                            0.2222222222222222,
                            "#7201a8"
                          ],
                          [
                            0.3333333333333333,
                            "#9c179e"
                          ],
                          [
                            0.4444444444444444,
                            "#bd3786"
                          ],
                          [
                            0.5555555555555556,
                            "#d8576b"
                          ],
                          [
                            0.6666666666666666,
                            "#ed7953"
                          ],
                          [
                            0.7777777777777778,
                            "#fb9f3a"
                          ],
                          [
                            0.8888888888888888,
                            "#fdca26"
                          ],
                          [
                            1,
                            "#f0f921"
                          ]
                        ],
                        "type": "histogram2d"
                      }
                    ],
                    "histogram2dcontour": [
                      {
                        "colorbar": {
                          "outlinewidth": 0,
                          "ticks": ""
                        },
                        "colorscale": [
                          [
                            0,
                            "#0d0887"
                          ],
                          [
                            0.1111111111111111,
                            "#46039f"
                          ],
                          [
                            0.2222222222222222,
                            "#7201a8"
                          ],
                          [
                            0.3333333333333333,
                            "#9c179e"
                          ],
                          [
                            0.4444444444444444,
                            "#bd3786"
                          ],
                          [
                            0.5555555555555556,
                            "#d8576b"
                          ],
                          [
                            0.6666666666666666,
                            "#ed7953"
                          ],
                          [
                            0.7777777777777778,
                            "#fb9f3a"
                          ],
                          [
                            0.8888888888888888,
                            "#fdca26"
                          ],
                          [
                            1,
                            "#f0f921"
                          ]
                        ],
                        "type": "histogram2dcontour"
                      }
                    ],
                    "mesh3d": [
                      {
                        "colorbar": {
                          "outlinewidth": 0,
                          "ticks": ""
                        },
                        "type": "mesh3d"
                      }
                    ],
                    "parcoords": [
                      {
                        "line": {
                          "colorbar": {
                            "outlinewidth": 0,
                            "ticks": ""
                          }
                        },
                        "type": "parcoords"
                      }
                    ],
                    "pie": [
                      {
                        "automargin": true,
                        "type": "pie"
                      }
                    ],
                    "scatter": [
                      {
                        "fillpattern": {
                          "fillmode": "overlay",
                          "size": 10,
                          "solidity": 0.2
                        },
                        "type": "scatter"
                      }
                    ],
                    "scatter3d": [
                      {
                        "line": {
                          "colorbar": {
                            "outlinewidth": 0,
                            "ticks": ""
                          }
                        },
                        "marker": {
                          "colorbar": {
                            "outlinewidth": 0,
                            "ticks": ""
                          }
                        },
                        "type": "scatter3d"
                      }
                    ],
                    "scattercarpet": [
                      {
                        "marker": {
                          "colorbar": {
                            "outlinewidth": 0,
                            "ticks": ""
                          }
                        },
                        "type": "scattercarpet"
                      }
                    ],
                    "scattergeo": [
                      {
                        "marker": {
                          "colorbar": {
                            "outlinewidth": 0,
                            "ticks": ""
                          }
                        },
                        "type": "scattergeo"
                      }
                    ],
                    "scattergl": [
                      {
                        "marker": {
                          "colorbar": {
                            "outlinewidth": 0,
                            "ticks": ""
                          }
                        },
                        "type": "scattergl"
                      }
                    ],
                    "scattermapbox": [
                      {
                        "marker": {
                          "colorbar": {
                            "outlinewidth": 0,
                            "ticks": ""
                          }
                        },
                        "type": "scattermapbox"
                      }
                    ],
                    "scatterpolar": [
                      {
                        "marker": {
                          "colorbar": {
                            "outlinewidth": 0,
                            "ticks": ""
                          }
                        },
                        "type": "scatterpolar"
                      }
                    ],
                    "scatterpolargl": [
                      {
                        "marker": {
                          "colorbar": {
                            "outlinewidth": 0,
                            "ticks": ""
                          }
                        },
                        "type": "scatterpolargl"
                      }
                    ],
                    "scatterternary": [
                      {
                        "marker": {
                          "colorbar": {
                            "outlinewidth": 0,
                            "ticks": ""
                          }
                        },
                        "type": "scatterternary"
                      }
                    ],
                    "surface": [
                      {
                        "colorbar": {
                          "outlinewidth": 0,
                          "ticks": ""
                        },
                        "colorscale": [
                          [
                            0,
                            "#0d0887"
                          ],
                          [
                            0.1111111111111111,
                            "#46039f"
                          ],
                          [
                            0.2222222222222222,
                            "#7201a8"
                          ],
                          [
                            0.3333333333333333,
                            "#9c179e"
                          ],
                          [
                            0.4444444444444444,
                            "#bd3786"
                          ],
                          [
                            0.5555555555555556,
                            "#d8576b"
                          ],
                          [
                            0.6666666666666666,
                            "#ed7953"
                          ],
                          [
                            0.7777777777777778,
                            "#fb9f3a"
                          ],
                          [
                            0.8888888888888888,
                            "#fdca26"
                          ],
                          [
                            1,
                            "#f0f921"
                          ]
                        ],
                        "type": "surface"
                      }
                    ],
                    "table": [
                      {
                        "cells": {
                          "fill": {
                            "color": "#EBF0F8"
                          },
                          "line": {
                            "color": "white"
                          }
                        },
                        "header": {
                          "fill": {
                            "color": "#C8D4E3"
                          },
                          "line": {
                            "color": "white"
                          }
                        },
                        "type": "table"
                      }
                    ]
                  },
                  "layout": {
                    "annotationdefaults": {
                      "arrowcolor": "#2a3f5f",
                      "arrowhead": 0,
                      "arrowwidth": 1
                    },
                    "autotypenumbers": "strict",
                    "coloraxis": {
                      "colorbar": {
                        "outlinewidth": 0,
                        "ticks": ""
                      }
                    },
                    "colorscale": {
                      "diverging": [
                        [
                          0,
                          "#8e0152"
                        ],
                        [
                          0.1,
                          "#c51b7d"
                        ],
                        [
                          0.2,
                          "#de77ae"
                        ],
                        [
                          0.3,
                          "#f1b6da"
                        ],
                        [
                          0.4,
                          "#fde0ef"
                        ],
                        [
                          0.5,
                          "#f7f7f7"
                        ],
                        [
                          0.6,
                          "#e6f5d0"
                        ],
                        [
                          0.7,
                          "#b8e186"
                        ],
                        [
                          0.8,
                          "#7fbc41"
                        ],
                        [
                          0.9,
                          "#4d9221"
                        ],
                        [
                          1,
                          "#276419"
                        ]
                      ],
                      "sequential": [
                        [
                          0,
                          "#0d0887"
                        ],
                        [
                          0.1111111111111111,
                          "#46039f"
                        ],
                        [
                          0.2222222222222222,
                          "#7201a8"
                        ],
                        [
                          0.3333333333333333,
                          "#9c179e"
                        ],
                        [
                          0.4444444444444444,
                          "#bd3786"
                        ],
                        [
                          0.5555555555555556,
                          "#d8576b"
                        ],
                        [
                          0.6666666666666666,
                          "#ed7953"
                        ],
                        [
                          0.7777777777777778,
                          "#fb9f3a"
                        ],
                        [
                          0.8888888888888888,
                          "#fdca26"
                        ],
                        [
                          1,
                          "#f0f921"
                        ]
                      ],
                      "sequentialminus": [
                        [
                          0,
                          "#0d0887"
                        ],
                        [
                          0.1111111111111111,
                          "#46039f"
                        ],
                        [
                          0.2222222222222222,
                          "#7201a8"
                        ],
                        [
                          0.3333333333333333,
                          "#9c179e"
                        ],
                        [
                          0.4444444444444444,
                          "#bd3786"
                        ],
                        [
                          0.5555555555555556,
                          "#d8576b"
                        ],
                        [
                          0.6666666666666666,
                          "#ed7953"
                        ],
                        [
                          0.7777777777777778,
                          "#fb9f3a"
                        ],
                        [
                          0.8888888888888888,
                          "#fdca26"
                        ],
                        [
                          1,
                          "#f0f921"
                        ]
                      ]
                    },
                    "colorway": [
                      "#636efa",
                      "#EF553B",
                      "#00cc96",
                      "#ab63fa",
                      "#FFA15A",
                      "#19d3f3",
                      "#FF6692",
                      "#B6E880",
                      "#FF97FF",
                      "#FECB52"
                    ],
                    "font": {
                      "color": "#2a3f5f"
                    },
                    "geo": {
                      "bgcolor": "white",
                      "lakecolor": "white",
                      "landcolor": "#E5ECF6",
                      "showlakes": true,
                      "showland": true,
                      "subunitcolor": "white"
                    },
                    "hoverlabel": {
                      "align": "left"
                    },
                    "hovermode": "closest",
                    "mapbox": {
                      "style": "light"
                    },
                    "paper_bgcolor": "white",
                    "plot_bgcolor": "#E5ECF6",
                    "polar": {
                      "angularaxis": {
                        "gridcolor": "white",
                        "linecolor": "white",
                        "ticks": ""
                      },
                      "bgcolor": "#E5ECF6",
                      "radialaxis": {
                        "gridcolor": "white",
                        "linecolor": "white",
                        "ticks": ""
                      }
                    },
                    "scene": {
                      "xaxis": {
                        "backgroundcolor": "#E5ECF6",
                        "gridcolor": "white",
                        "gridwidth": 2,
                        "linecolor": "white",
                        "showbackground": true,
                        "ticks": "",
                        "zerolinecolor": "white"
                      },
                      "yaxis": {
                        "backgroundcolor": "#E5ECF6",
                        "gridcolor": "white",
                        "gridwidth": 2,
                        "linecolor": "white",
                        "showbackground": true,
                        "ticks": "",
                        "zerolinecolor": "white"
                      },
                      "zaxis": {
                        "backgroundcolor": "#E5ECF6",
                        "gridcolor": "white",
                        "gridwidth": 2,
                        "linecolor": "white",
                        "showbackground": true,
                        "ticks": "",
                        "zerolinecolor": "white"
                      }
                    },
                    "shapedefaults": {
                      "line": {
                        "color": "#2a3f5f"
                      }
                    },
                    "ternary": {
                      "aaxis": {
                        "gridcolor": "white",
                        "linecolor": "white",
                        "ticks": ""
                      },
                      "baxis": {
                        "gridcolor": "white",
                        "linecolor": "white",
                        "ticks": ""
                      },
                      "bgcolor": "#E5ECF6",
                      "caxis": {
                        "gridcolor": "white",
                        "linecolor": "white",
                        "ticks": ""
                      }
                    },
                    "title": {
                      "x": 0.05
                    },
                    "xaxis": {
                      "automargin": true,
                      "gridcolor": "white",
                      "linecolor": "white",
                      "ticks": "",
                      "title": {
                        "standoff": 15
                      },
                      "zerolinecolor": "white",
                      "zerolinewidth": 2
                    },
                    "yaxis": {
                      "automargin": true,
                      "gridcolor": "white",
                      "linecolor": "white",
                      "ticks": "",
                      "title": {
                        "standoff": 15
                      },
                      "zerolinecolor": "white",
                      "zerolinewidth": 2
                    }
                  }
                },
                "title": {
                  "text": "Optimization History Plot"
                },
                "xaxis": {
                  "title": {
                    "text": "Trial"
                  }
                },
                "yaxis": {
                  "title": {
                    "text": "f1_score"
                  }
                }
              }
            }
          },
          "metadata": {},
          "output_type": "display_data"
        }
      ],
      "source": [
        "optuna.visualization.plot_optimization_history(study, target_name=\"f1_score\")"
      ]
    },
    {
      "cell_type": "markdown",
      "id": "d16TJE58x925",
      "metadata": {
        "id": "d16TJE58x925"
      },
      "source": [
        "В нашем случае, все идет верно, метрика максимизируется."
      ]
    },
    {
      "cell_type": "markdown",
      "id": "asr2cGgsyZk9",
      "metadata": {
        "id": "asr2cGgsyZk9"
      },
      "source": [
        "График важности гиперпараметров - помогает понять, какие гиперпараметры вносят больший вклад в минимизацию/максимизацию метрики."
      ]
    },
    {
      "cell_type": "code",
      "execution_count": 33,
      "id": "xP9C7m9nx5tE",
      "metadata": {
        "id": "xP9C7m9nx5tE"
      },
      "outputs": [
        {
          "data": {
            "application/vnd.plotly.v1+json": {
              "config": {
                "plotlyServerURL": "https://plot.ly"
              },
              "data": [
                {
                  "cliponaxis": false,
                  "hovertemplate": [
                    "n_estimators (IntDistribution): 0.016861113010997342<extra></extra>",
                    "min_samples_leaf (IntDistribution): 0.4311183294467048<extra></extra>",
                    "max_depth (IntDistribution): 0.552020557542298<extra></extra>"
                  ],
                  "marker": {
                    "color": "rgb(66,146,198)"
                  },
                  "orientation": "h",
                  "text": [
                    "0.02",
                    "0.43",
                    "0.55"
                  ],
                  "textposition": "outside",
                  "type": "bar",
                  "x": [
                    0.016861113010997342,
                    0.4311183294467048,
                    0.552020557542298
                  ],
                  "y": [
                    "n_estimators",
                    "min_samples_leaf",
                    "max_depth"
                  ]
                }
              ],
              "layout": {
                "showlegend": false,
                "template": {
                  "data": {
                    "bar": [
                      {
                        "error_x": {
                          "color": "#2a3f5f"
                        },
                        "error_y": {
                          "color": "#2a3f5f"
                        },
                        "marker": {
                          "line": {
                            "color": "#E5ECF6",
                            "width": 0.5
                          },
                          "pattern": {
                            "fillmode": "overlay",
                            "size": 10,
                            "solidity": 0.2
                          }
                        },
                        "type": "bar"
                      }
                    ],
                    "barpolar": [
                      {
                        "marker": {
                          "line": {
                            "color": "#E5ECF6",
                            "width": 0.5
                          },
                          "pattern": {
                            "fillmode": "overlay",
                            "size": 10,
                            "solidity": 0.2
                          }
                        },
                        "type": "barpolar"
                      }
                    ],
                    "carpet": [
                      {
                        "aaxis": {
                          "endlinecolor": "#2a3f5f",
                          "gridcolor": "white",
                          "linecolor": "white",
                          "minorgridcolor": "white",
                          "startlinecolor": "#2a3f5f"
                        },
                        "baxis": {
                          "endlinecolor": "#2a3f5f",
                          "gridcolor": "white",
                          "linecolor": "white",
                          "minorgridcolor": "white",
                          "startlinecolor": "#2a3f5f"
                        },
                        "type": "carpet"
                      }
                    ],
                    "choropleth": [
                      {
                        "colorbar": {
                          "outlinewidth": 0,
                          "ticks": ""
                        },
                        "type": "choropleth"
                      }
                    ],
                    "contour": [
                      {
                        "colorbar": {
                          "outlinewidth": 0,
                          "ticks": ""
                        },
                        "colorscale": [
                          [
                            0,
                            "#0d0887"
                          ],
                          [
                            0.1111111111111111,
                            "#46039f"
                          ],
                          [
                            0.2222222222222222,
                            "#7201a8"
                          ],
                          [
                            0.3333333333333333,
                            "#9c179e"
                          ],
                          [
                            0.4444444444444444,
                            "#bd3786"
                          ],
                          [
                            0.5555555555555556,
                            "#d8576b"
                          ],
                          [
                            0.6666666666666666,
                            "#ed7953"
                          ],
                          [
                            0.7777777777777778,
                            "#fb9f3a"
                          ],
                          [
                            0.8888888888888888,
                            "#fdca26"
                          ],
                          [
                            1,
                            "#f0f921"
                          ]
                        ],
                        "type": "contour"
                      }
                    ],
                    "contourcarpet": [
                      {
                        "colorbar": {
                          "outlinewidth": 0,
                          "ticks": ""
                        },
                        "type": "contourcarpet"
                      }
                    ],
                    "heatmap": [
                      {
                        "colorbar": {
                          "outlinewidth": 0,
                          "ticks": ""
                        },
                        "colorscale": [
                          [
                            0,
                            "#0d0887"
                          ],
                          [
                            0.1111111111111111,
                            "#46039f"
                          ],
                          [
                            0.2222222222222222,
                            "#7201a8"
                          ],
                          [
                            0.3333333333333333,
                            "#9c179e"
                          ],
                          [
                            0.4444444444444444,
                            "#bd3786"
                          ],
                          [
                            0.5555555555555556,
                            "#d8576b"
                          ],
                          [
                            0.6666666666666666,
                            "#ed7953"
                          ],
                          [
                            0.7777777777777778,
                            "#fb9f3a"
                          ],
                          [
                            0.8888888888888888,
                            "#fdca26"
                          ],
                          [
                            1,
                            "#f0f921"
                          ]
                        ],
                        "type": "heatmap"
                      }
                    ],
                    "heatmapgl": [
                      {
                        "colorbar": {
                          "outlinewidth": 0,
                          "ticks": ""
                        },
                        "colorscale": [
                          [
                            0,
                            "#0d0887"
                          ],
                          [
                            0.1111111111111111,
                            "#46039f"
                          ],
                          [
                            0.2222222222222222,
                            "#7201a8"
                          ],
                          [
                            0.3333333333333333,
                            "#9c179e"
                          ],
                          [
                            0.4444444444444444,
                            "#bd3786"
                          ],
                          [
                            0.5555555555555556,
                            "#d8576b"
                          ],
                          [
                            0.6666666666666666,
                            "#ed7953"
                          ],
                          [
                            0.7777777777777778,
                            "#fb9f3a"
                          ],
                          [
                            0.8888888888888888,
                            "#fdca26"
                          ],
                          [
                            1,
                            "#f0f921"
                          ]
                        ],
                        "type": "heatmapgl"
                      }
                    ],
                    "histogram": [
                      {
                        "marker": {
                          "pattern": {
                            "fillmode": "overlay",
                            "size": 10,
                            "solidity": 0.2
                          }
                        },
                        "type": "histogram"
                      }
                    ],
                    "histogram2d": [
                      {
                        "colorbar": {
                          "outlinewidth": 0,
                          "ticks": ""
                        },
                        "colorscale": [
                          [
                            0,
                            "#0d0887"
                          ],
                          [
                            0.1111111111111111,
                            "#46039f"
                          ],
                          [
                            0.2222222222222222,
                            "#7201a8"
                          ],
                          [
                            0.3333333333333333,
                            "#9c179e"
                          ],
                          [
                            0.4444444444444444,
                            "#bd3786"
                          ],
                          [
                            0.5555555555555556,
                            "#d8576b"
                          ],
                          [
                            0.6666666666666666,
                            "#ed7953"
                          ],
                          [
                            0.7777777777777778,
                            "#fb9f3a"
                          ],
                          [
                            0.8888888888888888,
                            "#fdca26"
                          ],
                          [
                            1,
                            "#f0f921"
                          ]
                        ],
                        "type": "histogram2d"
                      }
                    ],
                    "histogram2dcontour": [
                      {
                        "colorbar": {
                          "outlinewidth": 0,
                          "ticks": ""
                        },
                        "colorscale": [
                          [
                            0,
                            "#0d0887"
                          ],
                          [
                            0.1111111111111111,
                            "#46039f"
                          ],
                          [
                            0.2222222222222222,
                            "#7201a8"
                          ],
                          [
                            0.3333333333333333,
                            "#9c179e"
                          ],
                          [
                            0.4444444444444444,
                            "#bd3786"
                          ],
                          [
                            0.5555555555555556,
                            "#d8576b"
                          ],
                          [
                            0.6666666666666666,
                            "#ed7953"
                          ],
                          [
                            0.7777777777777778,
                            "#fb9f3a"
                          ],
                          [
                            0.8888888888888888,
                            "#fdca26"
                          ],
                          [
                            1,
                            "#f0f921"
                          ]
                        ],
                        "type": "histogram2dcontour"
                      }
                    ],
                    "mesh3d": [
                      {
                        "colorbar": {
                          "outlinewidth": 0,
                          "ticks": ""
                        },
                        "type": "mesh3d"
                      }
                    ],
                    "parcoords": [
                      {
                        "line": {
                          "colorbar": {
                            "outlinewidth": 0,
                            "ticks": ""
                          }
                        },
                        "type": "parcoords"
                      }
                    ],
                    "pie": [
                      {
                        "automargin": true,
                        "type": "pie"
                      }
                    ],
                    "scatter": [
                      {
                        "fillpattern": {
                          "fillmode": "overlay",
                          "size": 10,
                          "solidity": 0.2
                        },
                        "type": "scatter"
                      }
                    ],
                    "scatter3d": [
                      {
                        "line": {
                          "colorbar": {
                            "outlinewidth": 0,
                            "ticks": ""
                          }
                        },
                        "marker": {
                          "colorbar": {
                            "outlinewidth": 0,
                            "ticks": ""
                          }
                        },
                        "type": "scatter3d"
                      }
                    ],
                    "scattercarpet": [
                      {
                        "marker": {
                          "colorbar": {
                            "outlinewidth": 0,
                            "ticks": ""
                          }
                        },
                        "type": "scattercarpet"
                      }
                    ],
                    "scattergeo": [
                      {
                        "marker": {
                          "colorbar": {
                            "outlinewidth": 0,
                            "ticks": ""
                          }
                        },
                        "type": "scattergeo"
                      }
                    ],
                    "scattergl": [
                      {
                        "marker": {
                          "colorbar": {
                            "outlinewidth": 0,
                            "ticks": ""
                          }
                        },
                        "type": "scattergl"
                      }
                    ],
                    "scattermapbox": [
                      {
                        "marker": {
                          "colorbar": {
                            "outlinewidth": 0,
                            "ticks": ""
                          }
                        },
                        "type": "scattermapbox"
                      }
                    ],
                    "scatterpolar": [
                      {
                        "marker": {
                          "colorbar": {
                            "outlinewidth": 0,
                            "ticks": ""
                          }
                        },
                        "type": "scatterpolar"
                      }
                    ],
                    "scatterpolargl": [
                      {
                        "marker": {
                          "colorbar": {
                            "outlinewidth": 0,
                            "ticks": ""
                          }
                        },
                        "type": "scatterpolargl"
                      }
                    ],
                    "scatterternary": [
                      {
                        "marker": {
                          "colorbar": {
                            "outlinewidth": 0,
                            "ticks": ""
                          }
                        },
                        "type": "scatterternary"
                      }
                    ],
                    "surface": [
                      {
                        "colorbar": {
                          "outlinewidth": 0,
                          "ticks": ""
                        },
                        "colorscale": [
                          [
                            0,
                            "#0d0887"
                          ],
                          [
                            0.1111111111111111,
                            "#46039f"
                          ],
                          [
                            0.2222222222222222,
                            "#7201a8"
                          ],
                          [
                            0.3333333333333333,
                            "#9c179e"
                          ],
                          [
                            0.4444444444444444,
                            "#bd3786"
                          ],
                          [
                            0.5555555555555556,
                            "#d8576b"
                          ],
                          [
                            0.6666666666666666,
                            "#ed7953"
                          ],
                          [
                            0.7777777777777778,
                            "#fb9f3a"
                          ],
                          [
                            0.8888888888888888,
                            "#fdca26"
                          ],
                          [
                            1,
                            "#f0f921"
                          ]
                        ],
                        "type": "surface"
                      }
                    ],
                    "table": [
                      {
                        "cells": {
                          "fill": {
                            "color": "#EBF0F8"
                          },
                          "line": {
                            "color": "white"
                          }
                        },
                        "header": {
                          "fill": {
                            "color": "#C8D4E3"
                          },
                          "line": {
                            "color": "white"
                          }
                        },
                        "type": "table"
                      }
                    ]
                  },
                  "layout": {
                    "annotationdefaults": {
                      "arrowcolor": "#2a3f5f",
                      "arrowhead": 0,
                      "arrowwidth": 1
                    },
                    "autotypenumbers": "strict",
                    "coloraxis": {
                      "colorbar": {
                        "outlinewidth": 0,
                        "ticks": ""
                      }
                    },
                    "colorscale": {
                      "diverging": [
                        [
                          0,
                          "#8e0152"
                        ],
                        [
                          0.1,
                          "#c51b7d"
                        ],
                        [
                          0.2,
                          "#de77ae"
                        ],
                        [
                          0.3,
                          "#f1b6da"
                        ],
                        [
                          0.4,
                          "#fde0ef"
                        ],
                        [
                          0.5,
                          "#f7f7f7"
                        ],
                        [
                          0.6,
                          "#e6f5d0"
                        ],
                        [
                          0.7,
                          "#b8e186"
                        ],
                        [
                          0.8,
                          "#7fbc41"
                        ],
                        [
                          0.9,
                          "#4d9221"
                        ],
                        [
                          1,
                          "#276419"
                        ]
                      ],
                      "sequential": [
                        [
                          0,
                          "#0d0887"
                        ],
                        [
                          0.1111111111111111,
                          "#46039f"
                        ],
                        [
                          0.2222222222222222,
                          "#7201a8"
                        ],
                        [
                          0.3333333333333333,
                          "#9c179e"
                        ],
                        [
                          0.4444444444444444,
                          "#bd3786"
                        ],
                        [
                          0.5555555555555556,
                          "#d8576b"
                        ],
                        [
                          0.6666666666666666,
                          "#ed7953"
                        ],
                        [
                          0.7777777777777778,
                          "#fb9f3a"
                        ],
                        [
                          0.8888888888888888,
                          "#fdca26"
                        ],
                        [
                          1,
                          "#f0f921"
                        ]
                      ],
                      "sequentialminus": [
                        [
                          0,
                          "#0d0887"
                        ],
                        [
                          0.1111111111111111,
                          "#46039f"
                        ],
                        [
                          0.2222222222222222,
                          "#7201a8"
                        ],
                        [
                          0.3333333333333333,
                          "#9c179e"
                        ],
                        [
                          0.4444444444444444,
                          "#bd3786"
                        ],
                        [
                          0.5555555555555556,
                          "#d8576b"
                        ],
                        [
                          0.6666666666666666,
                          "#ed7953"
                        ],
                        [
                          0.7777777777777778,
                          "#fb9f3a"
                        ],
                        [
                          0.8888888888888888,
                          "#fdca26"
                        ],
                        [
                          1,
                          "#f0f921"
                        ]
                      ]
                    },
                    "colorway": [
                      "#636efa",
                      "#EF553B",
                      "#00cc96",
                      "#ab63fa",
                      "#FFA15A",
                      "#19d3f3",
                      "#FF6692",
                      "#B6E880",
                      "#FF97FF",
                      "#FECB52"
                    ],
                    "font": {
                      "color": "#2a3f5f"
                    },
                    "geo": {
                      "bgcolor": "white",
                      "lakecolor": "white",
                      "landcolor": "#E5ECF6",
                      "showlakes": true,
                      "showland": true,
                      "subunitcolor": "white"
                    },
                    "hoverlabel": {
                      "align": "left"
                    },
                    "hovermode": "closest",
                    "mapbox": {
                      "style": "light"
                    },
                    "paper_bgcolor": "white",
                    "plot_bgcolor": "#E5ECF6",
                    "polar": {
                      "angularaxis": {
                        "gridcolor": "white",
                        "linecolor": "white",
                        "ticks": ""
                      },
                      "bgcolor": "#E5ECF6",
                      "radialaxis": {
                        "gridcolor": "white",
                        "linecolor": "white",
                        "ticks": ""
                      }
                    },
                    "scene": {
                      "xaxis": {
                        "backgroundcolor": "#E5ECF6",
                        "gridcolor": "white",
                        "gridwidth": 2,
                        "linecolor": "white",
                        "showbackground": true,
                        "ticks": "",
                        "zerolinecolor": "white"
                      },
                      "yaxis": {
                        "backgroundcolor": "#E5ECF6",
                        "gridcolor": "white",
                        "gridwidth": 2,
                        "linecolor": "white",
                        "showbackground": true,
                        "ticks": "",
                        "zerolinecolor": "white"
                      },
                      "zaxis": {
                        "backgroundcolor": "#E5ECF6",
                        "gridcolor": "white",
                        "gridwidth": 2,
                        "linecolor": "white",
                        "showbackground": true,
                        "ticks": "",
                        "zerolinecolor": "white"
                      }
                    },
                    "shapedefaults": {
                      "line": {
                        "color": "#2a3f5f"
                      }
                    },
                    "ternary": {
                      "aaxis": {
                        "gridcolor": "white",
                        "linecolor": "white",
                        "ticks": ""
                      },
                      "baxis": {
                        "gridcolor": "white",
                        "linecolor": "white",
                        "ticks": ""
                      },
                      "bgcolor": "#E5ECF6",
                      "caxis": {
                        "gridcolor": "white",
                        "linecolor": "white",
                        "ticks": ""
                      }
                    },
                    "title": {
                      "x": 0.05
                    },
                    "xaxis": {
                      "automargin": true,
                      "gridcolor": "white",
                      "linecolor": "white",
                      "ticks": "",
                      "title": {
                        "standoff": 15
                      },
                      "zerolinecolor": "white",
                      "zerolinewidth": 2
                    },
                    "yaxis": {
                      "automargin": true,
                      "gridcolor": "white",
                      "linecolor": "white",
                      "ticks": "",
                      "title": {
                        "standoff": 15
                      },
                      "zerolinecolor": "white",
                      "zerolinewidth": 2
                    }
                  }
                },
                "title": {
                  "text": "Hyperparameter Importances"
                },
                "xaxis": {
                  "title": {
                    "text": "Importance for f1_score"
                  }
                },
                "yaxis": {
                  "title": {
                    "text": "Hyperparameter"
                  }
                }
              }
            }
          },
          "metadata": {},
          "output_type": "display_data"
        }
      ],
      "source": [
        "optuna.visualization.plot_param_importances(study, target_name=\"f1_score\")"
      ]
    },
    {
      "attachments": {},
      "cell_type": "markdown",
      "id": "iJJBn2LrzRJF",
      "metadata": {
        "id": "iJJBn2LrzRJF"
      },
      "source": [
        "Из этого графика можно сделать вывод, что стоит обратить большее внимание на настройку гиперпараметров max_depth и min_sampeles_leaf"
      ]
    },
    {
      "cell_type": "markdown",
      "id": "4cee861f",
      "metadata": {
        "id": "4cee861f"
      },
      "source": [
        "# **Выводы**\n",
        "По итогу обучения двух моделей: логистическая регрессия и случайный лес, и подбора гиперпараметров с помощью базовых и продвинутых методов оптимизации, получились следующие результаты:\n"
      ]
    },
    {
      "attachments": {},
      "cell_type": "markdown",
      "id": "MpIxnGtvbUBa",
      "metadata": {
        "id": "MpIxnGtvbUBa"
      },
      "source": [
        "**Логистическая регрессия**\n",
        "\n",
        "- параметры по умолчанию:\n",
        "Wall time: 187 ms,\n",
        "F1_Test: 0.79\n",
        "\n",
        "- GridSearchCV:\n",
        "Наилучшие значения гиперпараметров: {'C': 0.12, 'penalty': 'l2', 'solver': 'newton-cg'},\n",
        "Wall time: 7min 9s,\n",
        "F1_Test: 0.79\n",
        "\n",
        "- RandomizedSearchCV:\n",
        "Наилучшие значения гиперпараметров: {'solver': 'saga', 'penalty': 'l2', 'C': 0.12},\n",
        "Wall time: 2min 40s,\n",
        "F1_Test: 0.79\n",
        "\n",
        "- Hyperopt:\n",
        "Наилучшие значения гиперпараметров_1 {'C': 0.02, 'penalty': 'l2', 'solver': 'lbfgs'},\n",
        "Wall time: 5min 17s,\n",
        "F1_Test: 0.79\n",
        "\n",
        "- Optuna:\n",
        "Наилучшие значения гиперпараметров {'penalty': 'l2', 'solver': 'sag', 'C': 0.03},\n",
        "Wall time: 6min 53s,\n",
        "F1_Test: 0.80"
      ]
    },
    {
      "attachments": {},
      "cell_type": "markdown",
      "id": "gIzmNOW7djIG",
      "metadata": {
        "id": "gIzmNOW7djIG"
      },
      "source": [
        "**Случайный лес**\n",
        "\n",
        "- параметры по умолчанию:\n",
        "Wall time: 1.47 s,\n",
        "F1_Test: 0.81\n",
        "\n",
        "- GridSearchCV:\n",
        "Наилучшие значения гиперпараметров: {'max_depth': 20, 'min_samples_leaf': 3, 'n_estimators': 110},\n",
        "Wall time: 2min 11s,\n",
        "F1_Test: 0.83\n",
        "\n",
        "- RandomizedSearchCV:\n",
        "Наилучшие значения гиперпараметров: {'n_estimators': 70, 'min_samples_leaf': 3, 'max_depth': 35},\n",
        "Wall time: 34.8 s,\n",
        "F1_Test: 0.82\n",
        "\n",
        "- Hyperopt:\n",
        "Наилучшие значения гиперпараметров {'max_depth': 15.0, 'min_samples_leaf': 4.0, 'n_estimators': 200.0},\n",
        "Wall time: 2min 24s,\n",
        "F1_Test: 0.83\n",
        "\n",
        "- Optuna:\n",
        "Наилучшие значения гиперпараметров {'n_estimators': 120, 'max_depth': 20, 'min_samples_leaf': 3},\n",
        "Wall time: 2min 36s,\n",
        "F1_Test: 0.83"
      ]
    },
    {
      "attachments": {},
      "cell_type": "markdown",
      "id": "GN2xZeCIgoss",
      "metadata": {
        "id": "GN2xZeCIgoss"
      },
      "source": [
        "У модели случайный лес в результате подбора гиперпараметров удалось улучшить метрику с помощью всех методов оптимизации, у RandomizedSearchCV чуть ниже, но при повторном прогоне метрики сравниваются. По времени лучше всего справился RandomizedSearchCV - за 34,8 секунд, дольше всех (незначительно) - Optuna, за 2мин 36сек.\n",
        "\n",
        "У модели логистическая регрессия только метод оптимизации Optuna улучшил метрику на 1%, но при повторном прогоне метрики сравниваются. По времени лучше всех справился RandomizedSearchCV (как и у случайного леса) - 2 мин 40 сек, дольше всех - GridSearchCV, 7 мин 9сек.\n",
        "Из минусов - у продвинутых методов оптимизации нельзя задать пространство поиска гиперпараметров в виде нескольких словарей для логистической регрессии, в результате чего время подбора гиперпараметров увеличивается.\n",
        "\n",
        "Что интересно, разные методы оптимизации выдают разные гиперпараметры для одной модели."
      ]
    },
    {
      "attachments": {},
      "cell_type": "markdown",
      "id": "WSmMfXTRllnj",
      "metadata": {
        "id": "WSmMfXTRllnj"
      },
      "source": [
        "Считаю лучшим методом для подбора гиперпараметров - RandomizedSearchCV, т.к. при разных прогонах расчета метрики сравниваются, а времени данный метод расходует меньше всего, как для расчета, так и для написания кода."
      ]
    }
  ],
  "metadata": {
    "colab": {
      "provenance": [],
      "toc_visible": true
    },
    "kernelspec": {
      "display_name": "Python 3",
      "language": "python",
      "name": "python3"
    },
    "language_info": {
      "codemirror_mode": {
        "name": "ipython",
        "version": 3
      },
      "file_extension": ".py",
      "mimetype": "text/x-python",
      "name": "python",
      "nbconvert_exporter": "python",
      "pygments_lexer": "ipython3",
      "version": "3.11.0 (main, Oct 24 2022, 18:26:48) [MSC v.1933 64 bit (AMD64)]"
    },
    "vscode": {
      "interpreter": {
        "hash": "7bab66a6ae0d86577a0739d0af29436ef5cda160de5458e2cd6a4805d0a5881e"
      }
    }
  },
  "nbformat": 4,
  "nbformat_minor": 5
}
